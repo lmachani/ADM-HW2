{
 "cells": [
  {
   "cell_type": "markdown",
   "metadata": {},
   "source": [
    "# RQ1"
   ]
  },
  {
   "cell_type": "code",
   "execution_count": null,
   "metadata": {},
   "outputs": [],
   "source": [
    "import datetime as dt"
   ]
  },
  {
   "cell_type": "code",
   "execution_count": null,
   "metadata": {},
   "outputs": [],
   "source": [
    "import pandas as pd"
   ]
  },
  {
   "cell_type": "code",
   "execution_count": null,
   "metadata": {},
   "outputs": [],
   "source": [
    "# Get dataframe of boroughs\n",
    "\n",
    "df = pd.read_csv(\"taxi_zone_lookup.csv\")\n",
    "df"
   ]
  },
  {
   "cell_type": "code",
   "execution_count": null,
   "metadata": {},
   "outputs": [],
   "source": [
    "# Create dictionary of boroughs, and build the list of locations for each borough \n",
    "# (6 boroughs vs of 265 NY locations)\n",
    "\n",
    "dfdict = {'EWR': [], 'Queens': [], 'Bronx': [], 'Manhattan': [], 'Staten Island': [], 'Brooklyn': [], 'Unknown': []}\n",
    "\n",
    "for i in range(len(df)):    \n",
    "    dfdict[df[\"Borough\"][i]].append(df[\"LocationID\"][i])\n",
    "    \n",
    "del df"
   ]
  },
  {
   "cell_type": "markdown",
   "metadata": {},
   "source": [
    "# JANUARY"
   ]
  },
  {
   "cell_type": "code",
   "execution_count": null,
   "metadata": {},
   "outputs": [],
   "source": [
    "final_jan = keep_jan.copy()"
   ]
  },
  {
   "cell_type": "code",
   "execution_count": null,
   "metadata": {
    "scrolled": true
   },
   "outputs": [],
   "source": [
    "# count daily trips based on pickup datetime\n",
    "# count total trips based on location\n",
    "\n",
    "date_time_col = final_jan['tpep_pickup_datetime']\n",
    "location_col = final_jan['PULocationID']\n",
    "\n",
    "# create series \"final_jan_loc\", of counts by location\n",
    "# create series \"final_jan\", of daily counts\n",
    "\n",
    "final_jan_loc = location_col.groupby(location_col).count()\n",
    "final_jan = date_time_col.groupby(date_time_col.dt.day).count()\n",
    "final_jan"
   ]
  },
  {
   "cell_type": "code",
   "execution_count": null,
   "metadata": {},
   "outputs": [],
   "source": [
    "# compute mean \n",
    "\n",
    "mean1 = final_jan.mean()\n",
    "mean1"
   ]
  },
  {
   "cell_type": "code",
   "execution_count": null,
   "metadata": {},
   "outputs": [],
   "source": [
    "del final_jan"
   ]
  },
  {
   "cell_type": "code",
   "execution_count": null,
   "metadata": {},
   "outputs": [],
   "source": [
    "# count total number of trips for each borough\n",
    "\n",
    "# this dictionary contains the count for each borough\n",
    "\n",
    "borough_count = {'EWR': 0, 'Queens': 0, 'Bronx': 0, 'Manhattan': 0, 'Staten Island': 0, 'Brooklyn': 0, 'Unknown': 0}\n",
    "\n",
    "# for every total count in final_jan_loc, get the corresponding LocationID, check to what borough it belongs, and \n",
    "# add the count for that location to the correct borough\n",
    "\n",
    "for i in range(1, len(final_jan_loc)):\n",
    "    LocationID = final_jan_loc.index[i]\n",
    "    for borough in dfdict:\n",
    "        if LocationID in dfdict[borough]:\n",
    "            borough_count[borough] = borough_count[borough] + int(final_jan_loc[LocationID])\n",
    "            \n",
    "borough_count"
   ]
  },
  {
   "cell_type": "code",
   "execution_count": null,
   "metadata": {},
   "outputs": [],
   "source": [
    "del final_jan_loc"
   ]
  },
  {
   "cell_type": "code",
   "execution_count": null,
   "metadata": {},
   "outputs": [],
   "source": [
    "# compute means from total counts (for every borough)\n",
    "\n",
    "for borough in borough_count:\n",
    "    \n",
    "    # divide by the number of days in the month\n",
    "    \n",
    "    borough_count[borough] = borough_count[borough]/31\n",
    "    \n",
    "borough_count"
   ]
  },
  {
   "cell_type": "code",
   "execution_count": null,
   "metadata": {},
   "outputs": [],
   "source": [
    "# Convert list of boroughs and list of daily means to DataFrame\n",
    "\n",
    "df_borough = pd.DataFrame(list(borough_count.keys()), columns = [\"Borough\"])\n",
    "df_means = pd.DataFrame(list(borough_count.values()), columns = [\"Daily mean\"])\n",
    "merge = df_borough.join(df_means)\n",
    "merge"
   ]
  },
  {
   "cell_type": "code",
   "execution_count": null,
   "metadata": {},
   "outputs": [],
   "source": [
    "# Plot an histogram\n",
    "\n",
    "barplot = merge.plot(x=\"Borough\", y=\"Daily mean\", kind='bar', figsize = (15, 6), fontsize = 12)"
   ]
  },
  {
   "cell_type": "markdown",
   "metadata": {},
   "source": [
    "# FEBRUARY"
   ]
  },
  {
   "cell_type": "code",
   "execution_count": null,
   "metadata": {},
   "outputs": [],
   "source": [
    "final_feb = keep_feb.copy()"
   ]
  },
  {
   "cell_type": "code",
   "execution_count": null,
   "metadata": {
    "scrolled": true
   },
   "outputs": [],
   "source": [
    "date_time_col = final_feb['tpep_pickup_datetime']\n",
    "location_col = final_feb['PULocationID']\n",
    "\n",
    "final_feb_loc = location_col.groupby(location_col).count()\n",
    "final_feb = date_time_col.groupby(date_time_col.dt.day).count()\n",
    "final_feb"
   ]
  },
  {
   "cell_type": "code",
   "execution_count": null,
   "metadata": {},
   "outputs": [],
   "source": [
    "mean2 = final_feb.mean()\n",
    "mean2"
   ]
  },
  {
   "cell_type": "code",
   "execution_count": null,
   "metadata": {},
   "outputs": [],
   "source": [
    "del final_feb"
   ]
  },
  {
   "cell_type": "code",
   "execution_count": null,
   "metadata": {},
   "outputs": [],
   "source": [
    "borough_count = {'EWR': 0, 'Queens': 0, 'Bronx': 0, 'Manhattan': 0, 'Staten Island': 0, 'Brooklyn': 0, 'Unknown': 0}\n",
    "\n",
    "for i in range(1, len(final_feb_loc)):\n",
    "    LocationID = final_feb_loc.index[i]\n",
    "    for borough in dfdict:\n",
    "        if LocationID in dfdict[borough]:\n",
    "            borough_count[borough] = borough_count[borough] + int(final_feb_loc[LocationID])\n",
    "            \n",
    "borough_count"
   ]
  },
  {
   "cell_type": "code",
   "execution_count": null,
   "metadata": {},
   "outputs": [],
   "source": [
    "del final_feb_loc"
   ]
  },
  {
   "cell_type": "code",
   "execution_count": null,
   "metadata": {},
   "outputs": [],
   "source": [
    "for borough in borough_count:    \n",
    "    borough_count[borough] = borough_count[borough]/28\n",
    "    \n",
    "borough_count"
   ]
  },
  {
   "cell_type": "code",
   "execution_count": null,
   "metadata": {},
   "outputs": [],
   "source": [
    "df_borough = pd.DataFrame(list(borough_count.keys()), columns = [\"Borough\"])\n",
    "df_means = pd.DataFrame(list(borough_count.values()), columns = [\"Daily mean\"])\n",
    "merge = df_borough.join(df_means)\n",
    "merge"
   ]
  },
  {
   "cell_type": "code",
   "execution_count": null,
   "metadata": {},
   "outputs": [],
   "source": [
    "# Plot an histogram\n",
    "\n",
    "barplot = merge.plot(x=\"Borough\", y=\"Daily mean\", kind='bar', figsize = (15, 6), fontsize = 12)"
   ]
  },
  {
   "cell_type": "markdown",
   "metadata": {},
   "source": [
    "# MARCH"
   ]
  },
  {
   "cell_type": "code",
   "execution_count": null,
   "metadata": {},
   "outputs": [],
   "source": [
    "final_mar = keep_mar.copy()"
   ]
  },
  {
   "cell_type": "code",
   "execution_count": null,
   "metadata": {
    "scrolled": true
   },
   "outputs": [],
   "source": [
    "date_time_col = final_mar['tpep_pickup_datetime']\n",
    "location_col = final_mar['PULocationID']\n",
    "\n",
    "final_mar_loc = location_col.groupby(location_col).count()\n",
    "final_mar = date_time_col.groupby(date_time_col.dt.day).count()\n",
    "final_mar"
   ]
  },
  {
   "cell_type": "code",
   "execution_count": null,
   "metadata": {},
   "outputs": [],
   "source": [
    "mean3 = final_mar.mean()\n",
    "mean3"
   ]
  },
  {
   "cell_type": "code",
   "execution_count": null,
   "metadata": {},
   "outputs": [],
   "source": [
    "del final_mar"
   ]
  },
  {
   "cell_type": "code",
   "execution_count": null,
   "metadata": {},
   "outputs": [],
   "source": [
    "borough_count = {'EWR': 0, 'Queens': 0, 'Bronx': 0, 'Manhattan': 0, 'Staten Island': 0, 'Brooklyn': 0, 'Unknown': 0}\n",
    "\n",
    "for i in range(1, len(final_mar_loc)):\n",
    "    LocationID = final_mar_loc.index[i]\n",
    "    for borough in dfdict:\n",
    "        if LocationID in dfdict[borough]:\n",
    "            borough_count[borough] = borough_count[borough] + int(final_mar_loc[LocationID])\n",
    "            \n",
    "borough_count"
   ]
  },
  {
   "cell_type": "code",
   "execution_count": null,
   "metadata": {},
   "outputs": [],
   "source": [
    "del final_mar_loc"
   ]
  },
  {
   "cell_type": "code",
   "execution_count": null,
   "metadata": {},
   "outputs": [],
   "source": [
    "for borough in borough_count:    \n",
    "    borough_count[borough] = borough_count[borough]/31\n",
    "    \n",
    "borough_count"
   ]
  },
  {
   "cell_type": "code",
   "execution_count": null,
   "metadata": {},
   "outputs": [],
   "source": [
    "df_borough = pd.DataFrame(list(borough_count.keys()), columns = [\"Borough\"])\n",
    "df_means = pd.DataFrame(list(borough_count.values()), columns = [\"Daily mean\"])\n",
    "merge = df_borough.join(df_means)\n",
    "merge"
   ]
  },
  {
   "cell_type": "code",
   "execution_count": null,
   "metadata": {},
   "outputs": [],
   "source": [
    "# Plot an histogram\n",
    "\n",
    "barplot = merge.plot(x=\"Borough\", y=\"Daily mean\", kind='bar', figsize = (15, 6), fontsize = 12)"
   ]
  },
  {
   "cell_type": "markdown",
   "metadata": {},
   "source": [
    "# APRIL"
   ]
  },
  {
   "cell_type": "code",
   "execution_count": null,
   "metadata": {},
   "outputs": [],
   "source": [
    "final_apr = keep_apr.copy()"
   ]
  },
  {
   "cell_type": "code",
   "execution_count": null,
   "metadata": {
    "scrolled": true
   },
   "outputs": [],
   "source": [
    "date_time_col = final_apr['tpep_pickup_datetime']\n",
    "location_col = final_apr['PULocationID']\n",
    "\n",
    "final_apr_loc = location_col.groupby(location_col).count()\n",
    "final_apr = date_time_col.groupby(date_time_col.dt.day).count()\n",
    "final_apr"
   ]
  },
  {
   "cell_type": "code",
   "execution_count": null,
   "metadata": {},
   "outputs": [],
   "source": [
    "mean4 = final_apr.mean()\n",
    "mean4"
   ]
  },
  {
   "cell_type": "code",
   "execution_count": null,
   "metadata": {},
   "outputs": [],
   "source": [
    "del final_apr"
   ]
  },
  {
   "cell_type": "code",
   "execution_count": null,
   "metadata": {},
   "outputs": [],
   "source": [
    "borough_count = {'EWR': 0, 'Queens': 0, 'Bronx': 0, 'Manhattan': 0, 'Staten Island': 0, 'Brooklyn': 0, 'Unknown': 0}\n",
    "\n",
    "for i in range(1, len(final_apr_loc)):\n",
    "    LocationID = final_apr_loc.index[i]\n",
    "    for borough in dfdict:\n",
    "        if LocationID in dfdict[borough]:\n",
    "            borough_count[borough] = borough_count[borough] + int(final_apr_loc[LocationID])\n",
    "            \n",
    "borough_count"
   ]
  },
  {
   "cell_type": "code",
   "execution_count": null,
   "metadata": {},
   "outputs": [],
   "source": [
    "del final_apr_loc"
   ]
  },
  {
   "cell_type": "code",
   "execution_count": null,
   "metadata": {},
   "outputs": [],
   "source": [
    "for borough in borough_count:    \n",
    "    borough_count[borough] = borough_count[borough]/30\n",
    "    \n",
    "borough_count"
   ]
  },
  {
   "cell_type": "code",
   "execution_count": null,
   "metadata": {},
   "outputs": [],
   "source": [
    "df_borough = pd.DataFrame(list(borough_count.keys()), columns = [\"Borough\"])\n",
    "df_means = pd.DataFrame(list(borough_count.values()), columns = [\"Daily mean\"])\n",
    "merge = df_borough.join(df_means)\n",
    "merge"
   ]
  },
  {
   "cell_type": "code",
   "execution_count": null,
   "metadata": {},
   "outputs": [],
   "source": [
    "# Plot an histogram\n",
    "\n",
    "barplot = merge.plot(x=\"Borough\", y=\"Daily mean\", kind='bar', figsize = (15, 6), fontsize = 12)"
   ]
  },
  {
   "cell_type": "markdown",
   "metadata": {},
   "source": [
    "# MAY"
   ]
  },
  {
   "cell_type": "code",
   "execution_count": null,
   "metadata": {},
   "outputs": [],
   "source": [
    "final_may = keep_may.copy()"
   ]
  },
  {
   "cell_type": "code",
   "execution_count": null,
   "metadata": {
    "scrolled": true
   },
   "outputs": [],
   "source": [
    "date_time_col = final_may['tpep_pickup_datetime']\n",
    "location_col = final_may['PULocationID']\n",
    "\n",
    "final_may_loc = location_col.groupby(location_col).count()\n",
    "final_may = date_time_col.groupby(date_time_col.dt.day).count()\n",
    "final_may"
   ]
  },
  {
   "cell_type": "code",
   "execution_count": null,
   "metadata": {},
   "outputs": [],
   "source": [
    "mean5 = final_may.mean()\n",
    "mean5"
   ]
  },
  {
   "cell_type": "code",
   "execution_count": null,
   "metadata": {},
   "outputs": [],
   "source": [
    "del final_may"
   ]
  },
  {
   "cell_type": "code",
   "execution_count": null,
   "metadata": {},
   "outputs": [],
   "source": [
    "borough_count = {'EWR': 0, 'Queens': 0, 'Bronx': 0, 'Manhattan': 0, 'Staten Island': 0, 'Brooklyn': 0, 'Unknown': 0}\n",
    "\n",
    "for i in range(1, len(final_may_loc)):\n",
    "    LocationID = final_may_loc.index[i]\n",
    "    for borough in dfdict:\n",
    "        if LocationID in dfdict[borough]:\n",
    "            borough_count[borough] = borough_count[borough] + int(final_may_loc[LocationID])\n",
    "            \n",
    "borough_count"
   ]
  },
  {
   "cell_type": "code",
   "execution_count": null,
   "metadata": {},
   "outputs": [],
   "source": [
    "del final_may_loc"
   ]
  },
  {
   "cell_type": "code",
   "execution_count": null,
   "metadata": {},
   "outputs": [],
   "source": [
    "for borough in borough_count:\n",
    "    borough_count[borough] = borough_count[borough]/31\n",
    "    \n",
    "borough_count"
   ]
  },
  {
   "cell_type": "code",
   "execution_count": null,
   "metadata": {},
   "outputs": [],
   "source": [
    "df_borough = pd.DataFrame(list(borough_count.keys()), columns = [\"Borough\"])\n",
    "df_means = pd.DataFrame(list(borough_count.values()), columns = [\"Daily mean\"])\n",
    "merge = df_borough.join(df_means)\n",
    "merge"
   ]
  },
  {
   "cell_type": "code",
   "execution_count": null,
   "metadata": {},
   "outputs": [],
   "source": [
    "# Plot an histogram\n",
    "\n",
    "barplot = merge.plot(x=\"Borough\", y=\"Daily mean\", kind='bar', figsize = (15, 6), fontsize = 12)"
   ]
  },
  {
   "cell_type": "markdown",
   "metadata": {},
   "source": [
    "# JUNE"
   ]
  },
  {
   "cell_type": "code",
   "execution_count": null,
   "metadata": {
    "scrolled": true
   },
   "outputs": [],
   "source": [
    "date_columns = ['tpep_pickup_datetime', 'tpep_dropoff_datetime']\n",
    "df6 = pd.read_csv('yellow_tripdata_2018-06.csv', usecols = ['tpep_pickup_datetime', 'tpep_dropoff_datetime', 'PULocationID'], parse_dates = date_columns)\n",
    "df6"
   ]
  },
  {
   "cell_type": "code",
   "execution_count": null,
   "metadata": {
    "scrolled": true
   },
   "outputs": [],
   "source": [
    "date_time_col = final_june['tpep_pickup_datetime']\n",
    "location_col = final_june['PULocationID']\n",
    "\n",
    "final_june_loc = location_col.groupby(location_col).count()\n",
    "final_june = date_time_col.groupby(date_time_col.dt.day).count()\n",
    "final_june"
   ]
  },
  {
   "cell_type": "code",
   "execution_count": null,
   "metadata": {},
   "outputs": [],
   "source": [
    "mean6 = final_june.mean()\n",
    "mean6"
   ]
  },
  {
   "cell_type": "code",
   "execution_count": null,
   "metadata": {},
   "outputs": [],
   "source": [
    "del final_june"
   ]
  },
  {
   "cell_type": "code",
   "execution_count": null,
   "metadata": {},
   "outputs": [],
   "source": [
    "borough_count = {'EWR': 0, 'Queens': 0, 'Bronx': 0, 'Manhattan': 0, 'Staten Island': 0, 'Brooklyn': 0, 'Unknown': 0}\n",
    "\n",
    "for i in range(1, len(final_june_loc)):\n",
    "    LocationID = final_june_loc.index[i]\n",
    "    for borough in dfdict:\n",
    "        if LocationID in dfdict[borough]:\n",
    "            borough_count[borough] = borough_count[borough] + int(final_june_loc[LocationID])\n",
    "            \n",
    "borough_count"
   ]
  },
  {
   "cell_type": "code",
   "execution_count": null,
   "metadata": {},
   "outputs": [],
   "source": [
    "del final_june_loc"
   ]
  },
  {
   "cell_type": "code",
   "execution_count": null,
   "metadata": {},
   "outputs": [],
   "source": [
    "for borough in borough_count:\n",
    "    borough_count[borough] = borough_count[borough]/30\n",
    "    \n",
    "borough_count"
   ]
  },
  {
   "cell_type": "code",
   "execution_count": null,
   "metadata": {},
   "outputs": [],
   "source": [
    "df_borough = pd.DataFrame(list(borough_count.keys()), columns = [\"Borough\"])\n",
    "df_means = pd.DataFrame(list(borough_count.values()), columns = [\"Daily mean\"])\n",
    "merge = df_borough.join(df_means)\n",
    "merge"
   ]
  },
  {
   "cell_type": "code",
   "execution_count": null,
   "metadata": {},
   "outputs": [],
   "source": [
    "# Plot an histogram\n",
    "\n",
    "barplot = merge.plot(x=\"Borough\", y=\"Daily mean\", kind='bar', figsize = (15, 6), fontsize = 12)"
   ]
  },
  {
   "cell_type": "markdown",
   "metadata": {},
   "source": [
    "# OVERALL NY ANALYSIS"
   ]
  },
  {
   "cell_type": "code",
   "execution_count": null,
   "metadata": {},
   "outputs": [],
   "source": [
    "# build list of means\n",
    "\n",
    "l1 = [mean1, mean2, mean3, mean4, mean5, mean6]\n",
    "l1"
   ]
  },
  {
   "cell_type": "code",
   "execution_count": null,
   "metadata": {},
   "outputs": [],
   "source": [
    "df_mean = pd.DataFrame(l1, columns = ['daily average'])"
   ]
  },
  {
   "cell_type": "code",
   "execution_count": null,
   "metadata": {},
   "outputs": [],
   "source": [
    "df_mean"
   ]
  },
  {
   "cell_type": "code",
   "execution_count": null,
   "metadata": {},
   "outputs": [],
   "source": [
    "l2 = ['january', 'february', 'march', 'april', 'may', 'june']"
   ]
  },
  {
   "cell_type": "code",
   "execution_count": null,
   "metadata": {},
   "outputs": [],
   "source": [
    "df_month = pd.DataFrame(l2, columns = ['month'])"
   ]
  },
  {
   "cell_type": "code",
   "execution_count": null,
   "metadata": {},
   "outputs": [],
   "source": [
    "df_month"
   ]
  },
  {
   "cell_type": "code",
   "execution_count": null,
   "metadata": {},
   "outputs": [],
   "source": [
    "merge = df_month.join(df_mean)\n",
    "merge"
   ]
  },
  {
   "cell_type": "code",
   "execution_count": null,
   "metadata": {},
   "outputs": [],
   "source": [
    "barplot = merge.plot(x = 'month', y = 'daily average', kind = 'bar', figsize = (10, 6), fontsize = 12)"
   ]
  }
 ],
 "metadata": {
  "kernelspec": {
   "display_name": "Python 3",
   "language": "python",
   "name": "python3"
  },
  "language_info": {
   "codemirror_mode": {
    "name": "ipython",
    "version": 3
   },
   "file_extension": ".py",
   "mimetype": "text/x-python",
   "name": "python",
   "nbconvert_exporter": "python",
   "pygments_lexer": "ipython3",
   "version": "3.6.5"
  }
 },
 "nbformat": 4,
 "nbformat_minor": 2
}
