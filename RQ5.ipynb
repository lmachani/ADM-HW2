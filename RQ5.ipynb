{
 "cells": [
  {
   "cell_type": "markdown",
   "metadata": {},
   "source": [
    "# RQ5"
   ]
  },
  {
   "cell_type": "code",
   "execution_count": null,
   "metadata": {},
   "outputs": [],
   "source": [
    "import pandas as pd"
   ]
  },
  {
   "cell_type": "markdown",
   "metadata": {},
   "source": [
    "# January"
   ]
  },
  {
   "cell_type": "code",
   "execution_count": null,
   "metadata": {},
   "outputs": [],
   "source": [
    "final_jan = keep_jan.copy()"
   ]
  },
  {
   "cell_type": "code",
   "execution_count": null,
   "metadata": {
    "scrolled": true
   },
   "outputs": [],
   "source": [
    "# Filtering data having 0.01 miles < trip_distance < 100 miles\n",
    "# and trip_duration > 0 seconds\n",
    "\n",
    "final_jan = final_jan[final_jan['trip_distance'] >= 0.01]\n",
    "final_jan = final_jan[final_jan['trip_distance'] < 100]\n",
    "final_jan = final_jan[final_jan['trip_duration'] > 0]"
   ]
  },
  {
   "cell_type": "code",
   "execution_count": null,
   "metadata": {},
   "outputs": [],
   "source": [
    "keep_trip_distance_jan = final_jan.groupby(final_jan[\"trip_distance\"]).size()\n",
    "barplot = keep_trip_distance_jan.plot(use_index = True, y = \"trip_distance\", kind = \"bar\", figsize = (15, 8))"
   ]
  },
  {
   "cell_type": "code",
   "execution_count": null,
   "metadata": {},
   "outputs": [],
   "source": [
    "keep_trip_duration_jan = final_jan.groupby(final_jan[\"trip_duration\"]).size()\n",
    "barplot = keep_trip_duration_jan.plot(use_index = True, y = \"trip_duration\", kind = \"bar\", figsize = (15, 15))"
   ]
  },
  {
   "cell_type": "code",
   "execution_count": null,
   "metadata": {
    "scrolled": true
   },
   "outputs": [],
   "source": [
    "# Scatter Plot\n",
    "\n",
    "import matplotlib.pyplot as plt\n",
    "plt.scatter(final_jan['trip_duration'], final_jan['trip_distance'])\n",
    "plt.xlabel(\"Trip duration (seconds)\")\n",
    "plt.ylabel(\"Trip distance\")\n",
    "plt.figure(figsize=(20,10))\n",
    "plt.show()"
   ]
  },
  {
   "cell_type": "code",
   "execution_count": null,
   "metadata": {},
   "outputs": [],
   "source": [
    "# Pearson Coefficient\n",
    "\n",
    "from scipy.stats import pearsonr\n",
    "x = final_jan['trip_duration']\n",
    "y = final_jan['trip_distance']\n",
    "\n",
    "r,p = pearsonr(x,y)\n",
    "print(r)\n",
    "print(p)"
   ]
  },
  {
   "cell_type": "markdown",
   "metadata": {},
   "source": [
    "# February"
   ]
  },
  {
   "cell_type": "code",
   "execution_count": null,
   "metadata": {},
   "outputs": [],
   "source": [
    "final_feb = keep_feb.copy()"
   ]
  },
  {
   "cell_type": "code",
   "execution_count": null,
   "metadata": {
    "scrolled": true
   },
   "outputs": [],
   "source": [
    "# Filtering data having 0.01 miles < trip_distance < 100 miles\n",
    "# and trip_duration > 0 seconds\n",
    "\n",
    "final_feb = final_feb[final_feb['trip_distance'] >= 0.01]\n",
    "final_feb = final_feb[final_feb['trip_distance'] < 100]\n",
    "final_feb = final_feb[final_feb['trip_duration'] > 0]"
   ]
  },
  {
   "cell_type": "code",
   "execution_count": null,
   "metadata": {},
   "outputs": [],
   "source": [
    "keep_trip_distance_feb = final_feb.groupby(keep_geb[\"trip_distance\"]).size()\n",
    "barplot = keep_trip_distance_feb.plot(use_index = True, y = \"trip_distance\", kind = \"bar\", figsize = (15, 8))"
   ]
  },
  {
   "cell_type": "code",
   "execution_count": null,
   "metadata": {},
   "outputs": [],
   "source": [
    "keep_trip_duration_feb = final_feb.groupby(final_feb[\"trip_duration\"]).size()\n",
    "barplot = keep_trip_duration_feb.plot(use_index = True, y = \"trip_duration\", kind = \"bar\", figsize = (15, 15))"
   ]
  },
  {
   "cell_type": "code",
   "execution_count": null,
   "metadata": {
    "scrolled": true
   },
   "outputs": [],
   "source": [
    "# Scatter Plot\n",
    "\n",
    "import matplotlib.pyplot as plt\n",
    "plt.scatter(final_feb['trip_duration'], final_feb['trip_distance'])\n",
    "plt.xlabel(\"Trip duration (seconds)\")\n",
    "plt.ylabel(\"Trip distance\")\n",
    "plt.figure(figsize=(20,10))\n",
    "plt.show()"
   ]
  },
  {
   "cell_type": "code",
   "execution_count": null,
   "metadata": {},
   "outputs": [],
   "source": [
    "# Pearson Coefficient\n",
    "\n",
    "from scipy.stats import pearsonr\n",
    "x = final_feb['trip_duration']\n",
    "y = final_feb['trip_distance']\n",
    "\n",
    "r,p = pearsonr(x,y)\n",
    "print(r)\n",
    "print(p)"
   ]
  },
  {
   "cell_type": "markdown",
   "metadata": {},
   "source": [
    "# March"
   ]
  },
  {
   "cell_type": "code",
   "execution_count": null,
   "metadata": {},
   "outputs": [],
   "source": [
    "final_mar = keep_mar.copy()"
   ]
  },
  {
   "cell_type": "code",
   "execution_count": null,
   "metadata": {
    "scrolled": true
   },
   "outputs": [],
   "source": [
    "# Filtering data having 0.01 miles < trip_distance < 100 miles\n",
    "# and trip_duration > 0 seconds\n",
    "\n",
    "final_mar = final_mar[final_mar['trip_distance'] >= 0.01]\n",
    "final_mar = final_mar[final_mar['trip_distance'] < 100]\n",
    "final_mar = final_mar[final_mar['trip_duration'] > 0]"
   ]
  },
  {
   "cell_type": "code",
   "execution_count": null,
   "metadata": {},
   "outputs": [],
   "source": [
    "keep_trip_distance_mar = final_mar.groupby(final_mar[\"trip_distance\"]).size()\n",
    "barplot = keep_trip_distance_mar.plot(use_index = True, y = \"trip_distance\", kind = \"bar\", figsize = (15, 8))"
   ]
  },
  {
   "cell_type": "code",
   "execution_count": null,
   "metadata": {},
   "outputs": [],
   "source": [
    "keep_trip_duration_mar = final_mar.groupby(final_mar[\"trip_duration\"]).size()\n",
    "barplot = keep_trip_duration_mar.plot(use_index = True, y = \"trip_duration\", kind = \"bar\", figsize = (15, 15))"
   ]
  },
  {
   "cell_type": "code",
   "execution_count": null,
   "metadata": {
    "scrolled": true
   },
   "outputs": [],
   "source": [
    "# Scatter Plot\n",
    "\n",
    "import matplotlib.pyplot as plt\n",
    "plt.scatter(final_mar['trip_duration'], final_mar['trip_distance'])\n",
    "plt.xlabel(\"Trip duration (seconds)\")\n",
    "plt.ylabel(\"Trip distance\")\n",
    "plt.figure(figsize=(20,10))\n",
    "plt.show()"
   ]
  },
  {
   "cell_type": "code",
   "execution_count": null,
   "metadata": {},
   "outputs": [],
   "source": [
    "# Pearson Coefficient\n",
    "\n",
    "from scipy.stats import pearsonr\n",
    "x = final_mar['trip_duration']\n",
    "y = final_mar['trip_distance']\n",
    "\n",
    "r,p = pearsonr(x,y)\n",
    "print(r)\n",
    "print(p)"
   ]
  },
  {
   "cell_type": "markdown",
   "metadata": {},
   "source": [
    "# April"
   ]
  },
  {
   "cell_type": "code",
   "execution_count": null,
   "metadata": {},
   "outputs": [],
   "source": [
    "final_apr = keep_apr.copy()"
   ]
  },
  {
   "cell_type": "code",
   "execution_count": null,
   "metadata": {
    "scrolled": true
   },
   "outputs": [],
   "source": [
    "# Filtering data having 0.01 miles < trip_distance < 100 miles\n",
    "# and trip_duration > 0 seconds\n",
    "\n",
    "final_apr = final_apr[final_apr['trip_distance'] >= 0.01]\n",
    "final_apr = final_apr[final_apr['trip_distance'] < 100]\n",
    "final_apr = final_apr[final_apr['trip_duration'] > 0]"
   ]
  },
  {
   "cell_type": "code",
   "execution_count": null,
   "metadata": {},
   "outputs": [],
   "source": [
    "keep_trip_distance_apr = final_apr.groupby(final_apr[\"trip_distance\"]).size()\n",
    "barplot = keep_trip_distance_apr.plot(use_index = True, y = \"trip_distance\", kind = \"bar\", figsize = (15, 8))"
   ]
  },
  {
   "cell_type": "code",
   "execution_count": null,
   "metadata": {},
   "outputs": [],
   "source": [
    "keep_trip_duration_apr = final_apr.groupby(final_apr[\"trip_duration\"]).size()\n",
    "barplot = keep_trip_duration_apr.plot(use_index = True, y = \"trip_duration\", kind = \"bar\", figsize = (15, 15))"
   ]
  },
  {
   "cell_type": "code",
   "execution_count": null,
   "metadata": {
    "scrolled": true
   },
   "outputs": [],
   "source": [
    "# Scatter Plot\n",
    "\n",
    "import matplotlib.pyplot as plt\n",
    "plt.scatter(final_apr['trip_duration'], final_apr['trip_distance'])\n",
    "plt.xlabel(\"Trip duration (seconds)\")\n",
    "plt.ylabel(\"Trip distance\")\n",
    "plt.figure(figsize=(20,10))\n",
    "plt.show()"
   ]
  },
  {
   "cell_type": "code",
   "execution_count": null,
   "metadata": {},
   "outputs": [],
   "source": [
    "# Pearson Coefficient\n",
    "\n",
    "from scipy.stats import pearsonr\n",
    "x = final_apr['trip_duration']\n",
    "y = final_apr['trip_distance']\n",
    "\n",
    "r,p = pearsonr(x,y)\n",
    "print(r)\n",
    "print(p)"
   ]
  },
  {
   "cell_type": "markdown",
   "metadata": {},
   "source": [
    "# May"
   ]
  },
  {
   "cell_type": "code",
   "execution_count": null,
   "metadata": {},
   "outputs": [],
   "source": [
    "final_may = keep_may.copy()"
   ]
  },
  {
   "cell_type": "code",
   "execution_count": null,
   "metadata": {
    "scrolled": true
   },
   "outputs": [],
   "source": [
    "# Filtering data having 0.01 miles < trip_distance < 100 miles\n",
    "# and trip_duration > 0 seconds\n",
    "\n",
    "final_may = final_may[final_may['trip_distance'] >= 0.01]\n",
    "final_may = final_may[final_may['trip_distance'] < 100]\n",
    "final_may = final_may[final_may['trip_duration'] > 0]"
   ]
  },
  {
   "cell_type": "code",
   "execution_count": null,
   "metadata": {},
   "outputs": [],
   "source": [
    "keep_trip_distance_may = final_may.groupby(final_may[\"trip_distance\"]).size()\n",
    "barplot = keep_trip_distance_may.plot(use_index = True, y = \"trip_distance\", kind = \"bar\", figsize = (15, 8))"
   ]
  },
  {
   "cell_type": "code",
   "execution_count": null,
   "metadata": {},
   "outputs": [],
   "source": [
    "keep_trip_duration_may = final_may.groupby(final_may[\"trip_duration\"]).size()\n",
    "barplot = keep_trip_duration_may.plot(use_index = True, y = \"trip_duration\", kind = \"bar\", figsize = (15, 15))"
   ]
  },
  {
   "cell_type": "code",
   "execution_count": null,
   "metadata": {
    "scrolled": true
   },
   "outputs": [],
   "source": [
    "# Scatter Plot\n",
    "\n",
    "import matplotlib.pyplot as plt\n",
    "plt.scatter(final_may['trip_duration'], final_may['trip_distance'])\n",
    "plt.xlabel(\"Trip duration (seconds)\")\n",
    "plt.ylabel(\"Trip distance\")\n",
    "plt.figure(figsize=(20,10))\n",
    "plt.show()"
   ]
  },
  {
   "cell_type": "code",
   "execution_count": null,
   "metadata": {},
   "outputs": [],
   "source": [
    "# Pearson Coefficient\n",
    "\n",
    "from scipy.stats import pearsonr\n",
    "x = final_may['trip_duration']\n",
    "y = final_may['trip_distance']\n",
    "\n",
    "r,p = pearsonr(x,y)\n",
    "print(r)\n",
    "print(p)"
   ]
  },
  {
   "cell_type": "markdown",
   "metadata": {},
   "source": [
    "# June"
   ]
  },
  {
   "cell_type": "code",
   "execution_count": null,
   "metadata": {},
   "outputs": [],
   "source": [
    "final_jun = keep_jun.copy()"
   ]
  },
  {
   "cell_type": "code",
   "execution_count": null,
   "metadata": {
    "scrolled": true
   },
   "outputs": [],
   "source": [
    "# Filtering data having 0.01 miles < trip_distance < 100 miles\n",
    "# and trip_duration > 0 seconds\n",
    "\n",
    "final_jun = final_jun[final_jun['trip_distance'] >= 0.01]\n",
    "final_jun = final_jun[final_jun['trip_distance'] < 100]\n",
    "final_jun = final_jun[final_jun['trip_duration'] > 0]"
   ]
  },
  {
   "cell_type": "code",
   "execution_count": null,
   "metadata": {},
   "outputs": [],
   "source": [
    "keep_trip_distance_jun = final_jun.groupby(final_jun[\"trip_distance\"]).size()\n",
    "barplot = keep_trip_distance_jun.plot(use_index = True, y = \"trip_distance\", kind = \"bar\", figsize = (15, 8))"
   ]
  },
  {
   "cell_type": "code",
   "execution_count": null,
   "metadata": {},
   "outputs": [],
   "source": [
    "keep_trip_duration_jun = final_jun.groupby(final_jun[\"trip_duration\"]).size()\n",
    "barplot = keep_trip_duration_jun.plot(use_index = True, y = \"trip_duration\", kind = \"bar\", figsize = (15, 15))"
   ]
  },
  {
   "cell_type": "code",
   "execution_count": null,
   "metadata": {
    "scrolled": true
   },
   "outputs": [],
   "source": [
    "# Scatter Plot\n",
    "\n",
    "import matplotlib.pyplot as plt\n",
    "plt.scatter(final_jun['trip_duration'], final_jun['trip_distance'])\n",
    "plt.xlabel(\"Trip duration (seconds)\")\n",
    "plt.ylabel(\"Trip distance\")\n",
    "plt.figure(figsize=(20,10))\n",
    "plt.show()"
   ]
  },
  {
   "cell_type": "code",
   "execution_count": null,
   "metadata": {},
   "outputs": [],
   "source": [
    "# Pearson Coefficient\n",
    "\n",
    "from scipy.stats import pearsonr\n",
    "x = final_jun['trip_duration']\n",
    "y = final_jun['trip_distance']\n",
    "\n",
    "r,p = pearsonr(x,y)\n",
    "print(r)\n",
    "print(p)"
   ]
  }
 ],
 "metadata": {
  "kernelspec": {
   "display_name": "Python 3",
   "language": "python",
   "name": "python3"
  },
  "language_info": {
   "codemirror_mode": {
    "name": "ipython",
    "version": 3
   },
   "file_extension": ".py",
   "mimetype": "text/x-python",
   "name": "python",
   "nbconvert_exporter": "python",
   "pygments_lexer": "ipython3",
   "version": "3.6.5"
  }
 },
 "nbformat": 4,
 "nbformat_minor": 2
}
