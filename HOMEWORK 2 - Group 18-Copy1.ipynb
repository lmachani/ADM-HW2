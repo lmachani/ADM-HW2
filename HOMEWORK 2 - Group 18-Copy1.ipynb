{
 "cells": [
  {
   "cell_type": "markdown",
   "metadata": {},
   "source": [
    "# HW 2 - _Group 18_ - HOW DO TAXIS MOVE IN NYC?"
   ]
  },
  {
   "cell_type": "markdown",
   "metadata": {},
   "source": [
    "In this assignment we have to conduct an analysis of Yellow Cab Taxis in NYC. In particular, we have answered to some specific research questions (**RQs**) and core research questions (**CRQs**). The first step is read the homework questions and then download data of Taxi's trips in NYC from _www.nyc.gov_.\n",
    "\n",
    "The data are divided in months (from January to June 2018). Each month contains around 9.000.000 Taxi's trips, so, due to the size of the files, we have worked with _**Pandas library**_, which is useful to manipulate huge numerical tables and time series. We decided to focus on a single month, performing all our analysis over a single dataset, and then repeated the same analysis on the other months. At the end of each question we have combined and motiveted the results obtained. \n",
    "\n",
    "After a first look to the yallow cab data, we realised that lots of data were incorrect or in the wrong month.\n",
    "We decided therefore to delete all the mistakes in accordance with the required assignment questions. We've analyzed these column indexes:\n",
    "- **tpep_pickup_datetime**: the date and time when the meter was engaged;\n",
    "- **tpep_dropoff_datetime**: The date and time when the meter was disengaged;\n",
    "- **passenger_count**: the number of passengers in the vehicle;\n",
    "- **trip_distance**: the elapsed trip distance in miles reported by the taximeter;\n",
    "- **PULocationID**: TLC Taxi Zone in which the taximeter was engaged;\n",
    "- **DOLocationID**: TLC Taxi Zone in which the taximeter was disengaged."
   ]
  },
  {
   "cell_type": "markdown",
   "metadata": {},
   "source": [
    "## Homework 2"
   ]
  },
  {
   "cell_type": "markdown",
   "metadata": {},
   "source": [
    "First of all we have to import:\n",
    "- _**date time module**_: to manipulate dates and times in DataFrame;\n",
    "- _**pandas library**_: to generate and analize data frames.\n",
    "- _**numpy library**_: to operate with mathematical functions and multi-dimensional arrays."
   ]
  },
  {
   "cell_type": "code",
   "execution_count": 1,
   "metadata": {},
   "outputs": [],
   "source": [
    "import datetime as dt\n",
    "\n",
    "import pandas as pd\n",
    "\n",
    "import numpy as np"
   ]
  },
  {
   "cell_type": "markdown",
   "metadata": {},
   "source": [
    "## Taxi Zone"
   ]
  },
  {
   "cell_type": "markdown",
   "metadata": {},
   "source": [
    "Before cleaning data, we create the DataFrame of ***taxi _zone_lookup*** file, which contains all LocationID and Borough of NYC. \n",
    "\n",
    "Then, we create a dictionary (***dfdict***) of boroughs, and build the list of locations for each borough (6 boroughs vs of 265 NY locations)."
   ]
  },
  {
   "cell_type": "code",
   "execution_count": 2,
   "metadata": {},
   "outputs": [],
   "source": [
    "df = pd.read_csv(\"taxi _zone_lookup.csv\")\n",
    "\n",
    "dfdict = {'EWR': [], 'Queens': [], 'Bronx': [], 'Manhattan': [], 'Staten Island': [], 'Brooklyn': [], 'Unknown': []}\n",
    "\n",
    "for i in range(len(df)):    \n",
    "    dfdict[df[\"Borough\"][i]].append(df[\"LocationID\"][i])"
   ]
  },
  {
   "cell_type": "markdown",
   "metadata": {},
   "source": [
    "## Cleaning Data"
   ]
  },
  {
   "cell_type": "markdown",
   "metadata": {},
   "source": [
    "\n",
    "Now, for each month, we read and clean all the DataFrames specifying the column indexes that we want to analyze.\n",
    "\n",
    "Also, we use ***parse_dates = date_columns*** to return the entire columns unaltered as an object data type."
   ]
  },
  {
   "cell_type": "markdown",
   "metadata": {},
   "source": [
    "### January"
   ]
  },
  {
   "cell_type": "code",
   "execution_count": 3,
   "metadata": {
    "scrolled": true
   },
   "outputs": [],
   "source": [
    "date_columns = ['tpep_pickup_datetime', 'tpep_dropoff_datetime']\n",
    "df1 = pd.read_csv('yellow_tripdata_2018-01.csv', usecols = ['tpep_pickup_datetime', 'tpep_dropoff_datetime', 'PULocationID', 'DOLocationID', 'passenger_count', 'trip_distance'], parse_dates = date_columns)"
   ]
  },
  {
   "cell_type": "markdown",
   "metadata": {},
   "source": [
    "To verify the correct transformation of *pickup datetime* and *dropoff datetime* we use ***type()***:"
   ]
  },
  {
   "cell_type": "code",
   "execution_count": 4,
   "metadata": {},
   "outputs": [
    {
     "data": {
      "text/plain": [
       "pandas._libs.tslibs.timestamps.Timestamp"
      ]
     },
     "execution_count": 4,
     "metadata": {},
     "output_type": "execute_result"
    }
   ],
   "source": [
    "type(df1.tpep_pickup_datetime[0])\n",
    "\n",
    "type(df1.tpep_dropoff_datetime[0])"
   ]
  },
  {
   "cell_type": "markdown",
   "metadata": {},
   "source": [
    "In each month we notice some errors about year and months. In this case, for January DataFrame (df1), we have to consider only 2018 and the month 1 (january). So, we delete, in *pickup datetime* and *dropoff datetime*, all rows with a different year and/or month.  "
   ]
  },
  {
   "cell_type": "code",
   "execution_count": 5,
   "metadata": {},
   "outputs": [],
   "source": [
    "keep = df1[df1['tpep_pickup_datetime'].dt.year == 2018]\n",
    "\n",
    "keep = keep[keep['tpep_pickup_datetime'].dt.month == 1]\n",
    "\n",
    "keep = keep[keep['tpep_dropoff_datetime'].dt.year == 2018]\n",
    "keep = keep[keep['tpep_dropoff_datetime'].dt.month == 1]"
   ]
  },
  {
   "cell_type": "markdown",
   "metadata": {},
   "source": [
    "Moreover, we've found errors in days and hours. Infact, if we have only 2018 and january in both datetime columns, the *pickup day* cannot be a following day of *dropoff day*; this is impossible. *Pickup day* can be equal to *dropoff day* or can be one day/few days before of *dropoff day*. If the *pickup day* and *dropoff day* are the same, *pickup time* (h.min.sec) must be lower than *dropoff time*."
   ]
  },
  {
   "cell_type": "code",
   "execution_count": 6,
   "metadata": {},
   "outputs": [],
   "source": [
    "keep1 = keep[keep['tpep_pickup_datetime'].dt.day == keep['tpep_dropoff_datetime'].dt.day]\n",
    "\n",
    "keep1 = keep1[keep1['tpep_pickup_datetime'].dt.time < keep1['tpep_dropoff_datetime'].dt.time]\n",
    "\n",
    "keep2 = keep[keep['tpep_pickup_datetime'].dt.day < keep['tpep_dropoff_datetime'].dt.day]"
   ]
  },
  {
   "cell_type": "markdown",
   "metadata": {},
   "source": [
    "Then, we concatenate on axis=0 the two conditions (*keep1* and *keep2*) to obtain the ***keep_jan*** dataframe cleaned by wrong dates."
   ]
  },
  {
   "cell_type": "code",
   "execution_count": 7,
   "metadata": {},
   "outputs": [],
   "source": [
    "keep_jan = pd.concat([keep1, keep2], axis=0)"
   ]
  },
  {
   "cell_type": "markdown",
   "metadata": {},
   "source": [
    "Also, we want to delete long trip's durations, because normally taxi's rides are quick enough. \n",
    "We've fixed a limit of 5 hours. \n",
    "\n",
    "To obtain ***trip_duration_january*** we subtract *pickup datetime* to *dropoff datetime*; then, to manipulate the hours, we use ***numpy*** to transform *'tpep_pickup_datetime'* and *'tpep_dropoff_datetime'* columns from *TimeDelta* to *DateTime*."
   ]
  },
  {
   "cell_type": "code",
   "execution_count": 8,
   "metadata": {},
   "outputs": [],
   "source": [
    "keep_jan['trip_duration_january'] = keep_jan['tpep_dropoff_datetime'] - keep_jan['tpep_pickup_datetime']\n",
    "\n",
    "keep_jan['trip_duration_january'] = keep_jan['trip_duration_january'] / np.timedelta64(1, 'h')\n",
    "\n",
    "keep_jan = keep_jan[keep_jan['trip_duration_january'] <= 5]"
   ]
  },
  {
   "cell_type": "markdown",
   "metadata": {},
   "source": [
    "We want to remove the ***Unknown Borough*** (LocationID = 264 and 265) from our DataFrame:"
   ]
  },
  {
   "cell_type": "code",
   "execution_count": 9,
   "metadata": {},
   "outputs": [],
   "source": [
    "keep_jan = keep_jan[(keep_jan.PULocationID != 264) & (keep_jan.DOLocationID != 264) & (keep_jan.PULocationID != 265) & (keep_jan.DOLocationID != 265)]"
   ]
  },
  {
   "cell_type": "markdown",
   "metadata": {},
   "source": [
    "Finally, we delete all ***'trip_distance'*** = 0: trip distance cannot be zero miles. "
   ]
  },
  {
   "cell_type": "code",
   "execution_count": 10,
   "metadata": {},
   "outputs": [],
   "source": [
    "keep_jan = keep_jan[keep_jan['trip_distance'] > 0]"
   ]
  },
  {
   "cell_type": "markdown",
   "metadata": {},
   "source": [
    "We execute the same cleaning steps for all the other months:"
   ]
  },
  {
   "cell_type": "markdown",
   "metadata": {},
   "source": [
    "### February"
   ]
  },
  {
   "cell_type": "code",
   "execution_count": 11,
   "metadata": {
    "scrolled": true
   },
   "outputs": [],
   "source": [
    "date_columns = ['tpep_pickup_datetime', 'tpep_dropoff_datetime']\n",
    "df2 = pd.read_csv('yellow_tripdata_2018-02.csv', usecols = ['tpep_pickup_datetime', 'tpep_dropoff_datetime', 'PULocationID', 'DOLocationID', 'passenger_count', 'trip_distance'], parse_dates = date_columns)\n",
    "\n",
    "keep = df2[df2['tpep_pickup_datetime'].dt.year == 2018]\n",
    "\n",
    "keep = keep[keep['tpep_pickup_datetime'].dt.month == 2]\n",
    "\n",
    "keep = keep[keep['tpep_dropoff_datetime'].dt.year == 2018]\n",
    "keep = keep[keep['tpep_dropoff_datetime'].dt.month == 2]\n",
    "\n",
    "keep1 = keep[keep['tpep_pickup_datetime'].dt.day == keep['tpep_dropoff_datetime'].dt.day]\n",
    "\n",
    "keep1 = keep1[keep1['tpep_pickup_datetime'].dt.time < keep1['tpep_dropoff_datetime'].dt.time]\n",
    "\n",
    "keep2 = keep[keep['tpep_pickup_datetime'].dt.day < keep['tpep_dropoff_datetime'].dt.day]\n",
    "\n",
    "keep_feb = pd.concat([keep1, keep2], axis=0)\n",
    "\n",
    "keep_feb['trip_duration_february'] = keep_feb['tpep_dropoff_datetime'] - keep_feb['tpep_pickup_datetime']\n",
    "\n",
    "keep_feb['trip_duration_february'] = keep_feb['trip_duration_february'] / np.timedelta64(1, 'h')\n",
    "\n",
    "keep_feb = keep_feb[keep_feb['trip_duration_february'] <= 5]\n",
    "\n",
    "keep_feb = keep_feb[(keep_feb.PULocationID != 264) & (keep_feb.DOLocationID != 264) & (keep_feb.PULocationID != 265) & (keep_feb.DOLocationID != 265)]\n",
    "\n",
    "keep_feb = keep_feb[keep_feb['trip_distance'] > 0]"
   ]
  },
  {
   "cell_type": "markdown",
   "metadata": {},
   "source": [
    "### March"
   ]
  },
  {
   "cell_type": "code",
   "execution_count": 12,
   "metadata": {
    "scrolled": true
   },
   "outputs": [],
   "source": [
    "date_columns = ['tpep_pickup_datetime', 'tpep_dropoff_datetime']\n",
    "df3 = pd.read_csv('yellow_tripdata_2018-03.csv', usecols = ['tpep_pickup_datetime', 'tpep_dropoff_datetime', 'PULocationID', 'DOLocationID', 'passenger_count', 'trip_distance'], parse_dates = date_columns)\n",
    "\n",
    "keep = df3[df3['tpep_pickup_datetime'].dt.year == 2018]\n",
    "\n",
    "keep = keep[keep['tpep_pickup_datetime'].dt.month == 3]\n",
    "\n",
    "keep = keep[keep['tpep_dropoff_datetime'].dt.year == 2018]\n",
    "keep = keep[keep['tpep_dropoff_datetime'].dt.month == 3]\n",
    "\n",
    "keep1 = keep[keep['tpep_pickup_datetime'].dt.day == keep['tpep_dropoff_datetime'].dt.day]\n",
    "\n",
    "keep1 = keep1[keep1['tpep_pickup_datetime'].dt.time < keep1['tpep_dropoff_datetime'].dt.time]\n",
    "\n",
    "keep2 = keep[keep['tpep_pickup_datetime'].dt.day < keep['tpep_dropoff_datetime'].dt.day]\n",
    "\n",
    "keep_mar = pd.concat([keep1, keep2], axis=0)\n",
    "\n",
    "keep_mar['trip_duration_march'] = keep_mar['tpep_dropoff_datetime'] - keep_mar['tpep_pickup_datetime']\n",
    "\n",
    "keep_mar['trip_duration_march'] = keep_mar['trip_duration_march'] / np.timedelta64(1, 'h')\n",
    "\n",
    "keep_mar = keep_mar[keep_mar['trip_duration_march'] <= 5]\n",
    "\n",
    "keep_mar = keep_mar[(keep_mar.PULocationID != 264) & (keep_mar.DOLocationID != 264) & (keep_mar.PULocationID != 265) & (keep_mar.DOLocationID != 265)]\n",
    "\n",
    "keep_mar = keep_mar[keep_mar['trip_distance'] > 0]"
   ]
  },
  {
   "cell_type": "markdown",
   "metadata": {},
   "source": [
    "### April"
   ]
  },
  {
   "cell_type": "code",
   "execution_count": 13,
   "metadata": {
    "scrolled": true
   },
   "outputs": [],
   "source": [
    "date_columns = ['tpep_pickup_datetime', 'tpep_dropoff_datetime']\n",
    "df4 = pd.read_csv('yellow_tripdata_2018-04.csv', usecols = ['tpep_pickup_datetime', 'tpep_dropoff_datetime', 'PULocationID', 'DOLocationID', 'passenger_count', 'trip_distance'], parse_dates = date_columns)\n",
    "\n",
    "keep = df4[df4['tpep_pickup_datetime'].dt.year == 2018]\n",
    "\n",
    "keep = keep[keep['tpep_pickup_datetime'].dt.month == 4]\n",
    "\n",
    "keep = keep[keep['tpep_dropoff_datetime'].dt.year == 2018]\n",
    "keep = keep[keep['tpep_dropoff_datetime'].dt.month == 4]\n",
    "\n",
    "keep1 = keep[keep['tpep_pickup_datetime'].dt.day == keep['tpep_dropoff_datetime'].dt.day]\n",
    "\n",
    "keep1 = keep1[keep1['tpep_pickup_datetime'].dt.time < keep1['tpep_dropoff_datetime'].dt.time]\n",
    "\n",
    "keep2 = keep[keep['tpep_pickup_datetime'].dt.day < keep['tpep_dropoff_datetime'].dt.day]\n",
    "\n",
    "keep_apr = pd.concat([keep1, keep2], axis=0)\n",
    "\n",
    "keep_apr['trip_duration_april'] = keep_apr['tpep_dropoff_datetime'] - keep_apr['tpep_pickup_datetime']\n",
    "\n",
    "keep_apr['trip_duration_april'] = keep_apr['trip_duration_april'] / np.timedelta64(1, 'h')\n",
    "\n",
    "keep_apr = keep_apr[keep_apr['trip_duration_april'] <= 5]\n",
    "\n",
    "keep_apr = keep_apr[(keep_apr.PULocationID != 264) & (keep_apr.DOLocationID != 264) & (keep_apr.PULocationID != 265) & (keep_apr.DOLocationID != 265)]\n",
    "\n",
    "keep_apr = keep_apr[keep_apr['trip_distance'] > 0]"
   ]
  },
  {
   "cell_type": "markdown",
   "metadata": {},
   "source": [
    "### May"
   ]
  },
  {
   "cell_type": "code",
   "execution_count": 14,
   "metadata": {
    "scrolled": true
   },
   "outputs": [],
   "source": [
    "date_columns = ['tpep_pickup_datetime', 'tpep_dropoff_datetime']\n",
    "df5 = pd.read_csv('yellow_tripdata_2018-05.csv', usecols = ['tpep_pickup_datetime', 'tpep_dropoff_datetime', 'PULocationID', 'DOLocationID', 'passenger_count', 'trip_distance'], parse_dates = date_columns)\n",
    "\n",
    "keep = df5[df5['tpep_pickup_datetime'].dt.year == 2018]\n",
    "\n",
    "keep = keep[keep['tpep_pickup_datetime'].dt.month == 5]\n",
    "\n",
    "keep = keep[keep['tpep_dropoff_datetime'].dt.year == 2018]\n",
    "keep = keep[keep['tpep_dropoff_datetime'].dt.month == 5]\n",
    "\n",
    "keep1 = keep[keep['tpep_pickup_datetime'].dt.day == keep['tpep_dropoff_datetime'].dt.day]\n",
    "\n",
    "keep1 = keep1[keep1['tpep_pickup_datetime'].dt.time < keep1['tpep_dropoff_datetime'].dt.time]\n",
    "\n",
    "keep2 = keep[keep['tpep_pickup_datetime'].dt.day < keep['tpep_dropoff_datetime'].dt.day]\n",
    "\n",
    "keep_may = pd.concat([keep1, keep2], axis=0)\n",
    "\n",
    "keep_may['trip_duration_may'] = keep_may['tpep_dropoff_datetime'] - keep_may['tpep_pickup_datetime']\n",
    "\n",
    "keep_may['trip_duration_may'] = keep_may['trip_duration_may'] / np.timedelta64(1, 'h')\n",
    "\n",
    "keep_may = keep_may[keep_may['trip_duration_may'] <= 5]\n",
    "\n",
    "keep_may = keep_may[(keep_may.PULocationID != 264) & (keep_may.DOLocationID != 264) & (keep_may.PULocationID != 265) & (keep_may.DOLocationID != 265)]\n",
    "\n",
    "keep_may = keep_may[keep_may['trip_distance'] > 0]"
   ]
  },
  {
   "cell_type": "markdown",
   "metadata": {},
   "source": [
    "### June"
   ]
  },
  {
   "cell_type": "code",
   "execution_count": 15,
   "metadata": {
    "scrolled": true
   },
   "outputs": [],
   "source": [
    "date_columns = ['tpep_pickup_datetime', 'tpep_dropoff_datetime']\n",
    "df6 = pd.read_csv('yellow_tripdata_2018-06.csv', usecols = ['tpep_pickup_datetime', 'tpep_dropoff_datetime', 'PULocationID', 'DOLocationID', 'passenger_count', 'trip_distance'], parse_dates = date_columns)\n",
    "\n",
    "keep = df6[df6['tpep_pickup_datetime'].dt.year == 2018]\n",
    "\n",
    "keep = keep[keep['tpep_pickup_datetime'].dt.month == 6]\n",
    "\n",
    "keep = keep[keep['tpep_dropoff_datetime'].dt.year == 2018]\n",
    "keep = keep[keep['tpep_dropoff_datetime'].dt.month == 6]\n",
    "\n",
    "keep1 = keep[keep['tpep_pickup_datetime'].dt.day == keep['tpep_dropoff_datetime'].dt.day]\n",
    "\n",
    "keep1 = keep1[keep1['tpep_pickup_datetime'].dt.time < keep1['tpep_dropoff_datetime'].dt.time]\n",
    "\n",
    "keep2 = keep[keep['tpep_pickup_datetime'].dt.day < keep['tpep_dropoff_datetime'].dt.day]\n",
    "\n",
    "keep_jun = pd.concat([keep1, keep2], axis=0)\n",
    "\n",
    "keep_jun['trip_duration_june'] = keep_jun['tpep_dropoff_datetime'] - keep_jun['tpep_pickup_datetime']\n",
    "\n",
    "keep_jun['trip_duration_june'] = keep_jun['trip_duration_june'] / np.timedelta64(1, 'h')\n",
    "\n",
    "keep_jun = keep_jun[keep_jun['trip_duration_june'] <= 5]\n",
    "\n",
    "keep_jun = keep_jun[(keep_jun.PULocationID != 264) & (keep_jun.DOLocationID != 264) & (keep_jun.PULocationID != 265) & (keep_jun.DOLocationID != 265)]\n",
    "\n",
    "keep_jun = keep_jun[keep_jun['trip_distance'] > 0]"
   ]
  },
  {
   "cell_type": "markdown",
   "metadata": {},
   "source": [
    "# RQ1"
   ]
  },
  {
   "cell_type": "markdown",
   "metadata": {},
   "source": [
    "### January"
   ]
  },
  {
   "cell_type": "markdown",
   "metadata": {},
   "source": [
    "We want to analyze the daily average of the number of trips, in Janaury, for every borough (EWR, Queens, Bronx, Manhattan, Staten Island, Brooklyn). We choose to focus on the trips starting in each borough, i.e. the \"pickups\"."
   ]
  },
  {
   "cell_type": "code",
   "execution_count": 10,
   "metadata": {},
   "outputs": [],
   "source": [
    "# create a copy final_jan of the cleaned dataframe keep_jan\n",
    "# this copy will be edited in the next steps, leaving the cleaned dataset unaltered\n",
    "\n",
    "final_jan = keep_jan.copy()"
   ]
  },
  {
   "cell_type": "code",
   "execution_count": null,
   "metadata": {
    "scrolled": true
   },
   "outputs": [],
   "source": [
    "# count daily trips based on pickup datetime\n",
    "# count total trips based on location\n",
    "\n",
    "date_time_col = final_jan['tpep_pickup_datetime']\n",
    "location_col = final_jan['PULocationID']\n",
    "\n",
    "# create series \"final_jan_loc\", of counts by location\n",
    "# create series \"final_jan\", of daily counts\n",
    "\n",
    "final_jan_loc = location_col.groupby(location_col).count()\n",
    "final_jan = date_time_col.groupby(date_time_col.dt.day).count()"
   ]
  },
  {
   "cell_type": "code",
   "execution_count": 12,
   "metadata": {},
   "outputs": [
    {
     "data": {
      "text/plain": [
       "274776.8064516129"
      ]
     },
     "execution_count": 12,
     "metadata": {},
     "output_type": "execute_result"
    }
   ],
   "source": [
    "# compute mean\n",
    "\n",
    "mean1 = final_jan.mean()\n",
    "mean1"
   ]
  },
  {
   "cell_type": "code",
   "execution_count": 37,
   "metadata": {},
   "outputs": [],
   "source": [
    "del final_jan"
   ]
  },
  {
   "cell_type": "code",
   "execution_count": 13,
   "metadata": {},
   "outputs": [
    {
     "data": {
      "text/plain": [
       "{'EWR': 0,\n",
       " 'Queens': 503944,\n",
       " 'Bronx': 6578,\n",
       " 'Manhattan': 7909258,\n",
       " 'Staten Island': 109,\n",
       " 'Brooklyn': 98021,\n",
       " 'Unknown': 0}"
      ]
     },
     "execution_count": 13,
     "metadata": {},
     "output_type": "execute_result"
    }
   ],
   "source": [
    "# count total number of trips for each borough\n",
    "\n",
    "# this dictionary contains the count for each borough\n",
    "\n",
    "borough_count = {'EWR': 0, 'Queens': 0, 'Bronx': 0, 'Manhattan': 0, 'Staten Island': 0, 'Brooklyn': 0, 'Unknown': 0}\n",
    "\n",
    "# for every total count in final_jan_loc\n",
    "for i in range(1, len(final_jan_loc)):\n",
    "    \n",
    "    # get the corresponding LocationID\n",
    "    LocationID = final_jan_loc.index[i]\n",
    "    \n",
    "    # check to what borough it belongs\n",
    "    for borough in dfdict:\n",
    "        if LocationID in dfdict[borough]:\n",
    "            \n",
    "            # add the count for that location to the correct borough\n",
    "            borough_count[borough] = borough_count[borough] + int(final_jan_loc[LocationID])\n",
    "            \n",
    "borough_count"
   ]
  },
  {
   "cell_type": "code",
   "execution_count": 38,
   "metadata": {},
   "outputs": [],
   "source": [
    "del final_jan_loc"
   ]
  },
  {
   "cell_type": "code",
   "execution_count": 15,
   "metadata": {},
   "outputs": [
    {
     "data": {
      "text/plain": [
       "{'EWR': 0.0,\n",
       " 'Queens': 16256.258064516129,\n",
       " 'Bronx': 212.19354838709677,\n",
       " 'Manhattan': 255137.35483870967,\n",
       " 'Staten Island': 3.5161290322580645,\n",
       " 'Brooklyn': 3161.967741935484,\n",
       " 'Unknown': 0.0}"
      ]
     },
     "execution_count": 15,
     "metadata": {},
     "output_type": "execute_result"
    }
   ],
   "source": [
    "# compute means from total counts \n",
    "\n",
    "# for every borough\n",
    "\n",
    "for borough in borough_count:\n",
    "    \n",
    "    # divide count by the number of days in the month\n",
    "    \n",
    "    borough_count[borough] = borough_count[borough]/31\n",
    "    \n",
    "borough_count"
   ]
  },
  {
   "cell_type": "code",
   "execution_count": 19,
   "metadata": {},
   "outputs": [
    {
     "data": {
      "text/html": [
       "<div>\n",
       "<style scoped>\n",
       "    .dataframe tbody tr th:only-of-type {\n",
       "        vertical-align: middle;\n",
       "    }\n",
       "\n",
       "    .dataframe tbody tr th {\n",
       "        vertical-align: top;\n",
       "    }\n",
       "\n",
       "    .dataframe thead th {\n",
       "        text-align: right;\n",
       "    }\n",
       "</style>\n",
       "<table border=\"1\" class=\"dataframe\">\n",
       "  <thead>\n",
       "    <tr style=\"text-align: right;\">\n",
       "      <th></th>\n",
       "      <th>Borough</th>\n",
       "      <th>Daily average</th>\n",
       "    </tr>\n",
       "  </thead>\n",
       "  <tbody>\n",
       "    <tr>\n",
       "      <th>0</th>\n",
       "      <td>EWR</td>\n",
       "      <td>0.000000</td>\n",
       "    </tr>\n",
       "    <tr>\n",
       "      <th>1</th>\n",
       "      <td>Queens</td>\n",
       "      <td>16256.258065</td>\n",
       "    </tr>\n",
       "    <tr>\n",
       "      <th>2</th>\n",
       "      <td>Bronx</td>\n",
       "      <td>212.193548</td>\n",
       "    </tr>\n",
       "    <tr>\n",
       "      <th>3</th>\n",
       "      <td>Manhattan</td>\n",
       "      <td>255137.354839</td>\n",
       "    </tr>\n",
       "    <tr>\n",
       "      <th>4</th>\n",
       "      <td>Staten Island</td>\n",
       "      <td>3.516129</td>\n",
       "    </tr>\n",
       "    <tr>\n",
       "      <th>5</th>\n",
       "      <td>Brooklyn</td>\n",
       "      <td>3161.967742</td>\n",
       "    </tr>\n",
       "    <tr>\n",
       "      <th>6</th>\n",
       "      <td>Unknown</td>\n",
       "      <td>0.000000</td>\n",
       "    </tr>\n",
       "  </tbody>\n",
       "</table>\n",
       "</div>"
      ],
      "text/plain": [
       "         Borough  Daily average\n",
       "0            EWR       0.000000\n",
       "1         Queens   16256.258065\n",
       "2          Bronx     212.193548\n",
       "3      Manhattan  255137.354839\n",
       "4  Staten Island       3.516129\n",
       "5       Brooklyn    3161.967742\n",
       "6        Unknown       0.000000"
      ]
     },
     "execution_count": 19,
     "metadata": {},
     "output_type": "execute_result"
    }
   ],
   "source": [
    "# Convert list of boroughs and list of daily means to DataFrame\n",
    "\n",
    "df_borough = pd.DataFrame(list(borough_count.keys()), columns = [\"Borough\"])\n",
    "df_means = pd.DataFrame(list(borough_count.values()), columns = [\"Daily average\"])\n",
    "merge = df_borough.join(df_means)\n",
    "merge"
   ]
  },
  {
   "cell_type": "code",
   "execution_count": 20,
   "metadata": {},
   "outputs": [
    {
     "data": {
      "image/png": "[encoded data removed]",
      "text/plain": [
       "<Figure size 1080x432 with 1 Axes>"
      ]
     },
     "metadata": {},
     "output_type": "display_data"
    }
   ],
   "source": [
    "# Plot an bar graph\n",
    "\n",
    "barplot = merge.plot(x=\"Borough\", y=\"Daily average\", kind='bar', figsize = (15, 6), fontsize = 12)"
   ]
  },
  {
   "cell_type": "markdown",
   "metadata": {},
   "source": [
    "The bar plot shows that the daily average of trips starting in Manhattan is undeniably higher than the daily average in any other borough. The reason for this is that yellow taxis run mostly from Manhattan to the other boroughs\n",
    "\n",
    "\n",
    "We are now going to perform the same kind of analysis for the other months"
   ]
  },
  {
   "cell_type": "markdown",
   "metadata": {},
   "source": [
    "### February"
   ]
  },
  {
   "cell_type": "code",
   "execution_count": 22,
   "metadata": {},
   "outputs": [],
   "source": [
    "final_feb = keep_feb.copy()"
   ]
  },
  {
   "cell_type": "code",
   "execution_count": null,
   "metadata": {
    "scrolled": true
   },
   "outputs": [],
   "source": [
    "date_time_col = final_feb['tpep_pickup_datetime']\n",
    "location_col = final_feb['PULocationID']\n",
    "\n",
    "final_feb_loc = location_col.groupby(location_col).count()\n",
    "final_feb = date_time_col.groupby(date_time_col.dt.day).count()"
   ]
  },
  {
   "cell_type": "code",
   "execution_count": 24,
   "metadata": {},
   "outputs": [
    {
     "data": {
      "text/plain": [
       "295547.6785714286"
      ]
     },
     "execution_count": 24,
     "metadata": {},
     "output_type": "execute_result"
    }
   ],
   "source": [
    "mean2 = final_feb.mean()\n",
    "mean2"
   ]
  },
  {
   "cell_type": "code",
   "execution_count": 35,
   "metadata": {},
   "outputs": [],
   "source": [
    "del final_feb"
   ]
  },
  {
   "cell_type": "code",
   "execution_count": 26,
   "metadata": {},
   "outputs": [
    {
     "data": {
      "text/plain": [
       "{'EWR': 0,\n",
       " 'Queens': 463535,\n",
       " 'Bronx': 5812,\n",
       " 'Manhattan': 7712801,\n",
       " 'Staten Island': 78,\n",
       " 'Brooklyn': 92951,\n",
       " 'Unknown': 0}"
      ]
     },
     "execution_count": 26,
     "metadata": {},
     "output_type": "execute_result"
    }
   ],
   "source": [
    "borough_count = {'EWR': 0, 'Queens': 0, 'Bronx': 0, 'Manhattan': 0, 'Staten Island': 0, 'Brooklyn': 0, 'Unknown': 0}\n",
    "\n",
    "for i in range(1, len(final_feb_loc)):\n",
    "    LocationID = final_feb_loc.index[i]\n",
    "    for borough in dfdict:\n",
    "        if LocationID in dfdict[borough]:\n",
    "            borough_count[borough] = borough_count[borough] + int(final_feb_loc[LocationID])\n",
    "            \n",
    "borough_count"
   ]
  },
  {
   "cell_type": "code",
   "execution_count": 28,
   "metadata": {},
   "outputs": [
    {
     "data": {
      "text/plain": [
       "{'EWR': 0.0,\n",
       " 'Queens': 16554.821428571428,\n",
       " 'Bronx': 207.57142857142858,\n",
       " 'Manhattan': 275457.1785714286,\n",
       " 'Staten Island': 2.7857142857142856,\n",
       " 'Brooklyn': 3319.6785714285716,\n",
       " 'Unknown': 0.0}"
      ]
     },
     "execution_count": 28,
     "metadata": {},
     "output_type": "execute_result"
    }
   ],
   "source": [
    "for borough in borough_count:    \n",
    "    borough_count[borough] = borough_count[borough]/28\n",
    "    \n",
    "borough_count"
   ]
  },
  {
   "cell_type": "code",
   "execution_count": 36,
   "metadata": {},
   "outputs": [],
   "source": [
    "del final_feb_loc"
   ]
  },
  {
   "cell_type": "code",
   "execution_count": 31,
   "metadata": {},
   "outputs": [
    {
     "data": {
      "text/html": [
       "<div>\n",
       "<style scoped>\n",
       "    .dataframe tbody tr th:only-of-type {\n",
       "        vertical-align: middle;\n",
       "    }\n",
       "\n",
       "    .dataframe tbody tr th {\n",
       "        vertical-align: top;\n",
       "    }\n",
       "\n",
       "    .dataframe thead th {\n",
       "        text-align: right;\n",
       "    }\n",
       "</style>\n",
       "<table border=\"1\" class=\"dataframe\">\n",
       "  <thead>\n",
       "    <tr style=\"text-align: right;\">\n",
       "      <th></th>\n",
       "      <th>Borough</th>\n",
       "      <th>Daily average</th>\n",
       "    </tr>\n",
       "  </thead>\n",
       "  <tbody>\n",
       "    <tr>\n",
       "      <th>0</th>\n",
       "      <td>EWR</td>\n",
       "      <td>0.000000</td>\n",
       "    </tr>\n",
       "    <tr>\n",
       "      <th>1</th>\n",
       "      <td>Queens</td>\n",
       "      <td>16554.821429</td>\n",
       "    </tr>\n",
       "    <tr>\n",
       "      <th>2</th>\n",
       "      <td>Bronx</td>\n",
       "      <td>207.571429</td>\n",
       "    </tr>\n",
       "    <tr>\n",
       "      <th>3</th>\n",
       "      <td>Manhattan</td>\n",
       "      <td>275457.178571</td>\n",
       "    </tr>\n",
       "    <tr>\n",
       "      <th>4</th>\n",
       "      <td>Staten Island</td>\n",
       "      <td>2.785714</td>\n",
       "    </tr>\n",
       "    <tr>\n",
       "      <th>5</th>\n",
       "      <td>Brooklyn</td>\n",
       "      <td>3319.678571</td>\n",
       "    </tr>\n",
       "    <tr>\n",
       "      <th>6</th>\n",
       "      <td>Unknown</td>\n",
       "      <td>0.000000</td>\n",
       "    </tr>\n",
       "  </tbody>\n",
       "</table>\n",
       "</div>"
      ],
      "text/plain": [
       "         Borough  Daily average\n",
       "0            EWR       0.000000\n",
       "1         Queens   16554.821429\n",
       "2          Bronx     207.571429\n",
       "3      Manhattan  275457.178571\n",
       "4  Staten Island       2.785714\n",
       "5       Brooklyn    3319.678571\n",
       "6        Unknown       0.000000"
      ]
     },
     "execution_count": 31,
     "metadata": {},
     "output_type": "execute_result"
    }
   ],
   "source": [
    "df_borough = pd.DataFrame(list(borough_count.keys()), columns = [\"Borough\"])\n",
    "df_means = pd.DataFrame(list(borough_count.values()), columns = [\"Daily average\"])\n",
    "merge = df_borough.join(df_means)\n",
    "merge"
   ]
  },
  {
   "cell_type": "code",
   "execution_count": 32,
   "metadata": {},
   "outputs": [
    {
     "data": {
      "image/png": "[encoded data removed]",
      "text/plain": [
       "<Figure size 1080x432 with 1 Axes>"
      ]
     },
     "metadata": {},
     "output_type": "display_data"
    }
   ],
   "source": [
    "barplot = merge.plot(x=\"Borough\", y=\"Daily average\", kind='bar', figsize = (15, 6), fontsize = 12)"
   ]
  },
  {
   "cell_type": "markdown",
   "metadata": {},
   "source": [
    "Again, the bar plot shows that the daily average of trips starting in Manhattan is higher than the daily average in any other borough."
   ]
  },
  {
   "cell_type": "markdown",
   "metadata": {},
   "source": [
    "### March"
   ]
  },
  {
   "cell_type": "code",
   "execution_count": 4,
   "metadata": {},
   "outputs": [],
   "source": [
    "final_mar = keep_mar.copy()"
   ]
  },
  {
   "cell_type": "code",
   "execution_count": 5,
   "metadata": {
    "scrolled": true
   },
   "outputs": [
    {
     "data": {
      "text/plain": [
       "tpep_pickup_datetime\n",
       "1     324856\n",
       "2     319285\n",
       "3     308661\n",
       "4     278671\n",
       "5     281847\n",
       "6     307261\n",
       "7     227735\n",
       "8     318737\n",
       "9     339034\n",
       "10    332452\n",
       "11    270200\n",
       "12    285916\n",
       "13    299480\n",
       "14    327166\n",
       "15    339036\n",
       "16    339336\n",
       "17    315209\n",
       "18    269660\n",
       "19    263818\n",
       "20    303767\n",
       "21    179421\n",
       "22    293164\n",
       "23    316488\n",
       "24    301707\n",
       "25    267679\n",
       "26    272626\n",
       "27    290284\n",
       "28    306370\n",
       "29    317654\n",
       "30    300339\n",
       "31    275228\n",
       "Name: tpep_pickup_datetime, dtype: int64"
      ]
     },
     "execution_count": 5,
     "metadata": {},
     "output_type": "execute_result"
    }
   ],
   "source": [
    "date_time_col = final_mar['tpep_pickup_datetime']\n",
    "location_col = final_mar['PULocationID']\n",
    "\n",
    "final_mar_loc = location_col.groupby(location_col).count()\n",
    "final_mar = date_time_col.groupby(date_time_col.dt.day).count()\n",
    "final_mar"
   ]
  },
  {
   "cell_type": "code",
   "execution_count": 6,
   "metadata": {},
   "outputs": [
    {
     "data": {
      "text/plain": [
       "295906.03225806454"
      ]
     },
     "execution_count": 6,
     "metadata": {},
     "output_type": "execute_result"
    }
   ],
   "source": [
    "mean3 = final_mar.mean()\n",
    "mean3"
   ]
  },
  {
   "cell_type": "code",
   "execution_count": 7,
   "metadata": {},
   "outputs": [],
   "source": [
    "del final_mar"
   ]
  },
  {
   "cell_type": "code",
   "execution_count": 11,
   "metadata": {},
   "outputs": [
    {
     "data": {
      "text/plain": [
       "{'EWR': 0,\n",
       " 'Queens': 539763,\n",
       " 'Bronx': 9537,\n",
       " 'Manhattan': 8503252,\n",
       " 'Staten Island': 102,\n",
       " 'Brooklyn': 120261,\n",
       " 'Unknown': 0}"
      ]
     },
     "execution_count": 11,
     "metadata": {},
     "output_type": "execute_result"
    }
   ],
   "source": [
    "borough_count = {'EWR': 0, 'Queens': 0, 'Bronx': 0, 'Manhattan': 0, 'Staten Island': 0, 'Brooklyn': 0, 'Unknown': 0}\n",
    "\n",
    "for i in range(1, len(final_mar_loc)):\n",
    "    LocationID = final_mar_loc.index[i]\n",
    "    for borough in dfdict:\n",
    "        if LocationID in dfdict[borough]:\n",
    "            borough_count[borough] = borough_count[borough] + int(final_mar_loc[LocationID])\n",
    "            \n",
    "borough_count"
   ]
  },
  {
   "cell_type": "code",
   "execution_count": 13,
   "metadata": {},
   "outputs": [],
   "source": [
    "del final_mar_loc"
   ]
  },
  {
   "cell_type": "code",
   "execution_count": 12,
   "metadata": {},
   "outputs": [
    {
     "data": {
      "text/plain": [
       "{'EWR': 0.0,\n",
       " 'Queens': 17411.709677419356,\n",
       " 'Bronx': 307.64516129032256,\n",
       " 'Manhattan': 274298.4516129032,\n",
       " 'Staten Island': 3.2903225806451615,\n",
       " 'Brooklyn': 3879.3870967741937,\n",
       " 'Unknown': 0.0}"
      ]
     },
     "execution_count": 12,
     "metadata": {},
     "output_type": "execute_result"
    }
   ],
   "source": [
    "for borough in borough_count:    \n",
    "    borough_count[borough] = borough_count[borough]/31\n",
    "    \n",
    "borough_count"
   ]
  },
  {
   "cell_type": "code",
   "execution_count": 15,
   "metadata": {},
   "outputs": [
    {
     "data": {
      "text/html": [
       "<div>\n",
       "<style scoped>\n",
       "    .dataframe tbody tr th:only-of-type {\n",
       "        vertical-align: middle;\n",
       "    }\n",
       "\n",
       "    .dataframe tbody tr th {\n",
       "        vertical-align: top;\n",
       "    }\n",
       "\n",
       "    .dataframe thead th {\n",
       "        text-align: right;\n",
       "    }\n",
       "</style>\n",
       "<table border=\"1\" class=\"dataframe\">\n",
       "  <thead>\n",
       "    <tr style=\"text-align: right;\">\n",
       "      <th></th>\n",
       "      <th>Borough</th>\n",
       "      <th>Daily average</th>\n",
       "    </tr>\n",
       "  </thead>\n",
       "  <tbody>\n",
       "    <tr>\n",
       "      <th>0</th>\n",
       "      <td>EWR</td>\n",
       "      <td>0.000000</td>\n",
       "    </tr>\n",
       "    <tr>\n",
       "      <th>1</th>\n",
       "      <td>Queens</td>\n",
       "      <td>17411.709677</td>\n",
       "    </tr>\n",
       "    <tr>\n",
       "      <th>2</th>\n",
       "      <td>Bronx</td>\n",
       "      <td>307.645161</td>\n",
       "    </tr>\n",
       "    <tr>\n",
       "      <th>3</th>\n",
       "      <td>Manhattan</td>\n",
       "      <td>274298.451613</td>\n",
       "    </tr>\n",
       "    <tr>\n",
       "      <th>4</th>\n",
       "      <td>Staten Island</td>\n",
       "      <td>3.290323</td>\n",
       "    </tr>\n",
       "    <tr>\n",
       "      <th>5</th>\n",
       "      <td>Brooklyn</td>\n",
       "      <td>3879.387097</td>\n",
       "    </tr>\n",
       "    <tr>\n",
       "      <th>6</th>\n",
       "      <td>Unknown</td>\n",
       "      <td>0.000000</td>\n",
       "    </tr>\n",
       "  </tbody>\n",
       "</table>\n",
       "</div>"
      ],
      "text/plain": [
       "         Borough  Daily average\n",
       "0            EWR       0.000000\n",
       "1         Queens   17411.709677\n",
       "2          Bronx     307.645161\n",
       "3      Manhattan  274298.451613\n",
       "4  Staten Island       3.290323\n",
       "5       Brooklyn    3879.387097\n",
       "6        Unknown       0.000000"
      ]
     },
     "execution_count": 15,
     "metadata": {},
     "output_type": "execute_result"
    }
   ],
   "source": [
    "df_borough = pd.DataFrame(list(borough_count.keys()), columns = [\"Borough\"])\n",
    "df_means = pd.DataFrame(list(borough_count.values()), columns = [\"Daily average\"])\n",
    "merge = df_borough.join(df_means)\n",
    "merge"
   ]
  },
  {
   "cell_type": "code",
   "execution_count": 18,
   "metadata": {},
   "outputs": [
    {
     "data": {
      "image/png": "[encoded data removed]",
      "text/plain": [
       "<Figure size 1080x432 with 1 Axes>"
      ]
     },
     "metadata": {},
     "output_type": "display_data"
    }
   ],
   "source": [
    "barplot = merge.plot(x=\"Borough\", y=\"Daily average\", kind='bar', figsize = (15, 6), fontsize = 12)"
   ]
  },
  {
   "cell_type": "markdown",
   "metadata": {},
   "source": [
    "### April"
   ]
  },
  {
   "cell_type": "code",
   "execution_count": 21,
   "metadata": {},
   "outputs": [],
   "source": [
    "final_apr = keep_apr.copy()"
   ]
  },
  {
   "cell_type": "code",
   "execution_count": 22,
   "metadata": {
    "scrolled": true
   },
   "outputs": [
    {
     "data": {
      "text/plain": [
       "tpep_pickup_datetime\n",
       "1     237919\n",
       "2     252261\n",
       "3     298417\n",
       "4     303713\n",
       "5     322664\n",
       "6     318322\n",
       "7     312706\n",
       "8     271131\n",
       "9     276634\n",
       "10    300003\n",
       "11    312520\n",
       "12    319446\n",
       "13    325078\n",
       "14    339155\n",
       "15    292407\n",
       "16    274135\n",
       "17    313934\n",
       "18    312630\n",
       "19    340085\n",
       "20    337039\n",
       "21    310548\n",
       "22    269560\n",
       "23    277851\n",
       "24    302071\n",
       "25    318297\n",
       "26    323372\n",
       "27    324977\n",
       "28    317480\n",
       "29    274424\n",
       "30    287326\n",
       "Name: tpep_pickup_datetime, dtype: int64"
      ]
     },
     "execution_count": 22,
     "metadata": {},
     "output_type": "execute_result"
    }
   ],
   "source": [
    "date_time_col = final_apr['tpep_pickup_datetime']\n",
    "location_col = final_apr['PULocationID']\n",
    "\n",
    "final_apr_loc = location_col.groupby(location_col).count()\n",
    "final_apr = date_time_col.groupby(date_time_col.dt.day).count()\n",
    "final_apr"
   ]
  },
  {
   "cell_type": "code",
   "execution_count": 23,
   "metadata": {},
   "outputs": [
    {
     "data": {
      "text/plain": [
       "302203.5"
      ]
     },
     "execution_count": 23,
     "metadata": {},
     "output_type": "execute_result"
    }
   ],
   "source": [
    "mean4 = final_apr.mean()\n",
    "mean4"
   ]
  },
  {
   "cell_type": "code",
   "execution_count": 24,
   "metadata": {},
   "outputs": [],
   "source": [
    "del final_apr"
   ]
  },
  {
   "cell_type": "code",
   "execution_count": 25,
   "metadata": {},
   "outputs": [
    {
     "data": {
      "text/plain": [
       "{'EWR': 0,\n",
       " 'Queens': 570520,\n",
       " 'Bronx': 9737,\n",
       " 'Manhattan': 8369011,\n",
       " 'Staten Island': 91,\n",
       " 'Brooklyn': 116559,\n",
       " 'Unknown': 0}"
      ]
     },
     "execution_count": 25,
     "metadata": {},
     "output_type": "execute_result"
    }
   ],
   "source": [
    "borough_count = {'EWR': 0, 'Queens': 0, 'Bronx': 0, 'Manhattan': 0, 'Staten Island': 0, 'Brooklyn': 0, 'Unknown': 0}\n",
    "\n",
    "for i in range(1, len(final_apr_loc)):\n",
    "    LocationID = final_apr_loc.index[i]\n",
    "    for borough in dfdict:\n",
    "        if LocationID in dfdict[borough]:\n",
    "            borough_count[borough] = borough_count[borough] + int(final_apr_loc[LocationID])\n",
    "            \n",
    "borough_count"
   ]
  },
  {
   "cell_type": "code",
   "execution_count": 26,
   "metadata": {},
   "outputs": [],
   "source": [
    "del final_apr_loc"
   ]
  },
  {
   "cell_type": "code",
   "execution_count": 27,
   "metadata": {},
   "outputs": [
    {
     "data": {
      "text/plain": [
       "{'EWR': 0.0,\n",
       " 'Queens': 19017.333333333332,\n",
       " 'Bronx': 324.56666666666666,\n",
       " 'Manhattan': 278967.0333333333,\n",
       " 'Staten Island': 3.033333333333333,\n",
       " 'Brooklyn': 3885.3,\n",
       " 'Unknown': 0.0}"
      ]
     },
     "execution_count": 27,
     "metadata": {},
     "output_type": "execute_result"
    }
   ],
   "source": [
    "for borough in borough_count:    \n",
    "    borough_count[borough] = borough_count[borough]/30\n",
    "    \n",
    "borough_count"
   ]
  },
  {
   "cell_type": "code",
   "execution_count": 30,
   "metadata": {},
   "outputs": [
    {
     "data": {
      "text/html": [
       "<div>\n",
       "<style scoped>\n",
       "    .dataframe tbody tr th:only-of-type {\n",
       "        vertical-align: middle;\n",
       "    }\n",
       "\n",
       "    .dataframe tbody tr th {\n",
       "        vertical-align: top;\n",
       "    }\n",
       "\n",
       "    .dataframe thead th {\n",
       "        text-align: right;\n",
       "    }\n",
       "</style>\n",
       "<table border=\"1\" class=\"dataframe\">\n",
       "  <thead>\n",
       "    <tr style=\"text-align: right;\">\n",
       "      <th></th>\n",
       "      <th>Borough</th>\n",
       "      <th>Daily average</th>\n",
       "    </tr>\n",
       "  </thead>\n",
       "  <tbody>\n",
       "    <tr>\n",
       "      <th>0</th>\n",
       "      <td>EWR</td>\n",
       "      <td>0.000000</td>\n",
       "    </tr>\n",
       "    <tr>\n",
       "      <th>1</th>\n",
       "      <td>Queens</td>\n",
       "      <td>19017.333333</td>\n",
       "    </tr>\n",
       "    <tr>\n",
       "      <th>2</th>\n",
       "      <td>Bronx</td>\n",
       "      <td>324.566667</td>\n",
       "    </tr>\n",
       "    <tr>\n",
       "      <th>3</th>\n",
       "      <td>Manhattan</td>\n",
       "      <td>278967.033333</td>\n",
       "    </tr>\n",
       "    <tr>\n",
       "      <th>4</th>\n",
       "      <td>Staten Island</td>\n",
       "      <td>3.033333</td>\n",
       "    </tr>\n",
       "    <tr>\n",
       "      <th>5</th>\n",
       "      <td>Brooklyn</td>\n",
       "      <td>3885.300000</td>\n",
       "    </tr>\n",
       "    <tr>\n",
       "      <th>6</th>\n",
       "      <td>Unknown</td>\n",
       "      <td>0.000000</td>\n",
       "    </tr>\n",
       "  </tbody>\n",
       "</table>\n",
       "</div>"
      ],
      "text/plain": [
       "         Borough  Daily average\n",
       "0            EWR       0.000000\n",
       "1         Queens   19017.333333\n",
       "2          Bronx     324.566667\n",
       "3      Manhattan  278967.033333\n",
       "4  Staten Island       3.033333\n",
       "5       Brooklyn    3885.300000\n",
       "6        Unknown       0.000000"
      ]
     },
     "execution_count": 30,
     "metadata": {},
     "output_type": "execute_result"
    }
   ],
   "source": [
    "df_borough = pd.DataFrame(list(borough_count.keys()), columns = [\"Borough\"])\n",
    "df_means = pd.DataFrame(list(borough_count.values()), columns = [\"Daily average\"])\n",
    "merge = df_borough.join(df_means)\n",
    "merge"
   ]
  },
  {
   "cell_type": "code",
   "execution_count": 31,
   "metadata": {},
   "outputs": [
    {
     "data": {
      "image/png": "[encoded data removed]",
      "text/plain": [
       "<Figure size 1080x432 with 1 Axes>"
      ]
     },
     "metadata": {},
     "output_type": "display_data"
    }
   ],
   "source": [
    "barplot = merge.plot(x=\"Borough\", y=\"Daily average\", kind='bar', figsize = (15, 6), fontsize = 12)"
   ]
  },
  {
   "cell_type": "markdown",
   "metadata": {},
   "source": [
    "### May"
   ]
  },
  {
   "cell_type": "code",
   "execution_count": 5,
   "metadata": {},
   "outputs": [],
   "source": [
    "final_may = keep_may.copy()"
   ]
  },
  {
   "cell_type": "code",
   "execution_count": 6,
   "metadata": {
    "scrolled": true
   },
   "outputs": [
    {
     "data": {
      "text/plain": [
       "tpep_pickup_datetime\n",
       "1     297910\n",
       "2     313770\n",
       "3     326969\n",
       "4     325487\n",
       "5     325490\n",
       "6     273213\n",
       "7     277727\n",
       "8     302919\n",
       "9     309374\n",
       "10    320836\n",
       "11    316722\n",
       "12    313984\n",
       "13    274587\n",
       "14    287158\n",
       "15    301458\n",
       "16    312874\n",
       "17    320145\n",
       "18    323626\n",
       "19    310069\n",
       "20    260704\n",
       "21    272303\n",
       "22    291028\n",
       "23    293229\n",
       "24    297863\n",
       "25    272959\n",
       "26    230910\n",
       "27    198563\n",
       "28    183105\n",
       "29    268923\n",
       "30    294015\n",
       "31    305146\n",
       "Name: tpep_pickup_datetime, dtype: int64"
      ]
     },
     "execution_count": 6,
     "metadata": {},
     "output_type": "execute_result"
    }
   ],
   "source": [
    "date_time_col = final_may['tpep_pickup_datetime']\n",
    "location_col = final_may['PULocationID']\n",
    "\n",
    "final_may_loc = location_col.groupby(location_col).count()\n",
    "final_may = date_time_col.groupby(date_time_col.dt.day).count()\n",
    "final_may"
   ]
  },
  {
   "cell_type": "code",
   "execution_count": 7,
   "metadata": {},
   "outputs": [
    {
     "data": {
      "text/plain": [
       "290421.48387096776"
      ]
     },
     "execution_count": 7,
     "metadata": {},
     "output_type": "execute_result"
    }
   ],
   "source": [
    "mean5 = final_may.mean()\n",
    "mean5"
   ]
  },
  {
   "cell_type": "code",
   "execution_count": 8,
   "metadata": {},
   "outputs": [],
   "source": [
    "del final_may"
   ]
  },
  {
   "cell_type": "code",
   "execution_count": 9,
   "metadata": {},
   "outputs": [
    {
     "data": {
      "text/plain": [
       "{'EWR': 0,\n",
       " 'Queens': 584976,\n",
       " 'Bronx': 10131,\n",
       " 'Manhattan': 8287431,\n",
       " 'Staten Island': 115,\n",
       " 'Brooklyn': 120190,\n",
       " 'Unknown': 0}"
      ]
     },
     "execution_count": 9,
     "metadata": {},
     "output_type": "execute_result"
    }
   ],
   "source": [
    "borough_count = {'EWR': 0, 'Queens': 0, 'Bronx': 0, 'Manhattan': 0, 'Staten Island': 0, 'Brooklyn': 0, 'Unknown': 0}\n",
    "\n",
    "for i in range(1, len(final_may_loc)):\n",
    "    LocationID = final_may_loc.index[i]\n",
    "    for borough in dfdict:\n",
    "        if LocationID in dfdict[borough]:\n",
    "            borough_count[borough] = borough_count[borough] + int(final_may_loc[LocationID])\n",
    "            \n",
    "borough_count"
   ]
  },
  {
   "cell_type": "code",
   "execution_count": 10,
   "metadata": {},
   "outputs": [],
   "source": [
    "del final_may_loc"
   ]
  },
  {
   "cell_type": "code",
   "execution_count": 11,
   "metadata": {},
   "outputs": [
    {
     "data": {
      "text/plain": [
       "{'EWR': 0.0,\n",
       " 'Queens': 18870.1935483871,\n",
       " 'Bronx': 326.80645161290323,\n",
       " 'Manhattan': 267336.48387096776,\n",
       " 'Staten Island': 3.7096774193548385,\n",
       " 'Brooklyn': 3877.0967741935483,\n",
       " 'Unknown': 0.0}"
      ]
     },
     "execution_count": 11,
     "metadata": {},
     "output_type": "execute_result"
    }
   ],
   "source": [
    "for borough in borough_count:\n",
    "    borough_count[borough] = borough_count[borough]/31\n",
    "    \n",
    "borough_count"
   ]
  },
  {
   "cell_type": "code",
   "execution_count": 12,
   "metadata": {},
   "outputs": [
    {
     "data": {
      "text/html": [
       "<div>\n",
       "<style scoped>\n",
       "    .dataframe tbody tr th:only-of-type {\n",
       "        vertical-align: middle;\n",
       "    }\n",
       "\n",
       "    .dataframe tbody tr th {\n",
       "        vertical-align: top;\n",
       "    }\n",
       "\n",
       "    .dataframe thead th {\n",
       "        text-align: right;\n",
       "    }\n",
       "</style>\n",
       "<table border=\"1\" class=\"dataframe\">\n",
       "  <thead>\n",
       "    <tr style=\"text-align: right;\">\n",
       "      <th></th>\n",
       "      <th>Borough</th>\n",
       "      <th>Daily mean</th>\n",
       "    </tr>\n",
       "  </thead>\n",
       "  <tbody>\n",
       "    <tr>\n",
       "      <th>0</th>\n",
       "      <td>EWR</td>\n",
       "      <td>0.000000</td>\n",
       "    </tr>\n",
       "    <tr>\n",
       "      <th>1</th>\n",
       "      <td>Queens</td>\n",
       "      <td>18870.193548</td>\n",
       "    </tr>\n",
       "    <tr>\n",
       "      <th>2</th>\n",
       "      <td>Bronx</td>\n",
       "      <td>326.806452</td>\n",
       "    </tr>\n",
       "    <tr>\n",
       "      <th>3</th>\n",
       "      <td>Manhattan</td>\n",
       "      <td>267336.483871</td>\n",
       "    </tr>\n",
       "    <tr>\n",
       "      <th>4</th>\n",
       "      <td>Staten Island</td>\n",
       "      <td>3.709677</td>\n",
       "    </tr>\n",
       "    <tr>\n",
       "      <th>5</th>\n",
       "      <td>Brooklyn</td>\n",
       "      <td>3877.096774</td>\n",
       "    </tr>\n",
       "    <tr>\n",
       "      <th>6</th>\n",
       "      <td>Unknown</td>\n",
       "      <td>0.000000</td>\n",
       "    </tr>\n",
       "  </tbody>\n",
       "</table>\n",
       "</div>"
      ],
      "text/plain": [
       "         Borough     Daily mean\n",
       "0            EWR       0.000000\n",
       "1         Queens   18870.193548\n",
       "2          Bronx     326.806452\n",
       "3      Manhattan  267336.483871\n",
       "4  Staten Island       3.709677\n",
       "5       Brooklyn    3877.096774\n",
       "6        Unknown       0.000000"
      ]
     },
     "execution_count": 12,
     "metadata": {},
     "output_type": "execute_result"
    }
   ],
   "source": [
    "df_borough = pd.DataFrame(list(borough_count.keys()), columns = [\"Borough\"])\n",
    "df_means = pd.DataFrame(list(borough_count.values()), columns = [\"Daily mean\"])\n",
    "merge = df_borough.join(df_means)\n",
    "merge"
   ]
  },
  {
   "cell_type": "code",
   "execution_count": 14,
   "metadata": {},
   "outputs": [
    {
     "data": {
      "image/png": "[encoded data removed]",
      "text/plain": [
       "<Figure size 1080x432 with 1 Axes>"
      ]
     },
     "metadata": {},
     "output_type": "display_data"
    }
   ],
   "source": [
    "barplot = merge.plot(x=\"Borough\", y=\"Daily mean\", kind='bar', figsize = (15, 6), fontsize = 12)"
   ]
  },
  {
   "cell_type": "markdown",
   "metadata": {},
   "source": [
    "### June"
   ]
  },
  {
   "cell_type": "code",
   "execution_count": 17,
   "metadata": {
    "scrolled": true
   },
   "outputs": [],
   "source": [
    "final_jun = keep_jun.copy()"
   ]
  },
  {
   "cell_type": "code",
   "execution_count": 20,
   "metadata": {
    "scrolled": false
   },
   "outputs": [
    {
     "data": {
      "text/plain": [
       "tpep_pickup_datetime\n",
       "1     313199\n",
       "2     301034\n",
       "3     258464\n",
       "4     272594\n",
       "5     291133\n",
       "6     307710\n",
       "7     311645\n",
       "8     308184\n",
       "9     286493\n",
       "10    243115\n",
       "11    271619\n",
       "12    288430\n",
       "13    305730\n",
       "14    308700\n",
       "15    274572\n",
       "16    268599\n",
       "17    241097\n",
       "18    274537\n",
       "19    291280\n",
       "20    300064\n",
       "21    301721\n",
       "22    303902\n",
       "23    267140\n",
       "24    237308\n",
       "25    260788\n",
       "26    280038\n",
       "27    290673\n",
       "28    294972\n",
       "29    277614\n",
       "30    262534\n",
       "Name: tpep_pickup_datetime, dtype: int64"
      ]
     },
     "execution_count": 20,
     "metadata": {},
     "output_type": "execute_result"
    }
   ],
   "source": [
    "date_time_col = final_jun['tpep_pickup_datetime']\n",
    "location_col = final_jun['PULocationID']\n",
    "\n",
    "final_jun_loc = location_col.groupby(location_col).count()\n",
    "final_jun = date_time_col.groupby(date_time_col.dt.day).count()\n",
    "final_jun"
   ]
  },
  {
   "cell_type": "code",
   "execution_count": 21,
   "metadata": {},
   "outputs": [
    {
     "data": {
      "text/plain": [
       "283162.9666666667"
      ]
     },
     "execution_count": 21,
     "metadata": {},
     "output_type": "execute_result"
    }
   ],
   "source": [
    "mean6 = final_jun.mean()\n",
    "mean6"
   ]
  },
  {
   "cell_type": "code",
   "execution_count": 22,
   "metadata": {},
   "outputs": [],
   "source": [
    "del final_jun"
   ]
  },
  {
   "cell_type": "code",
   "execution_count": 23,
   "metadata": {},
   "outputs": [
    {
     "data": {
      "text/plain": [
       "{'EWR': 0,\n",
       " 'Queens': 547697,\n",
       " 'Bronx': 9499,\n",
       " 'Manhattan': 7817042,\n",
       " 'Staten Island': 120,\n",
       " 'Brooklyn': 120344,\n",
       " 'Unknown': 0}"
      ]
     },
     "execution_count": 23,
     "metadata": {},
     "output_type": "execute_result"
    }
   ],
   "source": [
    "borough_count = {'EWR': 0, 'Queens': 0, 'Bronx': 0, 'Manhattan': 0, 'Staten Island': 0, 'Brooklyn': 0, 'Unknown': 0}\n",
    "\n",
    "for i in range(1, len(final_jun_loc)):\n",
    "    LocationID = final_jun_loc.index[i]\n",
    "    for borough in dfdict:\n",
    "        if LocationID in dfdict[borough]:\n",
    "            borough_count[borough] = borough_count[borough] + int(final_jun_loc[LocationID])\n",
    "            \n",
    "borough_count"
   ]
  },
  {
   "cell_type": "code",
   "execution_count": 24,
   "metadata": {},
   "outputs": [],
   "source": [
    "del final_jun_loc"
   ]
  },
  {
   "cell_type": "code",
   "execution_count": 25,
   "metadata": {},
   "outputs": [
    {
     "data": {
      "text/plain": [
       "{'EWR': 0.0,\n",
       " 'Queens': 18256.566666666666,\n",
       " 'Bronx': 316.6333333333333,\n",
       " 'Manhattan': 260568.06666666668,\n",
       " 'Staten Island': 4.0,\n",
       " 'Brooklyn': 4011.4666666666667,\n",
       " 'Unknown': 0.0}"
      ]
     },
     "execution_count": 25,
     "metadata": {},
     "output_type": "execute_result"
    }
   ],
   "source": [
    "for borough in borough_count:\n",
    "    borough_count[borough] = borough_count[borough]/30\n",
    "    \n",
    "borough_count"
   ]
  },
  {
   "cell_type": "code",
   "execution_count": 26,
   "metadata": {},
   "outputs": [
    {
     "data": {
      "text/html": [
       "<div>\n",
       "<style scoped>\n",
       "    .dataframe tbody tr th:only-of-type {\n",
       "        vertical-align: middle;\n",
       "    }\n",
       "\n",
       "    .dataframe tbody tr th {\n",
       "        vertical-align: top;\n",
       "    }\n",
       "\n",
       "    .dataframe thead th {\n",
       "        text-align: right;\n",
       "    }\n",
       "</style>\n",
       "<table border=\"1\" class=\"dataframe\">\n",
       "  <thead>\n",
       "    <tr style=\"text-align: right;\">\n",
       "      <th></th>\n",
       "      <th>Borough</th>\n",
       "      <th>Daily mean</th>\n",
       "    </tr>\n",
       "  </thead>\n",
       "  <tbody>\n",
       "    <tr>\n",
       "      <th>0</th>\n",
       "      <td>EWR</td>\n",
       "      <td>0.000000</td>\n",
       "    </tr>\n",
       "    <tr>\n",
       "      <th>1</th>\n",
       "      <td>Queens</td>\n",
       "      <td>18256.566667</td>\n",
       "    </tr>\n",
       "    <tr>\n",
       "      <th>2</th>\n",
       "      <td>Bronx</td>\n",
       "      <td>316.633333</td>\n",
       "    </tr>\n",
       "    <tr>\n",
       "      <th>3</th>\n",
       "      <td>Manhattan</td>\n",
       "      <td>260568.066667</td>\n",
       "    </tr>\n",
       "    <tr>\n",
       "      <th>4</th>\n",
       "      <td>Staten Island</td>\n",
       "      <td>4.000000</td>\n",
       "    </tr>\n",
       "    <tr>\n",
       "      <th>5</th>\n",
       "      <td>Brooklyn</td>\n",
       "      <td>4011.466667</td>\n",
       "    </tr>\n",
       "    <tr>\n",
       "      <th>6</th>\n",
       "      <td>Unknown</td>\n",
       "      <td>0.000000</td>\n",
       "    </tr>\n",
       "  </tbody>\n",
       "</table>\n",
       "</div>"
      ],
      "text/plain": [
       "         Borough     Daily mean\n",
       "0            EWR       0.000000\n",
       "1         Queens   18256.566667\n",
       "2          Bronx     316.633333\n",
       "3      Manhattan  260568.066667\n",
       "4  Staten Island       4.000000\n",
       "5       Brooklyn    4011.466667\n",
       "6        Unknown       0.000000"
      ]
     },
     "execution_count": 26,
     "metadata": {},
     "output_type": "execute_result"
    }
   ],
   "source": [
    "df_borough = pd.DataFrame(list(borough_count.keys()), columns = [\"Borough\"])\n",
    "df_means = pd.DataFrame(list(borough_count.values()), columns = [\"Daily mean\"])\n",
    "merge = df_borough.join(df_means)\n",
    "merge"
   ]
  },
  {
   "cell_type": "code",
   "execution_count": 27,
   "metadata": {},
   "outputs": [
    {
     "data": {
      "image/png": "[encoded data removed]",
      "text/plain": [
       "<Figure size 1080x432 with 1 Axes>"
      ]
     },
     "metadata": {},
     "output_type": "display_data"
    }
   ],
   "source": [
    "barplot = merge.plot(x=\"Borough\", y=\"Daily mean\", kind='bar', figsize = (15, 6), fontsize = 12)"
   ]
  },
  {
   "cell_type": "markdown",
   "metadata": {},
   "source": [
    "### Overal NY analysis"
   ]
  },
  {
   "cell_type": "code",
   "execution_count": 28,
   "metadata": {},
   "outputs": [
    {
     "data": {
      "text/plain": [
       "[274776.8064516129,\n",
       " 295547.6785714286,\n",
       " 295906.03225806454,\n",
       " 302203.5,\n",
       " 290421.48387096776,\n",
       " 283162.9666666667]"
      ]
     },
     "execution_count": 28,
     "metadata": {},
     "output_type": "execute_result"
    }
   ],
   "source": [
    "# build list of means\n",
    "\n",
    "l1 = [mean1, mean2, mean3, mean4, mean5, mean6]\n",
    "l1"
   ]
  },
  {
   "cell_type": "code",
   "execution_count": 29,
   "metadata": {},
   "outputs": [
    {
     "data": {
      "text/html": [
       "<div>\n",
       "<style scoped>\n",
       "    .dataframe tbody tr th:only-of-type {\n",
       "        vertical-align: middle;\n",
       "    }\n",
       "\n",
       "    .dataframe tbody tr th {\n",
       "        vertical-align: top;\n",
       "    }\n",
       "\n",
       "    .dataframe thead th {\n",
       "        text-align: right;\n",
       "    }\n",
       "</style>\n",
       "<table border=\"1\" class=\"dataframe\">\n",
       "  <thead>\n",
       "    <tr style=\"text-align: right;\">\n",
       "      <th></th>\n",
       "      <th>daily average</th>\n",
       "    </tr>\n",
       "  </thead>\n",
       "  <tbody>\n",
       "    <tr>\n",
       "      <th>0</th>\n",
       "      <td>274776.806452</td>\n",
       "    </tr>\n",
       "    <tr>\n",
       "      <th>1</th>\n",
       "      <td>295547.678571</td>\n",
       "    </tr>\n",
       "    <tr>\n",
       "      <th>2</th>\n",
       "      <td>295906.032258</td>\n",
       "    </tr>\n",
       "    <tr>\n",
       "      <th>3</th>\n",
       "      <td>302203.500000</td>\n",
       "    </tr>\n",
       "    <tr>\n",
       "      <th>4</th>\n",
       "      <td>290421.483871</td>\n",
       "    </tr>\n",
       "    <tr>\n",
       "      <th>5</th>\n",
       "      <td>283162.966667</td>\n",
       "    </tr>\n",
       "  </tbody>\n",
       "</table>\n",
       "</div>"
      ],
      "text/plain": [
       "   daily average\n",
       "0  274776.806452\n",
       "1  295547.678571\n",
       "2  295906.032258\n",
       "3  302203.500000\n",
       "4  290421.483871\n",
       "5  283162.966667"
      ]
     },
     "execution_count": 29,
     "metadata": {},
     "output_type": "execute_result"
    }
   ],
   "source": [
    "df_mean = pd.DataFrame(l1, columns = ['daily average'])\n",
    "df_mean"
   ]
  },
  {
   "cell_type": "code",
   "execution_count": 30,
   "metadata": {},
   "outputs": [],
   "source": [
    "l2 = ['january', 'february', 'march', 'april', 'may', 'june']"
   ]
  },
  {
   "cell_type": "code",
   "execution_count": 31,
   "metadata": {},
   "outputs": [
    {
     "data": {
      "text/html": [
       "<div>\n",
       "<style scoped>\n",
       "    .dataframe tbody tr th:only-of-type {\n",
       "        vertical-align: middle;\n",
       "    }\n",
       "\n",
       "    .dataframe tbody tr th {\n",
       "        vertical-align: top;\n",
       "    }\n",
       "\n",
       "    .dataframe thead th {\n",
       "        text-align: right;\n",
       "    }\n",
       "</style>\n",
       "<table border=\"1\" class=\"dataframe\">\n",
       "  <thead>\n",
       "    <tr style=\"text-align: right;\">\n",
       "      <th></th>\n",
       "      <th>month</th>\n",
       "    </tr>\n",
       "  </thead>\n",
       "  <tbody>\n",
       "    <tr>\n",
       "      <th>0</th>\n",
       "      <td>january</td>\n",
       "    </tr>\n",
       "    <tr>\n",
       "      <th>1</th>\n",
       "      <td>february</td>\n",
       "    </tr>\n",
       "    <tr>\n",
       "      <th>2</th>\n",
       "      <td>march</td>\n",
       "    </tr>\n",
       "    <tr>\n",
       "      <th>3</th>\n",
       "      <td>april</td>\n",
       "    </tr>\n",
       "    <tr>\n",
       "      <th>4</th>\n",
       "      <td>may</td>\n",
       "    </tr>\n",
       "    <tr>\n",
       "      <th>5</th>\n",
       "      <td>june</td>\n",
       "    </tr>\n",
       "  </tbody>\n",
       "</table>\n",
       "</div>"
      ],
      "text/plain": [
       "      month\n",
       "0   january\n",
       "1  february\n",
       "2     march\n",
       "3     april\n",
       "4       may\n",
       "5      june"
      ]
     },
     "execution_count": 31,
     "metadata": {},
     "output_type": "execute_result"
    }
   ],
   "source": [
    "df_month = pd.DataFrame(l2, columns = ['month'])\n",
    "df_month"
   ]
  },
  {
   "cell_type": "code",
   "execution_count": 32,
   "metadata": {},
   "outputs": [
    {
     "data": {
      "text/html": [
       "<div>\n",
       "<style scoped>\n",
       "    .dataframe tbody tr th:only-of-type {\n",
       "        vertical-align: middle;\n",
       "    }\n",
       "\n",
       "    .dataframe tbody tr th {\n",
       "        vertical-align: top;\n",
       "    }\n",
       "\n",
       "    .dataframe thead th {\n",
       "        text-align: right;\n",
       "    }\n",
       "</style>\n",
       "<table border=\"1\" class=\"dataframe\">\n",
       "  <thead>\n",
       "    <tr style=\"text-align: right;\">\n",
       "      <th></th>\n",
       "      <th>month</th>\n",
       "      <th>daily average</th>\n",
       "    </tr>\n",
       "  </thead>\n",
       "  <tbody>\n",
       "    <tr>\n",
       "      <th>0</th>\n",
       "      <td>january</td>\n",
       "      <td>274776.806452</td>\n",
       "    </tr>\n",
       "    <tr>\n",
       "      <th>1</th>\n",
       "      <td>february</td>\n",
       "      <td>295547.678571</td>\n",
       "    </tr>\n",
       "    <tr>\n",
       "      <th>2</th>\n",
       "      <td>march</td>\n",
       "      <td>295906.032258</td>\n",
       "    </tr>\n",
       "    <tr>\n",
       "      <th>3</th>\n",
       "      <td>april</td>\n",
       "      <td>302203.500000</td>\n",
       "    </tr>\n",
       "    <tr>\n",
       "      <th>4</th>\n",
       "      <td>may</td>\n",
       "      <td>290421.483871</td>\n",
       "    </tr>\n",
       "    <tr>\n",
       "      <th>5</th>\n",
       "      <td>june</td>\n",
       "      <td>283162.966667</td>\n",
       "    </tr>\n",
       "  </tbody>\n",
       "</table>\n",
       "</div>"
      ],
      "text/plain": [
       "      month  daily average\n",
       "0   january  274776.806452\n",
       "1  february  295547.678571\n",
       "2     march  295906.032258\n",
       "3     april  302203.500000\n",
       "4       may  290421.483871\n",
       "5      june  283162.966667"
      ]
     },
     "execution_count": 32,
     "metadata": {},
     "output_type": "execute_result"
    }
   ],
   "source": [
    "merge = df_month.join(df_mean)\n",
    "merge"
   ]
  },
  {
   "cell_type": "code",
   "execution_count": 33,
   "metadata": {},
   "outputs": [
    {
     "data": {
      "image/png": "[encoded data removed]",
      "text/plain": [
       "<Figure size 720x432 with 1 Axes>"
      ]
     },
     "metadata": {},
     "output_type": "display_data"
    }
   ],
   "source": [
    "barplot = merge.plot(x = 'month', y = 'daily average', kind = 'bar', figsize = (10, 6), fontsize = 12)"
   ]
  },
  {
   "cell_type": "code",
   "execution_count": null,
   "metadata": {},
   "outputs": [],
   "source": []
  }
 ],
 "metadata": {
  "kernelspec": {
   "display_name": "Python 3",
   "language": "python",
   "name": "python3"
  },
  "language_info": {
   "codemirror_mode": {
    "name": "ipython",
    "version": 3
   },
   "file_extension": ".py",
   "mimetype": "text/x-python",
   "name": "python",
   "nbconvert_exporter": "python",
   "pygments_lexer": "ipython3",
   "version": "3.6.5"
  }
 },
 "nbformat": 4,
 "nbformat_minor": 2
}
