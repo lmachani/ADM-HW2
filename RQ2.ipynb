{
 "cells": [
  {
   "cell_type": "markdown",
   "metadata": {},
   "source": [
    "# RQ2"
   ]
  },
  {
   "cell_type": "code",
   "execution_count": null,
   "metadata": {},
   "outputs": [],
   "source": [
    "import datetime as dt"
   ]
  },
  {
   "cell_type": "code",
   "execution_count": null,
   "metadata": {},
   "outputs": [],
   "source": [
    "import pandas as pd"
   ]
  },
  {
   "cell_type": "markdown",
   "metadata": {},
   "source": [
    "# JANUARY"
   ]
  },
  {
   "cell_type": "code",
   "execution_count": null,
   "metadata": {},
   "outputs": [],
   "source": [
    "final_jan = keep_jan.copy()"
   ]
  },
  {
   "cell_type": "code",
   "execution_count": null,
   "metadata": {},
   "outputs": [],
   "source": [
    "# format pickup datetime column, leaving only the hours (selected time slots)\n",
    "\n",
    "final_jan['tpep_pickup_datetime'] = final_jan['tpep_pickup_datetime'].dt.hour\n",
    "final_jan"
   ]
  },
  {
   "cell_type": "code",
   "execution_count": null,
   "metadata": {},
   "outputs": [],
   "source": [
    "# remove dropoff datetime column\n",
    "\n",
    "final_jan = final_jan.drop(labels = \"tpep_dropoff_datetime\", axis = 1)"
   ]
  },
  {
   "cell_type": "code",
   "execution_count": null,
   "metadata": {},
   "outputs": [],
   "source": [
    "final_jan = final_jan.groupby(['tpep_pickup_datetime','PULocationID'])[\"passenger_count\"].sum()"
   ]
  },
  {
   "cell_type": "code",
   "execution_count": null,
   "metadata": {},
   "outputs": [],
   "source": [
    "# count total number of trips for each borough, and for each time slot\n",
    "\n",
    "# this dictionary contains the count for each borough\n",
    "\n",
    "overall_count = [0]*24\n",
    "\n",
    "borough_count = {'EWR': [0]*24, 'Queens': [0]*24, 'Bronx': [0]*24, 'Manhattan': [0]*24, 'Staten Island': [0]*24, 'Brooklyn': [0]*24, 'Unknown': [0]*24}\n",
    "\n",
    "# for every total count in final_jan_loc, get the corresponding time slot, and LocationID\n",
    "# check what borough the location belongs to, and \n",
    "# add the count for that location to the correct borough and time slot\n",
    "\n",
    "for i in range(0, len(final_jan)):\n",
    "    time_slot = final_jan.index[i][0]\n",
    "    LocationID = final_jan.index[i][1]\n",
    "    for borough in dfdict:\n",
    "        if LocationID in dfdict[borough]:\n",
    "            borough_count[borough][int(time_slot)] = borough_count[borough][int(time_slot)] + int(final_jan[time_slot][LocationID])\n",
    "\n",
    "    overall_count[int(time_slot)] = overall_count[int(time_slot)] + int(final_jan[time_slot][LocationID])\n",
    "    \n",
    "del final_jan"
   ]
  },
  {
   "cell_type": "markdown",
   "metadata": {},
   "source": [
    "# January: NY"
   ]
  },
  {
   "cell_type": "code",
   "execution_count": null,
   "metadata": {},
   "outputs": [],
   "source": [
    "df_time_slot = pd.DataFrame(list(range(24)), columns = [\"Time slots\"])\n",
    "df_overallcount = pd.DataFrame(overall_count, columns = [\"NY: n° of passengers\"])\n",
    "merge = df_time_slot.join(df_overallcount)\n",
    "merge"
   ]
  },
  {
   "cell_type": "code",
   "execution_count": null,
   "metadata": {},
   "outputs": [],
   "source": [
    "# Plot an histogram\n",
    "\n",
    "barplot = merge.plot(x=\"Time slots\", y=\"NY: n° of passengers\", kind='bar', figsize = (15, 6), fontsize = 12)"
   ]
  },
  {
   "cell_type": "markdown",
   "metadata": {},
   "source": [
    "# January: EWR"
   ]
  },
  {
   "cell_type": "code",
   "execution_count": null,
   "metadata": {},
   "outputs": [],
   "source": [
    "df_count = pd.DataFrame(borough_count[\"EWR\"], columns = [\"EWR: n° of passengers\"])\n",
    "merge = df_time_slot.join(df_count)\n",
    "merge"
   ]
  },
  {
   "cell_type": "code",
   "execution_count": null,
   "metadata": {},
   "outputs": [],
   "source": [
    "# Plot an histogram\n",
    "\n",
    "barplot = merge.plot(x=\"Time slots\", y=\"EWR: n° of passengers\", kind='bar', figsize = (15, 6), fontsize = 12)"
   ]
  },
  {
   "cell_type": "markdown",
   "metadata": {},
   "source": [
    "# January: Queens"
   ]
  },
  {
   "cell_type": "code",
   "execution_count": null,
   "metadata": {},
   "outputs": [],
   "source": [
    "df_time_slot = pd.DataFrame(list(range(24)), columns = [\"Time slots\"])\n",
    "df_count = pd.DataFrame(borough_count[\"Queens\"], columns = [\"Queens: n° of passengers\"])\n",
    "merge = df_time_slot.join(df_count)\n",
    "merge"
   ]
  },
  {
   "cell_type": "code",
   "execution_count": null,
   "metadata": {},
   "outputs": [],
   "source": [
    "# Plot an histogram\n",
    "\n",
    "barplot = merge.plot(x=\"Time slots\", y=\"Queens: n° of passengers\", kind='bar', figsize = (15, 6), fontsize = 12)"
   ]
  },
  {
   "cell_type": "markdown",
   "metadata": {},
   "source": [
    "# January: Manhattan"
   ]
  },
  {
   "cell_type": "code",
   "execution_count": null,
   "metadata": {},
   "outputs": [],
   "source": [
    "df_time_slot = pd.DataFrame(list(range(24)), columns = [\"Time slots\"])\n",
    "df_count = pd.DataFrame(borough_count[\"Manhattan\"], columns = [\"Manhattan: n° of passengers\"])\n",
    "merge = df_time_slot.join(df_count)\n",
    "merge"
   ]
  },
  {
   "cell_type": "code",
   "execution_count": null,
   "metadata": {},
   "outputs": [],
   "source": [
    "# Plot an histogram\n",
    "\n",
    "barplot = merge.plot(x=\"Time slots\", y=\"Manhattan: n° of passengers\", kind='bar', figsize = (15, 6), fontsize = 12)"
   ]
  },
  {
   "cell_type": "markdown",
   "metadata": {},
   "source": [
    "# January: Staten Island"
   ]
  },
  {
   "cell_type": "code",
   "execution_count": null,
   "metadata": {},
   "outputs": [],
   "source": [
    "df_time_slot = pd.DataFrame(list(range(24)), columns = [\"Time slots\"])\n",
    "df_count = pd.DataFrame(borough_count[\"Staten Island\"], columns = [\"Staten Island: n° of passengers\"])\n",
    "merge = df_time_slot.join(df_count)\n",
    "merge"
   ]
  },
  {
   "cell_type": "code",
   "execution_count": null,
   "metadata": {},
   "outputs": [],
   "source": [
    "# Plot an histogram\n",
    "\n",
    "barplot = merge.plot(x=\"Time slots\", y=\"Staten Island: n° of passengers\", kind='bar', figsize = (15, 6), fontsize = 12)"
   ]
  },
  {
   "cell_type": "markdown",
   "metadata": {},
   "source": [
    "# January: Bronx"
   ]
  },
  {
   "cell_type": "code",
   "execution_count": null,
   "metadata": {},
   "outputs": [],
   "source": [
    "df_time_slot = pd.DataFrame(list(range(24)), columns = [\"Time slots\"])\n",
    "df_count = pd.DataFrame(borough_count[\"Bronx\"], columns = [\"Bronx: n° of passengers\"])\n",
    "merge = df_time_slot.join(df_count)\n",
    "merge"
   ]
  },
  {
   "cell_type": "code",
   "execution_count": null,
   "metadata": {},
   "outputs": [],
   "source": [
    "# Plot an histogram\n",
    "\n",
    "barplot = merge.plot(x=\"Time slots\", y=\"Bronx: n° of passengers\", kind='bar', figsize = (15, 6), fontsize = 12)"
   ]
  },
  {
   "cell_type": "markdown",
   "metadata": {},
   "source": [
    "# January: Brooklyn"
   ]
  },
  {
   "cell_type": "code",
   "execution_count": null,
   "metadata": {},
   "outputs": [],
   "source": [
    "df_time_slot = pd.DataFrame(list(range(24)), columns = [\"Time slots\"])\n",
    "df_count = pd.DataFrame(borough_count[\"Brooklyn\"], columns = [\"Brooklyn: n° of passengers\"])\n",
    "merge = df_time_slot.join(df_count)\n",
    "merge"
   ]
  },
  {
   "cell_type": "code",
   "execution_count": null,
   "metadata": {},
   "outputs": [],
   "source": [
    "# Plot an histogram\n",
    "\n",
    "barplot = merge.plot(x=\"Time slots\", y=\"Brooklyn: n° of passengers\", kind='bar', figsize = (15, 6), fontsize = 12)"
   ]
  },
  {
   "cell_type": "markdown",
   "metadata": {},
   "source": [
    "# FEBRUARY"
   ]
  },
  {
   "cell_type": "code",
   "execution_count": null,
   "metadata": {},
   "outputs": [],
   "source": [
    "final_feb = keep_feb.copy()"
   ]
  },
  {
   "cell_type": "code",
   "execution_count": null,
   "metadata": {},
   "outputs": [],
   "source": [
    "# format pickup datetime column, leaving only the hours (selected time slots)\n",
    "\n",
    "final_feb['tpep_pickup_datetime'] = final_feb['tpep_pickup_datetime'].dt.hour\n",
    "final_feb"
   ]
  },
  {
   "cell_type": "code",
   "execution_count": null,
   "metadata": {},
   "outputs": [],
   "source": [
    "# remove dropoff datetime column\n",
    "\n",
    "final_feb = final_feb.drop(labels = \"tpep_dropoff_datetime\", axis = 1)"
   ]
  },
  {
   "cell_type": "code",
   "execution_count": null,
   "metadata": {},
   "outputs": [],
   "source": [
    "final_feb = final_feb.groupby(['tpep_pickup_datetime','PULocationID'])[\"passenger_count\"].sum()"
   ]
  },
  {
   "cell_type": "code",
   "execution_count": null,
   "metadata": {},
   "outputs": [],
   "source": [
    "# count total number of trips for each borough, and for each time slot\n",
    "\n",
    "# this dictionary contains the count for each borough\n",
    "\n",
    "overall_count = [0]*24\n",
    "\n",
    "borough_count = {'EWR': [0]*24, 'Queens': [0]*24, 'Bronx': [0]*24, 'Manhattan': [0]*24, 'Staten Island': [0]*24, 'Brooklyn': [0]*24, 'Unknown': [0]*24}\n",
    "\n",
    "# for every total count in keep_loc, get the corresponding time slot, and LocationID\n",
    "# check what borough the location belongs to, and \n",
    "# add the count for that location to the correct borough and time slot\n",
    "\n",
    "for i in range(0, len(final_feb)):\n",
    "    time_slot = final_feb.index[i][0]\n",
    "    LocationID = final_feb.index[i][1]\n",
    "    for borough in dfdict:\n",
    "        if LocationID in dfdict[borough]:\n",
    "            borough_count[borough][int(time_slot)] = borough_count[borough][int(time_slot)] + int(final_feb[time_slot][LocationID])\n",
    "    \n",
    "    overall_count[int(time_slot)] = overall_count[int(time_slot)] + int(final_feb[time_slot][LocationID])\n",
    "\n",
    "del final_feb"
   ]
  },
  {
   "cell_type": "markdown",
   "metadata": {},
   "source": [
    "# February: NY"
   ]
  },
  {
   "cell_type": "code",
   "execution_count": null,
   "metadata": {},
   "outputs": [],
   "source": [
    "df_time_slot = pd.DataFrame(list(range(24)), columns = [\"Time slots\"])\n",
    "df_overallcount = pd.DataFrame(overall_count, columns = [\"NY: n° of passengers\"])\n",
    "merge = df_time_slot.join(df_overallcount)\n",
    "merge"
   ]
  },
  {
   "cell_type": "code",
   "execution_count": null,
   "metadata": {},
   "outputs": [],
   "source": [
    "# Plot an histogram\n",
    "\n",
    "barplot = merge.plot(x=\"Time slots\", y=\"NY: n° of passengers\", kind='bar', figsize = (15, 6), fontsize = 12)"
   ]
  },
  {
   "cell_type": "markdown",
   "metadata": {},
   "source": [
    "# February: EWR"
   ]
  },
  {
   "cell_type": "code",
   "execution_count": null,
   "metadata": {},
   "outputs": [],
   "source": [
    "df_count = pd.DataFrame(borough_count[\"EWR\"], columns = [\"EWR: n° of passengers\"])\n",
    "merge = df_time_slot.join(df_count)\n",
    "merge"
   ]
  },
  {
   "cell_type": "code",
   "execution_count": null,
   "metadata": {},
   "outputs": [],
   "source": [
    "# Plot an histogram\n",
    "\n",
    "barplot = merge.plot(x=\"Time slots\", y=\"EWR: n° of passengers\", kind='bar', figsize = (15, 6), fontsize = 12)"
   ]
  },
  {
   "cell_type": "code",
   "execution_count": null,
   "metadata": {},
   "outputs": [],
   "source": [
    "df_time_slot = pd.DataFrame(list(range(24)), columns = [\"Time slots\"])\n",
    "df_count = pd.DataFrame(borough_count[\"Queens\"], columns = [\"Queens: n° of passengers\"])\n",
    "merge = df_time_slot.join(df_count)\n",
    "merge"
   ]
  },
  {
   "cell_type": "code",
   "execution_count": null,
   "metadata": {},
   "outputs": [],
   "source": [
    "# Plot an histogram\n",
    "\n",
    "barplot = merge.plot(x=\"Time slots\", y=\"Queens: n° of passengers\", kind='bar', figsize = (15, 6), fontsize = 12)"
   ]
  },
  {
   "cell_type": "code",
   "execution_count": null,
   "metadata": {},
   "outputs": [],
   "source": [
    "df_time_slot = pd.DataFrame(list(range(24)), columns = [\"Time slots\"])\n",
    "df_count = pd.DataFrame(borough_count[\"Manhattan\"], columns = [\"Manhattan: n° of passengers\"])\n",
    "merge = df_time_slot.join(df_count)\n",
    "merge"
   ]
  },
  {
   "cell_type": "code",
   "execution_count": null,
   "metadata": {},
   "outputs": [],
   "source": [
    "# Plot an histogram\n",
    "\n",
    "barplot = merge.plot(x=\"Time slots\", y=\"Manhattan: n° of passengers\", kind='bar', figsize = (15, 6), fontsize = 12)"
   ]
  },
  {
   "cell_type": "code",
   "execution_count": null,
   "metadata": {},
   "outputs": [],
   "source": [
    "df_time_slot = pd.DataFrame(list(range(24)), columns = [\"Time slots\"])\n",
    "df_count = pd.DataFrame(borough_count[\"Staten Island\"], columns = [\"Staten Island: n° of passengers\"])\n",
    "merge = df_time_slot.join(df_count)\n",
    "merge"
   ]
  },
  {
   "cell_type": "code",
   "execution_count": null,
   "metadata": {},
   "outputs": [],
   "source": [
    "# Plot an histogram\n",
    "\n",
    "barplot = merge.plot(x=\"Time slots\", y=\"Staten Island: n° of passengers\", kind='bar', figsize = (15, 6), fontsize = 12)"
   ]
  },
  {
   "cell_type": "code",
   "execution_count": null,
   "metadata": {},
   "outputs": [],
   "source": [
    "df_time_slot = pd.DataFrame(list(range(24)), columns = [\"Time slots\"])\n",
    "df_count = pd.DataFrame(borough_count[\"Bronx\"], columns = [\"Bronx: n° of passengers\"])\n",
    "merge = df_time_slot.join(df_count)\n",
    "merge"
   ]
  },
  {
   "cell_type": "code",
   "execution_count": null,
   "metadata": {},
   "outputs": [],
   "source": [
    "# Plot an histogram\n",
    "\n",
    "barplot = merge.plot(x=\"Time slots\", y=\"Bronx: n° of passengers\", kind='bar', figsize = (15, 6), fontsize = 12)"
   ]
  },
  {
   "cell_type": "markdown",
   "metadata": {},
   "source": [
    "# February: Brooklyn"
   ]
  },
  {
   "cell_type": "code",
   "execution_count": null,
   "metadata": {},
   "outputs": [],
   "source": [
    "df_time_slot = pd.DataFrame(list(range(24)), columns = [\"Time slots\"])\n",
    "df_count = pd.DataFrame(borough_count[\"Brooklyn\"], columns = [\"Brooklyn: n° of passengers\"])\n",
    "merge = df_time_slot.join(df_count)\n",
    "merge"
   ]
  },
  {
   "cell_type": "code",
   "execution_count": null,
   "metadata": {},
   "outputs": [],
   "source": [
    "# Plot an histogram\n",
    "\n",
    "barplot = merge.plot(x=\"Time slots\", y=\"Brooklyn: n° of passengers\", kind='bar', figsize = (15, 6), fontsize = 12)"
   ]
  },
  {
   "cell_type": "markdown",
   "metadata": {},
   "source": [
    "# MARCH"
   ]
  },
  {
   "cell_type": "code",
   "execution_count": null,
   "metadata": {},
   "outputs": [],
   "source": [
    "final_mar = keep_mar.copy()"
   ]
  },
  {
   "cell_type": "code",
   "execution_count": null,
   "metadata": {},
   "outputs": [],
   "source": [
    "# format pickup datetime column, leaving only the hours (selected time slots)\n",
    "\n",
    "final_mar['tpep_pickup_datetime'] = final_mar['tpep_pickup_datetime'].dt.hour\n",
    "final_mar"
   ]
  },
  {
   "cell_type": "code",
   "execution_count": null,
   "metadata": {},
   "outputs": [],
   "source": [
    "# remove dropoff datetime column\n",
    "\n",
    "final_mar = final_mar.drop(labels = \"tpep_dropoff_datetime\", axis = 1)"
   ]
  },
  {
   "cell_type": "code",
   "execution_count": null,
   "metadata": {},
   "outputs": [],
   "source": [
    "final_mar = final_mar.groupby(['tpep_pickup_datetime','PULocationID'])[\"passenger_count\"].sum()"
   ]
  },
  {
   "cell_type": "code",
   "execution_count": null,
   "metadata": {},
   "outputs": [],
   "source": [
    "# count total number of trips for each borough, and for each time slot\n",
    "\n",
    "# this dictionary contains the count for each borough\n",
    "\n",
    "overall_count = [0]*24\n",
    "\n",
    "borough_count = {'EWR': [0]*24, 'Queens': [0]*24, 'Bronx': [0]*24, 'Manhattan': [0]*24, 'Staten Island': [0]*24, 'Brooklyn': [0]*24, 'Unknown': [0]*24}\n",
    "\n",
    "# for every total count in keep_loc, get the corresponding time slot, and LocationID\n",
    "# check what borough the location belongs to, and \n",
    "# add the count for that location to the correct borough and time slot\n",
    "\n",
    "for i in range(0, len(final_mar)):\n",
    "    time_slot = final_mar.index[i][0]\n",
    "    LocationID = final_mar.index[i][1]\n",
    "    for borough in dfdict:\n",
    "        if LocationID in dfdict[borough]:\n",
    "            borough_count[borough][int(time_slot)] = borough_count[borough][int(time_slot)] + int(final_mar[time_slot][LocationID])\n",
    "    \n",
    "    overall_count[int(time_slot)] = overall_count[int(time_slot)] + int(final_mar[time_slot][LocationID])\n",
    "\n",
    "del final_mar"
   ]
  },
  {
   "cell_type": "markdown",
   "metadata": {},
   "source": [
    "# March: NY"
   ]
  },
  {
   "cell_type": "code",
   "execution_count": null,
   "metadata": {},
   "outputs": [],
   "source": [
    "df_time_slot = pd.DataFrame(list(range(24)), columns = [\"Time slots\"])\n",
    "df_overallcount = pd.DataFrame(overall_count, columns = [\"NY: n° of passengers\"])\n",
    "merge = df_time_slot.join(df_overallcount)\n",
    "merge"
   ]
  },
  {
   "cell_type": "code",
   "execution_count": null,
   "metadata": {},
   "outputs": [],
   "source": [
    "# Plot an histogram\n",
    "\n",
    "barplot = merge.plot(x=\"Time slots\", y=\"NY: n° of passengers\", kind='bar', figsize = (15, 6), fontsize = 12)"
   ]
  },
  {
   "cell_type": "markdown",
   "metadata": {},
   "source": [
    "# March: EWR"
   ]
  },
  {
   "cell_type": "code",
   "execution_count": null,
   "metadata": {},
   "outputs": [],
   "source": [
    "df_count = pd.DataFrame(borough_count[\"EWR\"], columns = [\"EWR: n° of passengers\"])\n",
    "merge = df_time_slot.join(df_count)\n",
    "merge"
   ]
  },
  {
   "cell_type": "code",
   "execution_count": null,
   "metadata": {},
   "outputs": [],
   "source": [
    "# Plot an histogram\n",
    "\n",
    "barplot = merge.plot(x=\"Time slots\", y=\"EWR: n° of passengers\", kind='bar', figsize = (15, 6), fontsize = 12)"
   ]
  },
  {
   "cell_type": "markdown",
   "metadata": {},
   "source": [
    "# March: Queens"
   ]
  },
  {
   "cell_type": "code",
   "execution_count": null,
   "metadata": {},
   "outputs": [],
   "source": [
    "df_time_slot = pd.DataFrame(list(range(24)), columns = [\"Time slots\"])\n",
    "df_count = pd.DataFrame(borough_count[\"Queens\"], columns = [\"Queens: n° of passengers\"])\n",
    "merge = df_time_slot.join(df_count)\n",
    "merge"
   ]
  },
  {
   "cell_type": "code",
   "execution_count": null,
   "metadata": {},
   "outputs": [],
   "source": [
    "# Plot an histogram\n",
    "\n",
    "barplot = merge.plot(x=\"Time slots\", y=\"Queens: n° of passengers\", kind='bar', figsize = (15, 6), fontsize = 12)"
   ]
  },
  {
   "cell_type": "markdown",
   "metadata": {},
   "source": [
    "# March: Manhattan"
   ]
  },
  {
   "cell_type": "code",
   "execution_count": null,
   "metadata": {},
   "outputs": [],
   "source": [
    "df_time_slot = pd.DataFrame(list(range(24)), columns = [\"Time slots\"])\n",
    "df_count = pd.DataFrame(borough_count[\"Manhattan\"], columns = [\"Manhattan: n° of passengers\"])\n",
    "merge = df_time_slot.join(df_count)\n",
    "merge"
   ]
  },
  {
   "cell_type": "code",
   "execution_count": null,
   "metadata": {},
   "outputs": [],
   "source": [
    "# Plot an histogram\n",
    "\n",
    "barplot = merge.plot(x=\"Time slots\", y=\"Manhattan: n° of passengers\", kind='bar', figsize = (15, 6), fontsize = 12)"
   ]
  },
  {
   "cell_type": "markdown",
   "metadata": {},
   "source": [
    "# March: Staten Island"
   ]
  },
  {
   "cell_type": "code",
   "execution_count": null,
   "metadata": {},
   "outputs": [],
   "source": [
    "df_time_slot = pd.DataFrame(list(range(24)), columns = [\"Time slots\"])\n",
    "df_count = pd.DataFrame(borough_count[\"Staten Island\"], columns = [\"Staten Island: n° of passengers\"])\n",
    "merge = df_time_slot.join(df_count)\n",
    "merge"
   ]
  },
  {
   "cell_type": "code",
   "execution_count": null,
   "metadata": {},
   "outputs": [],
   "source": [
    "# Plot an histogram\n",
    "\n",
    "barplot = merge.plot(x=\"Time slots\", y=\"Staten Island: n° of passengers\", kind='bar', figsize = (15, 6), fontsize = 12)"
   ]
  },
  {
   "cell_type": "markdown",
   "metadata": {},
   "source": [
    "# March: Bronx"
   ]
  },
  {
   "cell_type": "code",
   "execution_count": null,
   "metadata": {},
   "outputs": [],
   "source": [
    "df_time_slot = pd.DataFrame(list(range(24)), columns = [\"Time slots\"])\n",
    "df_count = pd.DataFrame(borough_count[\"Bronx\"], columns = [\"Bronx: n° of passengers\"])\n",
    "merge = df_time_slot.join(df_count)\n",
    "merge"
   ]
  },
  {
   "cell_type": "code",
   "execution_count": null,
   "metadata": {},
   "outputs": [],
   "source": [
    "# Plot an histogram\n",
    "\n",
    "barplot = merge.plot(x=\"Time slots\", y=\"Bronx: n° of passengers\", kind='bar', figsize = (15, 6), fontsize = 12)"
   ]
  },
  {
   "cell_type": "markdown",
   "metadata": {},
   "source": [
    "# March: Brooklyn"
   ]
  },
  {
   "cell_type": "code",
   "execution_count": null,
   "metadata": {},
   "outputs": [],
   "source": [
    "df_time_slot = pd.DataFrame(list(range(24)), columns = [\"Time slots\"])\n",
    "df_count = pd.DataFrame(borough_count[\"Bronx\"], columns = [\"Bronx: n° of passengers\"])\n",
    "merge = df_time_slot.join(df_count)\n",
    "merge"
   ]
  },
  {
   "cell_type": "code",
   "execution_count": null,
   "metadata": {},
   "outputs": [],
   "source": [
    "# Plot an histogram\n",
    "\n",
    "barplot = merge.plot(x=\"Time slots\", y=\"Bronx: n° of passengers\", kind='bar', figsize = (15, 6), fontsize = 12)"
   ]
  },
  {
   "cell_type": "markdown",
   "metadata": {},
   "source": [
    "# APRIL"
   ]
  },
  {
   "cell_type": "code",
   "execution_count": null,
   "metadata": {},
   "outputs": [],
   "source": [
    "final_apr = keep_apr.copy()"
   ]
  },
  {
   "cell_type": "code",
   "execution_count": null,
   "metadata": {},
   "outputs": [],
   "source": [
    "# format pickup datetime column, leaving only the hours (selected time slots)\n",
    "\n",
    "final_apr['tpep_pickup_datetime'] = final_apr['tpep_pickup_datetime'].dt.hour\n",
    "final_apr"
   ]
  },
  {
   "cell_type": "code",
   "execution_count": null,
   "metadata": {},
   "outputs": [],
   "source": [
    "# remove dropoff datetime column\n",
    "\n",
    "final_apr = final_apr.drop(labels = \"tpep_dropoff_datetime\", axis = 1)"
   ]
  },
  {
   "cell_type": "code",
   "execution_count": null,
   "metadata": {},
   "outputs": [],
   "source": [
    "final_apr = final_apr.groupby(['tpep_pickup_datetime','PULocationID'])[\"passenger_count\"].sum()"
   ]
  },
  {
   "cell_type": "code",
   "execution_count": null,
   "metadata": {},
   "outputs": [],
   "source": [
    "# count total number of trips for each borough, and for each time slot\n",
    "\n",
    "# this dictionary contains the count for each borough\n",
    "\n",
    "overall_count = [0]*24\n",
    "\n",
    "borough_count = {'EWR': [0]*24, 'Queens': [0]*24, 'Bronx': [0]*24, 'Manhattan': [0]*24, 'Staten Island': [0]*24, 'Brooklyn': [0]*24, 'Unknown': [0]*24}\n",
    "\n",
    "# for every total count in keep_may_loc, get the corresponding time slot, and LocationID\n",
    "# check what borough the location belongs to, and \n",
    "# add the count for that location to the correct borough and time slot\n",
    "\n",
    "for i in range(0, len(final_apr)):\n",
    "    time_slot = final_apr.index[i][0]\n",
    "    LocationID = final_apr.index[i][1]\n",
    "    for borough in dfdict:\n",
    "        if LocationID in dfdict[borough]:\n",
    "            borough_count[borough][int(time_slot)] = borough_count[borough][int(time_slot)] + int(final_apr[time_slot][LocationID])\n",
    "    \n",
    "    overall_count[int(time_slot)] = overall_count[int(time_slot)] + int(final_apr[time_slot][LocationID])\n",
    "\n",
    "del final_apr"
   ]
  },
  {
   "cell_type": "markdown",
   "metadata": {},
   "source": [
    "# April: NY"
   ]
  },
  {
   "cell_type": "code",
   "execution_count": null,
   "metadata": {},
   "outputs": [],
   "source": [
    "df_time_slot = pd.DataFrame(list(range(24)), columns = [\"Time slots\"])\n",
    "df_overallcount = pd.DataFrame(overall_count, columns = [\"NY: n° of passengers\"])\n",
    "merge = df_time_slot.join(df_overallcount)\n",
    "merge"
   ]
  },
  {
   "cell_type": "code",
   "execution_count": null,
   "metadata": {},
   "outputs": [],
   "source": [
    "# Plot an histogram\n",
    "\n",
    "barplot = merge.plot(x=\"Time slots\", y=\"NY: n° of passengers\", kind='bar', figsize = (15, 6), fontsize = 12)"
   ]
  },
  {
   "cell_type": "markdown",
   "metadata": {},
   "source": [
    "# April: EWR"
   ]
  },
  {
   "cell_type": "code",
   "execution_count": null,
   "metadata": {},
   "outputs": [],
   "source": [
    "df_count = pd.DataFrame(borough_count[\"EWR\"], columns = [\"EWR: n° of passengers\"])\n",
    "merge = df_time_slot.join(df_count)\n",
    "merge"
   ]
  },
  {
   "cell_type": "code",
   "execution_count": null,
   "metadata": {},
   "outputs": [],
   "source": [
    "# Plot an histogram\n",
    "\n",
    "barplot = merge.plot(x=\"Time slots\", y=\"EWR: n° of passengers\", kind='bar', figsize = (15, 6), fontsize = 12)"
   ]
  },
  {
   "cell_type": "markdown",
   "metadata": {},
   "source": [
    "# April: Queens"
   ]
  },
  {
   "cell_type": "code",
   "execution_count": null,
   "metadata": {},
   "outputs": [],
   "source": [
    "df_time_slot = pd.DataFrame(list(range(24)), columns = [\"Time slots\"])\n",
    "df_count = pd.DataFrame(borough_count[\"Queens\"], columns = [\"Queens: n° of passengers\"])\n",
    "merge = df_time_slot.join(df_count)\n",
    "merge"
   ]
  },
  {
   "cell_type": "code",
   "execution_count": null,
   "metadata": {},
   "outputs": [],
   "source": [
    "# Plot an histogram\n",
    "\n",
    "barplot = merge.plot(x=\"Time slots\", y=\"Queens: n° of passengers\", kind='bar', figsize = (15, 6), fontsize = 12)"
   ]
  },
  {
   "cell_type": "markdown",
   "metadata": {},
   "source": [
    "# April: Manhattan"
   ]
  },
  {
   "cell_type": "code",
   "execution_count": null,
   "metadata": {},
   "outputs": [],
   "source": [
    "df_time_slot = pd.DataFrame(list(range(24)), columns = [\"Time slots\"])\n",
    "df_count = pd.DataFrame(borough_count[\"Manhattan\"], columns = [\"Manhattan: n° of passengers\"])\n",
    "merge = df_time_slot.join(df_count)\n",
    "merge"
   ]
  },
  {
   "cell_type": "code",
   "execution_count": null,
   "metadata": {},
   "outputs": [],
   "source": [
    "# Plot an histogram\n",
    "\n",
    "barplot = merge.plot(x=\"Time slots\", y=\"Manhattan: n° of passengers\", kind='bar', figsize = (15, 6), fontsize = 12)"
   ]
  },
  {
   "cell_type": "markdown",
   "metadata": {},
   "source": [
    "# April: Staten Island"
   ]
  },
  {
   "cell_type": "code",
   "execution_count": null,
   "metadata": {},
   "outputs": [],
   "source": [
    "df_time_slot = pd.DataFrame(list(range(24)), columns = [\"Time slots\"])\n",
    "df_count = pd.DataFrame(borough_count[\"Staten Island\"], columns = [\"Staten Island: n° of passengers\"])\n",
    "merge = df_time_slot.join(df_count)\n",
    "merge"
   ]
  },
  {
   "cell_type": "code",
   "execution_count": null,
   "metadata": {},
   "outputs": [],
   "source": [
    "# Plot an histogram\n",
    "\n",
    "barplot = merge.plot(x=\"Time slots\", y=\"Staten Island: n° of passengers\", kind='bar', figsize = (15, 6), fontsize = 12)"
   ]
  },
  {
   "cell_type": "markdown",
   "metadata": {},
   "source": [
    "# April: Bronx"
   ]
  },
  {
   "cell_type": "code",
   "execution_count": null,
   "metadata": {},
   "outputs": [],
   "source": [
    "df_time_slot = pd.DataFrame(list(range(24)), columns = [\"Time slots\"])\n",
    "df_count = pd.DataFrame(borough_count[\"Bronx\"], columns = [\"Bronx: n° of passengers\"])\n",
    "merge = df_time_slot.join(df_count)\n",
    "merge"
   ]
  },
  {
   "cell_type": "code",
   "execution_count": null,
   "metadata": {},
   "outputs": [],
   "source": [
    "# Plot an histogram\n",
    "\n",
    "barplot = merge.plot(x=\"Time slots\", y=\"Bronx: n° of passengers\", kind='bar', figsize = (15, 6), fontsize = 12)"
   ]
  },
  {
   "cell_type": "markdown",
   "metadata": {},
   "source": [
    "# April: Brooklyn"
   ]
  },
  {
   "cell_type": "code",
   "execution_count": null,
   "metadata": {},
   "outputs": [],
   "source": [
    "df_time_slot = pd.DataFrame(list(range(24)), columns = [\"Time slots\"])\n",
    "df_count = pd.DataFrame(borough_count[\"Brooklyn\"], columns = [\"Brooklyn: n° of passengers\"])\n",
    "merge = df_time_slot.join(df_count)\n",
    "merge"
   ]
  },
  {
   "cell_type": "code",
   "execution_count": null,
   "metadata": {},
   "outputs": [],
   "source": [
    "# Plot an histogram\n",
    "\n",
    "barplot = merge.plot(x=\"Time slots\", y=\"Brooklyn: n° of passengers\", kind='bar', figsize = (15, 6), fontsize = 12)"
   ]
  },
  {
   "cell_type": "markdown",
   "metadata": {},
   "source": [
    "# MAY"
   ]
  },
  {
   "cell_type": "code",
   "execution_count": null,
   "metadata": {},
   "outputs": [],
   "source": [
    "final_may = keep_may.copy()"
   ]
  },
  {
   "cell_type": "code",
   "execution_count": null,
   "metadata": {},
   "outputs": [],
   "source": [
    "# format pickup datetime column, leaving only the hours (selected time slots)\n",
    "\n",
    "keep_may['tpep_pickup_datetime'] = keep_may['tpep_pickup_datetime'].dt.hour\n",
    "keep_may"
   ]
  },
  {
   "cell_type": "code",
   "execution_count": null,
   "metadata": {},
   "outputs": [],
   "source": [
    "# remove dropoff datetime column\n",
    "\n",
    "keep_may = keep_may.drop(labels = \"tpep_dropoff_datetime\", axis = 1)"
   ]
  },
  {
   "cell_type": "code",
   "execution_count": null,
   "metadata": {},
   "outputs": [],
   "source": [
    "keep_may = keep_may.groupby(['tpep_pickup_datetime','PULocationID'])[\"passenger_count\"].sum()"
   ]
  },
  {
   "cell_type": "code",
   "execution_count": null,
   "metadata": {},
   "outputs": [],
   "source": [
    "# count total number of trips for each borough, and for each time slot\n",
    "\n",
    "# this dictionary contains the count for each borough\n",
    "\n",
    "overall_count = [0]*24\n",
    "\n",
    "borough_count = {'EWR': [0]*24, 'Queens': [0]*24, 'Bronx': [0]*24, 'Manhattan': [0]*24, 'Staten Island': [0]*24, 'Brooklyn': [0]*24, 'Unknown': [0]*24}\n",
    "\n",
    "# for every total count in keep_loc, get the corresponding time slot, and LocationID\n",
    "# check what borough the location belongs to, and \n",
    "# add the count for that location to the correct borough and time slot\n",
    "\n",
    "for i in range(0, len(keep_may)):\n",
    "    time_slot = keep_may.index[i][0]\n",
    "    LocationID = keep_may.index[i][1]\n",
    "    for borough in dfdict:\n",
    "        if LocationID in dfdict[borough]:\n",
    "            borough_count[borough][int(time_slot)] = borough_count[borough][int(time_slot)] + int(keep_may[time_slot][LocationID])\n",
    "\n",
    "    overall_count[int(time_slot)] = overall_count[int(time_slot)] + int(keep_may[time_slot][LocationID])\n",
    "\n",
    "del keep_may"
   ]
  },
  {
   "cell_type": "markdown",
   "metadata": {},
   "source": [
    "# May: NY"
   ]
  },
  {
   "cell_type": "code",
   "execution_count": null,
   "metadata": {},
   "outputs": [],
   "source": [
    "df_time_slot = pd.DataFrame(list(range(24)), columns = [\"Time slots\"])\n",
    "df_overallcount = pd.DataFrame(overall_count, columns = [\"NY: n° of passengers\"])\n",
    "merge = df_time_slot.join(df_overallcount)\n",
    "merge"
   ]
  },
  {
   "cell_type": "code",
   "execution_count": null,
   "metadata": {},
   "outputs": [],
   "source": [
    "# Plot an histogram\n",
    "\n",
    "barplot = merge.plot(x=\"Time slots\", y=\"NY: n° of passengers\", kind='bar', figsize = (15, 6), fontsize = 12)"
   ]
  },
  {
   "cell_type": "markdown",
   "metadata": {},
   "source": [
    "# May: EWR"
   ]
  },
  {
   "cell_type": "code",
   "execution_count": null,
   "metadata": {},
   "outputs": [],
   "source": [
    "df_count = pd.DataFrame(borough_count[\"EWR\"], columns = [\"EWR: n° of passengers\"])\n",
    "merge = df_time_slot.join(df_count)\n",
    "merge"
   ]
  },
  {
   "cell_type": "code",
   "execution_count": null,
   "metadata": {},
   "outputs": [],
   "source": [
    "# Plot an histogram\n",
    "\n",
    "barplot = merge.plot(x=\"Time slots\", y=\"EWR: n° of passengers\", kind='bar', figsize = (15, 6), fontsize = 12)"
   ]
  },
  {
   "cell_type": "markdown",
   "metadata": {},
   "source": [
    "# May: Queens"
   ]
  },
  {
   "cell_type": "code",
   "execution_count": null,
   "metadata": {},
   "outputs": [],
   "source": [
    "df_time_slot = pd.DataFrame(list(range(24)), columns = [\"Time slots\"])\n",
    "df_count = pd.DataFrame(borough_count[\"Queens\"], columns = [\"Queens: n° of passengers\"])\n",
    "merge = df_time_slot.join(df_count)\n",
    "merge"
   ]
  },
  {
   "cell_type": "code",
   "execution_count": null,
   "metadata": {},
   "outputs": [],
   "source": [
    "# Plot an histogram\n",
    "\n",
    "barplot = merge.plot(x=\"Time slots\", y=\"Queens: n° of passengers\", kind='bar', figsize = (15, 6), fontsize = 12)"
   ]
  },
  {
   "cell_type": "markdown",
   "metadata": {},
   "source": [
    "# May: Manhattan"
   ]
  },
  {
   "cell_type": "code",
   "execution_count": null,
   "metadata": {},
   "outputs": [],
   "source": [
    "df_time_slot = pd.DataFrame(list(range(24)), columns = [\"Time slots\"])\n",
    "df_count = pd.DataFrame(borough_count[\"Manhattan\"], columns = [\"Manhattan: n° of passengers\"])\n",
    "merge = df_time_slot.join(df_count)\n",
    "merge"
   ]
  },
  {
   "cell_type": "code",
   "execution_count": null,
   "metadata": {},
   "outputs": [],
   "source": [
    "# Plot an histogram\n",
    "\n",
    "barplot = merge.plot(x=\"Time slots\", y=\"Manhattan: n° of passengers\", kind='bar', figsize = (15, 6), fontsize = 12)"
   ]
  },
  {
   "cell_type": "markdown",
   "metadata": {},
   "source": [
    "# May: Staten Island"
   ]
  },
  {
   "cell_type": "code",
   "execution_count": null,
   "metadata": {},
   "outputs": [],
   "source": [
    "df_time_slot = pd.DataFrame(list(range(24)), columns = [\"Time slots\"])\n",
    "df_count = pd.DataFrame(borough_count[\"Staten Island\"], columns = [\"Staten Island: n° of passengers\"])\n",
    "merge = df_time_slot.join(df_count)\n",
    "merge"
   ]
  },
  {
   "cell_type": "code",
   "execution_count": null,
   "metadata": {},
   "outputs": [],
   "source": [
    "# Plot an histogram\n",
    "\n",
    "barplot = merge.plot(x=\"Time slots\", y=\"Staten Island: n° of passengers\", kind='bar', figsize = (15, 6), fontsize = 12)"
   ]
  },
  {
   "cell_type": "markdown",
   "metadata": {},
   "source": [
    "# May: Bronx"
   ]
  },
  {
   "cell_type": "code",
   "execution_count": null,
   "metadata": {},
   "outputs": [],
   "source": [
    "df_time_slot = pd.DataFrame(list(range(24)), columns = [\"Time slots\"])\n",
    "df_count = pd.DataFrame(borough_count[\"Bronx\"], columns = [\"Bronx: n° of passengers\"])\n",
    "merge = df_time_slot.join(df_count)\n",
    "merge"
   ]
  },
  {
   "cell_type": "code",
   "execution_count": null,
   "metadata": {},
   "outputs": [],
   "source": [
    "# Plot an histogram\n",
    "\n",
    "barplot = merge.plot(x=\"Time slots\", y=\"Bronx: n° of passengers\", kind='bar', figsize = (15, 6), fontsize = 12)"
   ]
  },
  {
   "cell_type": "markdown",
   "metadata": {},
   "source": [
    "# May: Brooklyn"
   ]
  },
  {
   "cell_type": "code",
   "execution_count": null,
   "metadata": {},
   "outputs": [],
   "source": [
    "df_time_slot = pd.DataFrame(list(range(24)), columns = [\"Time slots\"])\n",
    "df_count = pd.DataFrame(borough_count[\"Brooklyn\"], columns = [\"Brooklyn: n° of passengers\"])\n",
    "merge = df_time_slot.join(df_count)\n",
    "merge"
   ]
  },
  {
   "cell_type": "code",
   "execution_count": null,
   "metadata": {},
   "outputs": [],
   "source": [
    "# Plot an histogram\n",
    "\n",
    "barplot = merge.plot(x=\"Time slots\", y=\"Brooklyn: n° of passengers\", kind='bar', figsize = (15, 6), fontsize = 12)"
   ]
  },
  {
   "cell_type": "markdown",
   "metadata": {},
   "source": [
    "# JUNE"
   ]
  },
  {
   "cell_type": "code",
   "execution_count": null,
   "metadata": {},
   "outputs": [],
   "source": [
    "final_jun = keep_jun.copy()"
   ]
  },
  {
   "cell_type": "code",
   "execution_count": null,
   "metadata": {},
   "outputs": [],
   "source": [
    "# format pickup datetime column, leaving only the hours (selected time slots)\n",
    "\n",
    "final_jun['tpep_pickup_datetime'] = final_jun['tpep_pickup_datetime'].dt.hour\n",
    "final_jun"
   ]
  },
  {
   "cell_type": "code",
   "execution_count": null,
   "metadata": {},
   "outputs": [],
   "source": [
    "# remove dropoff datetime column\n",
    "\n",
    "final_jun = final_jun.drop(labels = \"tpep_dropoff_datetime\", axis = 1)"
   ]
  },
  {
   "cell_type": "code",
   "execution_count": null,
   "metadata": {},
   "outputs": [],
   "source": [
    "final_jun = final_jun.groupby(['tpep_pickup_datetime','PULocationID'])[\"passenger_count\"].sum()"
   ]
  },
  {
   "cell_type": "code",
   "execution_count": null,
   "metadata": {},
   "outputs": [],
   "source": [
    "# count total number of trips for each borough, and for each time slot\n",
    "\n",
    "# this dictionary contains the count for each borough\n",
    "\n",
    "overall_count = [0]*24\n",
    "\n",
    "borough_count = {'EWR': [0]*24, 'Queens': [0]*24, 'Bronx': [0]*24, 'Manhattan': [0]*24, 'Staten Island': [0]*24, 'Brooklyn': [0]*24, 'Unknown': [0]*24}\n",
    "\n",
    "# for every total count in keep_loc, get the corresponding time slot, and LocationID\n",
    "# check what borough the location belongs to, and \n",
    "# add the count for that location to the correct borough and time slot\n",
    "\n",
    "for i in range(0, len(final_jun)):\n",
    "    time_slot = final_jun.index[i][0]\n",
    "    LocationID = final_jun.index[i][1]\n",
    "    for borough in dfdict:\n",
    "        if LocationID in dfdict[borough]:\n",
    "            borough_count[borough][int(time_slot)] = borough_count[borough][int(time_slot)] + int(final_jun[time_slot][LocationID])\n",
    "\n",
    "    overall_count[int(time_slot)] = overall_count[int(time_slot)] + int(final_jun[time_slot][LocationID])\n",
    "\n",
    "del final_jun"
   ]
  },
  {
   "cell_type": "markdown",
   "metadata": {},
   "source": [
    "# June: NY"
   ]
  },
  {
   "cell_type": "code",
   "execution_count": null,
   "metadata": {},
   "outputs": [],
   "source": [
    "df_time_slot = pd.DataFrame(list(range(24)), columns = [\"Time slots\"])\n",
    "df_overallcount = pd.DataFrame(overall_count, columns = [\"NY: n° of passengers\"])\n",
    "merge = df_time_slot.join(df_overallcount)\n",
    "merge"
   ]
  },
  {
   "cell_type": "code",
   "execution_count": null,
   "metadata": {},
   "outputs": [],
   "source": [
    "# Plot an histogram\n",
    "\n",
    "barplot = merge.plot(x=\"Time slots\", y=\"NY: n° of passengers\", kind='bar', figsize = (15, 6), fontsize = 12)"
   ]
  },
  {
   "cell_type": "markdown",
   "metadata": {},
   "source": [
    "# June: EWR"
   ]
  },
  {
   "cell_type": "code",
   "execution_count": null,
   "metadata": {},
   "outputs": [],
   "source": [
    "df_count = pd.DataFrame(borough_count[\"EWR\"], columns = [\"EWR: n° of passengers\"])\n",
    "merge = df_time_slot.join(df_count)\n",
    "merge"
   ]
  },
  {
   "cell_type": "code",
   "execution_count": null,
   "metadata": {},
   "outputs": [],
   "source": [
    "# Plot an histogram\n",
    "\n",
    "barplot = merge.plot(x=\"Time slots\", y=\"EWR: n° of passengers\", kind='bar', figsize = (15, 6), fontsize = 12)"
   ]
  },
  {
   "cell_type": "markdown",
   "metadata": {},
   "source": [
    "# June: Queens"
   ]
  },
  {
   "cell_type": "code",
   "execution_count": null,
   "metadata": {},
   "outputs": [],
   "source": [
    "df_time_slot = pd.DataFrame(list(range(24)), columns = [\"Time slots\"])\n",
    "df_count = pd.DataFrame(borough_count[\"Queens\"], columns = [\"Queens: n° of passengers\"])\n",
    "merge = df_time_slot.join(df_count)\n",
    "merge"
   ]
  },
  {
   "cell_type": "code",
   "execution_count": null,
   "metadata": {},
   "outputs": [],
   "source": [
    "# Plot an histogram\n",
    "\n",
    "barplot = merge.plot(x=\"Time slots\", y=\"Queens: n° of passengers\", kind='bar', figsize = (15, 6), fontsize = 12)"
   ]
  },
  {
   "cell_type": "markdown",
   "metadata": {},
   "source": [
    "# June: Manhattan"
   ]
  },
  {
   "cell_type": "code",
   "execution_count": null,
   "metadata": {},
   "outputs": [],
   "source": [
    "df_time_slot = pd.DataFrame(list(range(24)), columns = [\"Time slots\"])\n",
    "df_count = pd.DataFrame(borough_count[\"Manhattan\"], columns = [\"Manhattan: n° of passengers\"])\n",
    "merge = df_time_slot.join(df_count)\n",
    "merge"
   ]
  },
  {
   "cell_type": "code",
   "execution_count": null,
   "metadata": {},
   "outputs": [],
   "source": [
    "# Plot an histogram\n",
    "\n",
    "barplot = merge.plot(x=\"Time slots\", y=\"Manhattan: n° of passengers\", kind='bar', figsize = (15, 6), fontsize = 12)"
   ]
  },
  {
   "cell_type": "markdown",
   "metadata": {},
   "source": [
    "# June: Staten Island"
   ]
  },
  {
   "cell_type": "code",
   "execution_count": null,
   "metadata": {},
   "outputs": [],
   "source": [
    "df_time_slot = pd.DataFrame(list(range(24)), columns = [\"Time slots\"])\n",
    "df_count = pd.DataFrame(borough_count[\"Staten Island\"], columns = [\"Staten Island: n° of passengers\"])\n",
    "merge = df_time_slot.join(df_count)\n",
    "merge"
   ]
  },
  {
   "cell_type": "code",
   "execution_count": null,
   "metadata": {},
   "outputs": [],
   "source": [
    "# Plot an histogram\n",
    "\n",
    "barplot = merge.plot(x=\"Time slots\", y=\"Staten Island: n° of passengers\", kind='bar', figsize = (15, 6), fontsize = 12)"
   ]
  },
  {
   "cell_type": "markdown",
   "metadata": {},
   "source": [
    "# June: Bronx"
   ]
  },
  {
   "cell_type": "code",
   "execution_count": null,
   "metadata": {},
   "outputs": [],
   "source": [
    "df_time_slot = pd.DataFrame(list(range(24)), columns = [\"Time slots\"])\n",
    "df_count = pd.DataFrame(borough_count[\"Bronx\"], columns = [\"Bronx: n° of passengers\"])\n",
    "merge = df_time_slot.join(df_count)\n",
    "merge"
   ]
  },
  {
   "cell_type": "code",
   "execution_count": null,
   "metadata": {},
   "outputs": [],
   "source": [
    "# Plot an histogram\n",
    "\n",
    "barplot = merge.plot(x=\"Time slots\", y=\"Bronx: n° of passengers\", kind='bar', figsize = (15, 6), fontsize = 12)"
   ]
  },
  {
   "cell_type": "markdown",
   "metadata": {},
   "source": [
    "# June: Brooklyn"
   ]
  },
  {
   "cell_type": "code",
   "execution_count": null,
   "metadata": {},
   "outputs": [],
   "source": [
    "df_time_slot = pd.DataFrame(list(range(24)), columns = [\"Time slots\"])\n",
    "df_count = pd.DataFrame(borough_count[\"Brooklyn\"], columns = [\"Brooklyn: n° of passengers\"])\n",
    "merge = df_time_slot.join(df_count)\n",
    "merge"
   ]
  },
  {
   "cell_type": "code",
   "execution_count": null,
   "metadata": {},
   "outputs": [],
   "source": [
    "# Plot an histogram\n",
    "\n",
    "barplot = merge.plot(x=\"Time slots\", y=\"Brooklyn: n° of passengers\", kind='bar', figsize = (15, 6), fontsize = 12)"
   ]
  }
 ],
 "metadata": {
  "kernelspec": {
   "display_name": "Python 3",
   "language": "python",
   "name": "python3"
  },
  "language_info": {
   "codemirror_mode": {
    "name": "ipython",
    "version": 3
   },
   "file_extension": ".py",
   "mimetype": "text/x-python",
   "name": "python",
   "nbconvert_exporter": "python",
   "pygments_lexer": "ipython3",
   "version": "3.6.5"
  }
 },
 "nbformat": 4,
 "nbformat_minor": 2
}
