{
 "cells": [
  {
   "cell_type": "markdown",
   "metadata": {},
   "source": [
    "# RQ4"
   ]
  },
  {
   "cell_type": "code",
   "execution_count": null,
   "metadata": {},
   "outputs": [],
   "source": [
    "import numpy as np\n",
    "import pandas as pd\n",
    "\n",
    "import matplotlib.pyplot as plt\n",
    "\n",
    "from pylab import rcParams\n",
    "import seaborn as sb\n",
    "\n",
    "import scipy \n",
    "from scipy.stats import spearmanr"
   ]
  },
  {
   "cell_type": "code",
   "execution_count": null,
   "metadata": {},
   "outputs": [],
   "source": [
    "df = pd.read_csv('taxi_zone_lookup.csv', usecols = ['LocationID','Borough'])\n",
    "df"
   ]
  },
  {
   "cell_type": "markdown",
   "metadata": {},
   "source": [
    "# January"
   ]
  },
  {
   "cell_type": "code",
   "execution_count": null,
   "metadata": {},
   "outputs": [],
   "source": [
    "date_columns = ['tpep_pickup_datetime', 'tpep_dropoff_datetime']\n",
    "df1 = pd.read_csv('yellow_tripdata_2018-01.csv', usecols = ['tpep_pickup_datetime', 'tpep_dropoff_datetime', 'payment_type','PULocationID'], parse_dates = date_columns)\n",
    "df1"
   ]
  },
  {
   "cell_type": "code",
   "execution_count": null,
   "metadata": {},
   "outputs": [],
   "source": [
    "# consider only 2018 for pickup datetime\n",
    "\n",
    "keep_jan = keep_jan[keep_jan['tpep_pickup_datetime'].dt.year == 2018]"
   ]
  },
  {
   "cell_type": "code",
   "execution_count": null,
   "metadata": {},
   "outputs": [],
   "source": [
    "# consider only january for pickup datetime\n",
    "\n",
    "keep_jan = keep_jan[keep_jan['tpep_pickup_datetime'].dt.month == 1]"
   ]
  },
  {
   "cell_type": "code",
   "execution_count": null,
   "metadata": {},
   "outputs": [],
   "source": [
    "# same above for dropoff datetime\n",
    "\n",
    "keep_jan = keep_jan[keep_jan['tpep_dropoff_datetime'].dt.year == 2018]\n",
    "keep_jan = keep_jan[keep_jan['tpep_dropoff_datetime'].dt.month == 1]"
   ]
  },
  {
   "cell_type": "code",
   "execution_count": null,
   "metadata": {},
   "outputs": [],
   "source": [
    "# Merging the 2 tables by location id key to get borough.\n",
    "\n",
    "final_jan = df.set_index('LocationID').join(keep_jan.set_index('PULocationID'))\n",
    "del keep_jan\n",
    "final_jan"
   ]
  },
  {
   "cell_type": "code",
   "execution_count": null,
   "metadata": {},
   "outputs": [],
   "source": [
    "#Cleaning: Removing all the values containing unknown\n",
    "\n",
    "final_jan = final_jan[final_jan.Borough != 'Unknown']\n",
    "final_jan"
   ]
  },
  {
   "cell_type": "code",
   "execution_count": null,
   "metadata": {},
   "outputs": [],
   "source": [
    "#What is the most common way of payments\n",
    "\n",
    "counts1 = final_jan['payment_type'].value_counts().to_dict()\n",
    "counts1\n",
    "\n",
    "#Credit Card(5995076)"
   ]
  },
  {
   "cell_type": "code",
   "execution_count": null,
   "metadata": {},
   "outputs": [],
   "source": [
    "final_jan['COUNTER'] = 1\n",
    "final_jan"
   ]
  },
  {
   "cell_type": "code",
   "execution_count": null,
   "metadata": {},
   "outputs": [],
   "source": [
    "#Discover the way payments are executed in each borough\n",
    "#initially, set that counter to 1.\n",
    "group_data = final_jan.groupby(['payment_type','Borough']).sum() #sum function\n",
    "print(group_data)"
   ]
  },
  {
   "cell_type": "code",
   "execution_count": null,
   "metadata": {},
   "outputs": [],
   "source": [
    "group_data.columns = [\"NY: n° of payments\"]\n",
    "barplot = group_data.plot(use_index = True, y = \"NY: n° of payments\", kind = \"bar\", figsize = (15, 8))"
   ]
  },
  {
   "cell_type": "code",
   "execution_count": null,
   "metadata": {},
   "outputs": [],
   "source": [
    "group_data = group_data.groupby(['Borough'])"
   ]
  },
  {
   "cell_type": "markdown",
   "metadata": {},
   "source": [
    "# January: EWR"
   ]
  },
  {
   "cell_type": "code",
   "execution_count": null,
   "metadata": {},
   "outputs": [],
   "source": [
    "group_ewr = group_data.get_group('EWR')\n",
    "group_ewr"
   ]
  },
  {
   "cell_type": "code",
   "execution_count": null,
   "metadata": {},
   "outputs": [],
   "source": [
    "group_ewr.index = [\"Credit card\", \"Cash\", \"No charge\", \"Dispute\"]\n",
    "group_ewr.columns = [\"EWR: n° of payments\"]\n",
    "group_ewr"
   ]
  },
  {
   "cell_type": "code",
   "execution_count": null,
   "metadata": {
    "scrolled": true
   },
   "outputs": [],
   "source": [
    "barplot = group_ewr.plot(use_index = True, y = \"EWR: n° of payments\", kind = \"bar\", figsize = (8, 4))"
   ]
  },
  {
   "cell_type": "markdown",
   "metadata": {},
   "source": [
    "# January: Queens"
   ]
  },
  {
   "cell_type": "code",
   "execution_count": null,
   "metadata": {},
   "outputs": [],
   "source": [
    "group_queens = group_data.get_group('Queens')\n",
    "group_queens"
   ]
  },
  {
   "cell_type": "code",
   "execution_count": null,
   "metadata": {},
   "outputs": [],
   "source": [
    "group_queens.index = [\"Credit card\", \"Cash\", \"No charge\", \"Dispute\"]\n",
    "group_queens.columns = [\"Queens: n° of payments\"]\n",
    "group_queens"
   ]
  },
  {
   "cell_type": "code",
   "execution_count": null,
   "metadata": {},
   "outputs": [],
   "source": [
    "barplot = group_queens.plot(use_index = True, y = \"Queens: n° of payments\", kind = \"bar\", figsize = (8, 4))"
   ]
  },
  {
   "cell_type": "markdown",
   "metadata": {},
   "source": [
    "# January: Manhattan"
   ]
  },
  {
   "cell_type": "code",
   "execution_count": null,
   "metadata": {},
   "outputs": [],
   "source": [
    "group_manhattan = group_data.get_group('Manhattan')\n",
    "group_manhattan"
   ]
  },
  {
   "cell_type": "code",
   "execution_count": null,
   "metadata": {},
   "outputs": [],
   "source": [
    "group_manhattan.index = [\"Credit card\", \"Cash\", \"No charge\", \"Dispute\"]\n",
    "group_manhattan.columns = [\"Manhattan: n° of payments\"]\n",
    "group_manhattan"
   ]
  },
  {
   "cell_type": "code",
   "execution_count": null,
   "metadata": {},
   "outputs": [],
   "source": [
    "barplot = group_manhattan.plot(use_index = True, y = \"Manhattan: n° of payments\", kind = \"bar\", figsize = (8, 4))"
   ]
  },
  {
   "cell_type": "markdown",
   "metadata": {},
   "source": [
    "# January: Staten Island"
   ]
  },
  {
   "cell_type": "code",
   "execution_count": null,
   "metadata": {},
   "outputs": [],
   "source": [
    "group_statenisland = group_data.get_group('Staten Island')\n",
    "group_statenisland"
   ]
  },
  {
   "cell_type": "code",
   "execution_count": null,
   "metadata": {},
   "outputs": [],
   "source": [
    "group_statenisland.index = [\"Credit card\", \"Cash\", \"No charge\", \"Dispute\"]\n",
    "group_statenisland.columns = [\"Staten Island: n° of payments\"]\n",
    "group_statenisland"
   ]
  },
  {
   "cell_type": "code",
   "execution_count": null,
   "metadata": {
    "scrolled": true
   },
   "outputs": [],
   "source": [
    "barplot = group_statenisland.plot(use_index = True, y = \"Staten Island: n° of payments\", kind = \"bar\", figsize = (8, 4))"
   ]
  },
  {
   "cell_type": "markdown",
   "metadata": {},
   "source": [
    "# January: Brooklyn"
   ]
  },
  {
   "cell_type": "code",
   "execution_count": null,
   "metadata": {},
   "outputs": [],
   "source": [
    "group_brooklyn = group_data.get_group('Brooklyn')\n",
    "group_brooklyn"
   ]
  },
  {
   "cell_type": "code",
   "execution_count": null,
   "metadata": {},
   "outputs": [],
   "source": [
    "group_brooklyn.index = [\"Credit card\", \"Cash\", \"No charge\", \"Dispute\"]\n",
    "group_brooklyn.columns = [\"Brooklyn: n° of payments\"]\n",
    "group_brooklyn"
   ]
  },
  {
   "cell_type": "code",
   "execution_count": null,
   "metadata": {},
   "outputs": [],
   "source": [
    "barplot = group_brooklyn.plot(use_index = True, y = \"Brooklyn: n° of payments\", kind = \"bar\", figsize = (8, 4))"
   ]
  },
  {
   "cell_type": "markdown",
   "metadata": {},
   "source": [
    "# January: Bronx"
   ]
  },
  {
   "cell_type": "code",
   "execution_count": null,
   "metadata": {},
   "outputs": [],
   "source": [
    "group_bronx = group_data.get_group('Bronx')\n",
    "group_bronx"
   ]
  },
  {
   "cell_type": "code",
   "execution_count": null,
   "metadata": {},
   "outputs": [],
   "source": [
    "group_bronx.index = [\"Credit card\", \"Cash\", \"No charge\", \"Dispute\"]\n",
    "group_bronx.columns = [\"Bronx: n° of payments\"]\n",
    "group_bronx"
   ]
  },
  {
   "cell_type": "code",
   "execution_count": null,
   "metadata": {},
   "outputs": [],
   "source": [
    "barplot = group_bronx.plot(use_index = True, y = \"Bronx: n° of payments\", kind = \"bar\", figsize = (8, 4))"
   ]
  },
  {
   "cell_type": "code",
   "execution_count": null,
   "metadata": {},
   "outputs": [],
   "source": [
    "#To check the relationship b/w Borough & payment type\n",
    "\n",
    "pay_typ=final_jan['payment_type']\n",
    "borough=final_jan['Borough']"
   ]
  },
  {
   "cell_type": "markdown",
   "metadata": {},
   "source": [
    "# January: Chi^2 Test"
   ]
  },
  {
   "cell_type": "code",
   "execution_count": null,
   "metadata": {},
   "outputs": [],
   "source": [
    "table = pd.crosstab(pay_typ,borough)\n",
    "print(table)"
   ]
  },
  {
   "cell_type": "code",
   "execution_count": null,
   "metadata": {},
   "outputs": [],
   "source": [
    "from scipy.stats import chi2_contingency\n",
    "table.values"
   ]
  },
  {
   "cell_type": "code",
   "execution_count": null,
   "metadata": {},
   "outputs": [],
   "source": [
    "#Chi-square test\n",
    "\n",
    "table = pd.crosstab(pay_typ,borough)\n",
    "\n",
    "from scipy.stats import chi2_contingency\n",
    "\n",
    "chi2, p , dof, expected=chi2_contingency(table.values)\n",
    "\n",
    "print('Chi-square Statistics: ', (chi2,p))"
   ]
  },
  {
   "cell_type": "markdown",
   "metadata": {},
   "source": [
    "### The p-values is less than 0.05, so the null hypothesis is rejected. The payment method is correlated to the borough, in the given dataset."
   ]
  },
  {
   "cell_type": "markdown",
   "metadata": {},
   "source": [
    "# February"
   ]
  },
  {
   "cell_type": "code",
   "execution_count": null,
   "metadata": {},
   "outputs": [],
   "source": [
    "df2 = pd.read_csv('yellow_tripdata_2018-02.csv', usecols = ['payment_type','PULocationID'])\n",
    "df2"
   ]
  },
  {
   "cell_type": "code",
   "execution_count": null,
   "metadata": {},
   "outputs": [],
   "source": [
    "# Merging the 2 tables by location id key to get borough.\n",
    "\n",
    "final=df.set_index('PULocationID').join(df2.set_index('LocationID'))\n",
    "del df2\n",
    "final"
   ]
  },
  {
   "cell_type": "code",
   "execution_count": null,
   "metadata": {},
   "outputs": [],
   "source": [
    "#Cleaning: Removing all the values containing unknown\n",
    "\n",
    "final_feb = final_feb[final_feb.Borough != 'Unknown']\n",
    "final_feb"
   ]
  },
  {
   "cell_type": "code",
   "execution_count": null,
   "metadata": {},
   "outputs": [],
   "source": [
    "#What is the most common way of payments\n",
    "\n",
    "counts1 = final_feb['payment_type'].value_counts().to_dict()\n",
    "counts1\n",
    "\n",
    "#Credit Card(5996737)"
   ]
  },
  {
   "cell_type": "code",
   "execution_count": null,
   "metadata": {},
   "outputs": [],
   "source": [
    "final_feb['COUNTER'] = 1\n",
    "final_feb"
   ]
  },
  {
   "cell_type": "code",
   "execution_count": null,
   "metadata": {},
   "outputs": [],
   "source": [
    "#Discover the way payments are executed in each borough\n",
    "#initially, set that counter to 1.\n",
    "group_data = final_feb.groupby(['payment_type','Borough']).sum() #sum function\n",
    "print(group_data)"
   ]
  },
  {
   "cell_type": "code",
   "execution_count": null,
   "metadata": {},
   "outputs": [],
   "source": [
    "group_data.columns = [\"NY: n° of payments\"]\n",
    "barplot = group_data.plot(use_index = True, y = \"NY: n° of payments\", kind = \"bar\", figsize = (15, 8))"
   ]
  },
  {
   "cell_type": "code",
   "execution_count": null,
   "metadata": {},
   "outputs": [],
   "source": [
    "group_data = group_data.groupby(['Borough'])"
   ]
  },
  {
   "cell_type": "markdown",
   "metadata": {},
   "source": [
    "# February: EWR"
   ]
  },
  {
   "cell_type": "code",
   "execution_count": null,
   "metadata": {},
   "outputs": [],
   "source": [
    "group_ewr = group_data.get_group('EWR')\n",
    "group_ewr"
   ]
  },
  {
   "cell_type": "code",
   "execution_count": null,
   "metadata": {},
   "outputs": [],
   "source": [
    "group_ewr.index = [\"Credit card\", \"Cash\", \"No charge\", \"Dispute\"]\n",
    "group_ewr.columns = [\"EWR: n° of payments\"]\n",
    "group_ewr"
   ]
  },
  {
   "cell_type": "code",
   "execution_count": null,
   "metadata": {
    "scrolled": true
   },
   "outputs": [],
   "source": [
    "barplot = group_ewr.plot(use_index = True, y = \"EWR: n° of payments\", kind = \"bar\", figsize = (8, 4))"
   ]
  },
  {
   "cell_type": "markdown",
   "metadata": {},
   "source": [
    "# February: Queens"
   ]
  },
  {
   "cell_type": "code",
   "execution_count": null,
   "metadata": {},
   "outputs": [],
   "source": [
    "group_queens = group_data.get_group('Queens')\n",
    "group_queens"
   ]
  },
  {
   "cell_type": "code",
   "execution_count": null,
   "metadata": {},
   "outputs": [],
   "source": [
    "group_queens.index = [\"Credit card\", \"Cash\", \"No charge\", \"Dispute\"]\n",
    "group_queens.columns = [\"Queens: n° of payments\"]\n",
    "group_queens"
   ]
  },
  {
   "cell_type": "code",
   "execution_count": null,
   "metadata": {},
   "outputs": [],
   "source": [
    "barplot = group_queens.plot(use_index = True, y = \"Queens: n° of payments\", kind = \"bar\", figsize = (8, 4))"
   ]
  },
  {
   "cell_type": "markdown",
   "metadata": {},
   "source": [
    "# February: Manhattan"
   ]
  },
  {
   "cell_type": "code",
   "execution_count": null,
   "metadata": {},
   "outputs": [],
   "source": [
    "group_manhattan = group_data.get_group('Manhattan')\n",
    "group_manhattan"
   ]
  },
  {
   "cell_type": "code",
   "execution_count": null,
   "metadata": {},
   "outputs": [],
   "source": [
    "group_manhattan.index = [\"Credit card\", \"Cash\", \"No charge\", \"Dispute\"]\n",
    "group_manhattan.columns = [\"Manhattan: n° of payments\"]\n",
    "group_manhattan"
   ]
  },
  {
   "cell_type": "code",
   "execution_count": null,
   "metadata": {},
   "outputs": [],
   "source": [
    "barplot = group_manhattan.plot(use_index = True, y = \"Manhattan: n° of payments\", kind = \"bar\", figsize = (8, 4))"
   ]
  },
  {
   "cell_type": "markdown",
   "metadata": {},
   "source": [
    "# February: Staten Island"
   ]
  },
  {
   "cell_type": "code",
   "execution_count": null,
   "metadata": {},
   "outputs": [],
   "source": [
    "group_statenisland = group_data.get_group('Staten Island')\n",
    "group_statenisland"
   ]
  },
  {
   "cell_type": "code",
   "execution_count": null,
   "metadata": {},
   "outputs": [],
   "source": [
    "group_statenisland.index = [\"Credit card\", \"Cash\", \"No charge\", \"Dispute\"]\n",
    "group_statenisland.columns = [\"Staten Island: n° of payments\"]\n",
    "group_statenisland"
   ]
  },
  {
   "cell_type": "code",
   "execution_count": null,
   "metadata": {
    "scrolled": true
   },
   "outputs": [],
   "source": [
    "barplot = group_statenisland.plot(use_index = True, y = \"Staten Island: n° of payments\", kind = \"bar\", figsize = (8, 4))"
   ]
  },
  {
   "cell_type": "markdown",
   "metadata": {},
   "source": [
    "# February: Brooklyn"
   ]
  },
  {
   "cell_type": "code",
   "execution_count": null,
   "metadata": {},
   "outputs": [],
   "source": [
    "group_brooklyn = group_data.get_group('Brooklyn')\n",
    "group_brooklyn"
   ]
  },
  {
   "cell_type": "code",
   "execution_count": null,
   "metadata": {},
   "outputs": [],
   "source": [
    "group_brooklyn.index = [\"Credit card\", \"Cash\", \"No charge\", \"Dispute\"]\n",
    "group_brooklyn.columns = [\"Brooklyn: n° of payments\"]\n",
    "group_brooklyn"
   ]
  },
  {
   "cell_type": "code",
   "execution_count": null,
   "metadata": {},
   "outputs": [],
   "source": [
    "barplot = group_brooklyn.plot(use_index = True, y = \"Brooklyn: n° of payments\", kind = \"bar\", figsize = (8, 4))"
   ]
  },
  {
   "cell_type": "markdown",
   "metadata": {},
   "source": [
    "# February: Bronx"
   ]
  },
  {
   "cell_type": "code",
   "execution_count": null,
   "metadata": {},
   "outputs": [],
   "source": [
    "group_bronx = group_data.get_group('Bronx')\n",
    "group_bronx"
   ]
  },
  {
   "cell_type": "code",
   "execution_count": null,
   "metadata": {},
   "outputs": [],
   "source": [
    "group_bronx.index = [\"Credit card\", \"Cash\", \"No charge\", \"Dispute\"]\n",
    "group_bronx.columns = [\"Bronx: n° of payments\"]\n",
    "group_bronx"
   ]
  },
  {
   "cell_type": "code",
   "execution_count": null,
   "metadata": {},
   "outputs": [],
   "source": [
    "barplot = group_bronx.plot(use_index = True, y = \"Bronx: n° of payments\", kind = \"bar\", figsize = (8, 4))"
   ]
  },
  {
   "cell_type": "code",
   "execution_count": null,
   "metadata": {},
   "outputs": [],
   "source": [
    "#To check the relationship b/w Borough & payment type\n",
    "\n",
    "pay_typ=final_feb['payment_type']\n",
    "borough=final_feb['Borough']"
   ]
  },
  {
   "cell_type": "markdown",
   "metadata": {},
   "source": [
    "# February: Chi^2 Test"
   ]
  },
  {
   "cell_type": "code",
   "execution_count": null,
   "metadata": {},
   "outputs": [],
   "source": [
    "table = pd.crosstab(pay_typ,borough)\n",
    "print(table)"
   ]
  },
  {
   "cell_type": "code",
   "execution_count": null,
   "metadata": {},
   "outputs": [],
   "source": [
    "from scipy.stats import chi2_contingency\n",
    "table.values"
   ]
  },
  {
   "cell_type": "code",
   "execution_count": null,
   "metadata": {},
   "outputs": [],
   "source": [
    "#Chi-square test\n",
    "\n",
    "table = pd.crosstab(pay_typ,borough)\n",
    "\n",
    "from scipy.stats import chi2_contingency\n",
    "\n",
    "chi2, p , dof, expected=chi2_contingency(table.values)\n",
    "\n",
    "print('Chi-square Statistics: ', (chi2,p))"
   ]
  },
  {
   "cell_type": "code",
   "execution_count": null,
   "metadata": {},
   "outputs": [],
   "source": []
  },
  {
   "cell_type": "markdown",
   "metadata": {},
   "source": [
    "# March"
   ]
  },
  {
   "cell_type": "code",
   "execution_count": null,
   "metadata": {},
   "outputs": [],
   "source": [
    "df3 = pd.read_csv('yellow_tripdata_2018-03.csv', usecols = ['payment_type','PULocationID'])\n",
    "df3"
   ]
  },
  {
   "cell_type": "code",
   "execution_count": null,
   "metadata": {},
   "outputs": [],
   "source": [
    "# Merging the 2 tables by location id key to get borough.\n",
    "\n",
    "final_mar=df.set_index('PULocationID').join(df3.set_index('LocationID'))\n",
    "del df3\n",
    "final_mar"
   ]
  },
  {
   "cell_type": "code",
   "execution_count": null,
   "metadata": {},
   "outputs": [],
   "source": [
    "#Cleaning: Removing all the values containing unknown\n",
    "\n",
    "final_mar = final_mar[final_mar.Borough != 'Unknown']\n",
    "final_mar"
   ]
  },
  {
   "cell_type": "code",
   "execution_count": null,
   "metadata": {},
   "outputs": [],
   "source": [
    "#What is the most common way of payments\n",
    "\n",
    "counts1 = final_mar['payment_type'].value_counts().to_dict()\n",
    "counts1\n",
    "\n",
    "#Credit Card(5996737)"
   ]
  },
  {
   "cell_type": "code",
   "execution_count": null,
   "metadata": {},
   "outputs": [],
   "source": [
    "final_mar['COUNTER'] = 1\n",
    "final_mar"
   ]
  },
  {
   "cell_type": "code",
   "execution_count": null,
   "metadata": {},
   "outputs": [],
   "source": [
    "#Discover the way payments are executed in each borough\n",
    "#initially, set that counter to 1.\n",
    "group_data = final_mar.groupby(['payment_type','Borough']).sum() #sum function\n",
    "print(group_data)"
   ]
  },
  {
   "cell_type": "code",
   "execution_count": null,
   "metadata": {},
   "outputs": [],
   "source": [
    "group_data.columns = [\"NY: n° of payments\"]\n",
    "barplot = group_data.plot(use_index = True, y = \"NY: n° of payments\", kind = \"bar\", figsize = (15, 8))"
   ]
  },
  {
   "cell_type": "code",
   "execution_count": null,
   "metadata": {},
   "outputs": [],
   "source": [
    "group_data = group_data.groupby(['Borough'])"
   ]
  },
  {
   "cell_type": "markdown",
   "metadata": {},
   "source": [
    "# March: EWR"
   ]
  },
  {
   "cell_type": "code",
   "execution_count": null,
   "metadata": {},
   "outputs": [],
   "source": [
    "group_ewr = group_data.get_group('EWR')\n",
    "group_ewr"
   ]
  },
  {
   "cell_type": "code",
   "execution_count": null,
   "metadata": {},
   "outputs": [],
   "source": [
    "group_ewr.index = [\"Credit card\", \"Cash\", \"No charge\", \"Dispute\"]\n",
    "group_ewr.columns = [\"EWR: n° of payments\"]\n",
    "group_ewr"
   ]
  },
  {
   "cell_type": "code",
   "execution_count": null,
   "metadata": {
    "scrolled": true
   },
   "outputs": [],
   "source": [
    "barplot = group_ewr.plot(use_index = True, y = \"EWR: n° of payments\", kind = \"bar\", figsize = (8, 4))"
   ]
  },
  {
   "cell_type": "markdown",
   "metadata": {},
   "source": [
    "# March: Queens"
   ]
  },
  {
   "cell_type": "code",
   "execution_count": null,
   "metadata": {},
   "outputs": [],
   "source": [
    "group_queens = group_data.get_group('Queens')\n",
    "group_queens"
   ]
  },
  {
   "cell_type": "code",
   "execution_count": null,
   "metadata": {},
   "outputs": [],
   "source": [
    "group_queens.index = [\"Credit card\", \"Cash\", \"No charge\", \"Dispute\"]\n",
    "group_queens.columns = [\"Queens: n° of payments\"]\n",
    "group_queens"
   ]
  },
  {
   "cell_type": "code",
   "execution_count": null,
   "metadata": {},
   "outputs": [],
   "source": [
    "barplot = group_queens.plot(use_index = True, y = \"Queens: n° of payments\", kind = \"bar\", figsize = (8, 4))"
   ]
  },
  {
   "cell_type": "markdown",
   "metadata": {},
   "source": [
    "# March: Manhattan"
   ]
  },
  {
   "cell_type": "code",
   "execution_count": null,
   "metadata": {},
   "outputs": [],
   "source": [
    "group_manhattan = group_data.get_group('Manhattan')\n",
    "group_manhattan"
   ]
  },
  {
   "cell_type": "code",
   "execution_count": null,
   "metadata": {},
   "outputs": [],
   "source": [
    "group_manhattan.index = [\"Credit card\", \"Cash\", \"No charge\", \"Dispute\"]\n",
    "group_manhattan.columns = [\"Manhattan: n° of payments\"]\n",
    "group_manhattan"
   ]
  },
  {
   "cell_type": "code",
   "execution_count": null,
   "metadata": {},
   "outputs": [],
   "source": [
    "barplot = group_manhattan.plot(use_index = True, y = \"Manhattan: n° of payments\", kind = \"bar\", figsize = (8, 4))"
   ]
  },
  {
   "cell_type": "markdown",
   "metadata": {},
   "source": [
    "# March: Staten Island"
   ]
  },
  {
   "cell_type": "code",
   "execution_count": null,
   "metadata": {},
   "outputs": [],
   "source": [
    "group_statenisland = group_data.get_group('Staten Island')\n",
    "group_statenisland"
   ]
  },
  {
   "cell_type": "code",
   "execution_count": null,
   "metadata": {},
   "outputs": [],
   "source": [
    "group_statenisland.index = [\"Credit card\", \"Cash\", \"No charge\", \"Dispute\"]\n",
    "group_statenisland.columns = [\"Staten Island: n° of payments\"]\n",
    "group_statenisland"
   ]
  },
  {
   "cell_type": "code",
   "execution_count": null,
   "metadata": {
    "scrolled": true
   },
   "outputs": [],
   "source": [
    "barplot = group_statenisland.plot(use_index = True, y = \"Staten Island: n° of payments\", kind = \"bar\", figsize = (8, 4))"
   ]
  },
  {
   "cell_type": "markdown",
   "metadata": {},
   "source": [
    "# March: Brooklyn"
   ]
  },
  {
   "cell_type": "code",
   "execution_count": null,
   "metadata": {},
   "outputs": [],
   "source": [
    "group_brooklyn = group_data.get_group('Brooklyn')\n",
    "group_brooklyn"
   ]
  },
  {
   "cell_type": "code",
   "execution_count": null,
   "metadata": {},
   "outputs": [],
   "source": [
    "group_brooklyn.index = [\"Credit card\", \"Cash\", \"No charge\", \"Dispute\"]\n",
    "group_brooklyn.columns = [\"Brooklyn: n° of payments\"]\n",
    "group_brooklyn"
   ]
  },
  {
   "cell_type": "code",
   "execution_count": null,
   "metadata": {},
   "outputs": [],
   "source": [
    "barplot = group_brooklyn.plot(use_index = True, y = \"Brooklyn: n° of payments\", kind = \"bar\", figsize = (8, 4))"
   ]
  },
  {
   "cell_type": "markdown",
   "metadata": {},
   "source": [
    "# March: Bronx"
   ]
  },
  {
   "cell_type": "code",
   "execution_count": null,
   "metadata": {},
   "outputs": [],
   "source": [
    "group_bronx = group_data.get_group('Bronx')\n",
    "group_bronx"
   ]
  },
  {
   "cell_type": "code",
   "execution_count": null,
   "metadata": {},
   "outputs": [],
   "source": [
    "group_bronx.index = [\"Credit card\", \"Cash\", \"No charge\", \"Dispute\"]\n",
    "group_bronx.columns = [\"Bronx: n° of payments\"]\n",
    "group_bronx"
   ]
  },
  {
   "cell_type": "code",
   "execution_count": null,
   "metadata": {},
   "outputs": [],
   "source": [
    "barplot = group_bronx.plot(use_index = True, y = \"Bronx: n° of payments\", kind = \"bar\", figsize = (8, 4))"
   ]
  },
  {
   "cell_type": "code",
   "execution_count": null,
   "metadata": {},
   "outputs": [],
   "source": [
    "#To check the relationship b/w Borough & payment type\n",
    "\n",
    "pay_typ=final_mar['payment_type']\n",
    "borough=final_mar['Borough']"
   ]
  },
  {
   "cell_type": "markdown",
   "metadata": {},
   "source": [
    "# March: Chi^2 Test"
   ]
  },
  {
   "cell_type": "code",
   "execution_count": null,
   "metadata": {},
   "outputs": [],
   "source": [
    "table = pd.crosstab(pay_typ,borough)\n",
    "print(table)"
   ]
  },
  {
   "cell_type": "code",
   "execution_count": null,
   "metadata": {},
   "outputs": [],
   "source": [
    "from scipy.stats import chi2_contingency\n",
    "table.values"
   ]
  },
  {
   "cell_type": "code",
   "execution_count": null,
   "metadata": {},
   "outputs": [],
   "source": [
    "#Chi-square test\n",
    "\n",
    "table = pd.crosstab(pay_typ,borough)\n",
    "\n",
    "from scipy.stats import chi2_contingency\n",
    "\n",
    "chi2, p , dof, expected=chi2_contingency(table.values)\n",
    "\n",
    "print('Chi-square Statistics: ', (chi2,p))"
   ]
  },
  {
   "cell_type": "code",
   "execution_count": null,
   "metadata": {},
   "outputs": [],
   "source": []
  },
  {
   "cell_type": "markdown",
   "metadata": {},
   "source": [
    "# April"
   ]
  },
  {
   "cell_type": "code",
   "execution_count": null,
   "metadata": {},
   "outputs": [],
   "source": [
    "df4 = pd.read_csv('yellow_tripdata_2018-04.csv', usecols = ['payment_type','PULocationID'])\n",
    "df4"
   ]
  },
  {
   "cell_type": "code",
   "execution_count": null,
   "metadata": {},
   "outputs": [],
   "source": [
    "# Merging the 2 tables by location id key to get borough.\n",
    "\n",
    "final_apr=df.set_index('PULocationID').join(df4.set_index('LocationID'))\n",
    "del df4\n",
    "final_apr"
   ]
  },
  {
   "cell_type": "code",
   "execution_count": null,
   "metadata": {},
   "outputs": [],
   "source": [
    "#Cleaning: Removing all the values containing unknown\n",
    "\n",
    "final_apr = final_apr[final_apr.Borough != 'Unknown']\n",
    "final_apr"
   ]
  },
  {
   "cell_type": "code",
   "execution_count": null,
   "metadata": {},
   "outputs": [],
   "source": [
    "#What is the most common way of payments\n",
    "\n",
    "counts1 = final_apr['payment_type'].value_counts().to_dict()\n",
    "counts1\n",
    "\n",
    "#Credit Card(5996737)"
   ]
  },
  {
   "cell_type": "code",
   "execution_count": null,
   "metadata": {},
   "outputs": [],
   "source": [
    "final_apr['COUNTER'] = 1\n",
    "final_apr"
   ]
  },
  {
   "cell_type": "code",
   "execution_count": null,
   "metadata": {},
   "outputs": [],
   "source": [
    "#Discover the way payments are executed in each borough\n",
    "#initially, set that counter to 1.\n",
    "group_data = final_apr.groupby(['payment_type','Borough']).sum() #sum function\n",
    "print(group_data)"
   ]
  },
  {
   "cell_type": "code",
   "execution_count": null,
   "metadata": {},
   "outputs": [],
   "source": [
    "group_data.columns = [\"NY: n° of payments\"]\n",
    "barplot = group_data.plot(use_index = True, y = \"NY: n° of payments\", kind = \"bar\", figsize = (15, 8))"
   ]
  },
  {
   "cell_type": "code",
   "execution_count": null,
   "metadata": {},
   "outputs": [],
   "source": [
    "group_data = group_data.groupby(['Borough'])"
   ]
  },
  {
   "cell_type": "markdown",
   "metadata": {},
   "source": [
    "# April: EWR"
   ]
  },
  {
   "cell_type": "code",
   "execution_count": null,
   "metadata": {},
   "outputs": [],
   "source": [
    "group_ewr = group_data.get_group('EWR')\n",
    "group_ewr"
   ]
  },
  {
   "cell_type": "code",
   "execution_count": null,
   "metadata": {},
   "outputs": [],
   "source": [
    "group_ewr.index = [\"Credit card\", \"Cash\", \"No charge\", \"Dispute\"]\n",
    "group_ewr.columns = [\"EWR: n° of payments\"]\n",
    "group_ewr"
   ]
  },
  {
   "cell_type": "code",
   "execution_count": null,
   "metadata": {
    "scrolled": true
   },
   "outputs": [],
   "source": [
    "barplot = group_ewr.plot(use_index = True, y = \"EWR: n° of payments\", kind = \"bar\", figsize = (8, 4))"
   ]
  },
  {
   "cell_type": "markdown",
   "metadata": {},
   "source": [
    "# April: Queens"
   ]
  },
  {
   "cell_type": "code",
   "execution_count": null,
   "metadata": {},
   "outputs": [],
   "source": [
    "group_queens = group_data.get_group('Queens')\n",
    "group_queens"
   ]
  },
  {
   "cell_type": "code",
   "execution_count": null,
   "metadata": {},
   "outputs": [],
   "source": [
    "group_queens.index = [\"Credit card\", \"Cash\", \"No charge\", \"Dispute\"]\n",
    "group_queens.columns = [\"Queens: n° of payments\"]\n",
    "group_queens"
   ]
  },
  {
   "cell_type": "code",
   "execution_count": null,
   "metadata": {},
   "outputs": [],
   "source": [
    "barplot = group_queens.plot(use_index = True, y = \"Queens: n° of payments\", kind = \"bar\", figsize = (8, 4))"
   ]
  },
  {
   "cell_type": "markdown",
   "metadata": {},
   "source": [
    "# April: Manhattan"
   ]
  },
  {
   "cell_type": "code",
   "execution_count": null,
   "metadata": {},
   "outputs": [],
   "source": [
    "group_manhattan = group_data.get_group('Manhattan')\n",
    "group_manhattan"
   ]
  },
  {
   "cell_type": "code",
   "execution_count": null,
   "metadata": {},
   "outputs": [],
   "source": [
    "group_manhattan.index = [\"Credit card\", \"Cash\", \"No charge\", \"Dispute\"]\n",
    "group_manhattan.columns = [\"Manhattan: n° of payments\"]\n",
    "group_manhattan"
   ]
  },
  {
   "cell_type": "code",
   "execution_count": null,
   "metadata": {},
   "outputs": [],
   "source": [
    "barplot = group_manhattan.plot(use_index = True, y = \"Manhattan: n° of payments\", kind = \"bar\", figsize = (8, 4))"
   ]
  },
  {
   "cell_type": "markdown",
   "metadata": {},
   "source": [
    "# April: Staten Island"
   ]
  },
  {
   "cell_type": "code",
   "execution_count": null,
   "metadata": {},
   "outputs": [],
   "source": [
    "group_statenisland = group_data.get_group('Staten Island')\n",
    "group_statenisland"
   ]
  },
  {
   "cell_type": "code",
   "execution_count": null,
   "metadata": {},
   "outputs": [],
   "source": [
    "group_statenisland.index = [\"Credit card\", \"Cash\", \"No charge\", \"Dispute\"]\n",
    "group_statenisland.columns = [\"Staten Island: n° of payments\"]\n",
    "group_statenisland"
   ]
  },
  {
   "cell_type": "code",
   "execution_count": null,
   "metadata": {
    "scrolled": true
   },
   "outputs": [],
   "source": [
    "barplot = group_statenisland.plot(use_index = True, y = \"Staten Island: n° of payments\", kind = \"bar\", figsize = (8, 4))"
   ]
  },
  {
   "cell_type": "markdown",
   "metadata": {},
   "source": [
    "# April: Brooklyn"
   ]
  },
  {
   "cell_type": "code",
   "execution_count": null,
   "metadata": {},
   "outputs": [],
   "source": [
    "group_brooklyn = group_data.get_group('Brooklyn')\n",
    "group_brooklyn"
   ]
  },
  {
   "cell_type": "code",
   "execution_count": null,
   "metadata": {},
   "outputs": [],
   "source": [
    "group_brooklyn.index = [\"Credit card\", \"Cash\", \"No charge\", \"Dispute\"]\n",
    "group_brooklyn.columns = [\"Brooklyn: n° of payments\"]\n",
    "group_brooklyn"
   ]
  },
  {
   "cell_type": "code",
   "execution_count": null,
   "metadata": {},
   "outputs": [],
   "source": [
    "barplot = group_brooklyn.plot(use_index = True, y = \"Brooklyn: n° of payments\", kind = \"bar\", figsize = (8, 4))"
   ]
  },
  {
   "cell_type": "markdown",
   "metadata": {},
   "source": [
    "# April: Bronx"
   ]
  },
  {
   "cell_type": "code",
   "execution_count": null,
   "metadata": {},
   "outputs": [],
   "source": [
    "group_bronx = group_data.get_group('Bronx')\n",
    "group_bronx"
   ]
  },
  {
   "cell_type": "code",
   "execution_count": null,
   "metadata": {},
   "outputs": [],
   "source": [
    "group_bronx.index = [\"Credit card\", \"Cash\", \"No charge\", \"Dispute\"]\n",
    "group_bronx.columns = [\"Bronx: n° of payments\"]\n",
    "group_bronx"
   ]
  },
  {
   "cell_type": "code",
   "execution_count": null,
   "metadata": {},
   "outputs": [],
   "source": [
    "barplot = group_bronx.plot(use_index = True, y = \"Bronx: n° of payments\", kind = \"bar\", figsize = (8, 4))"
   ]
  },
  {
   "cell_type": "code",
   "execution_count": null,
   "metadata": {},
   "outputs": [],
   "source": [
    "#To check the relationship b/w Borough & payment type\n",
    "\n",
    "pay_typ=final_apr['payment_type']\n",
    "borough=final_apr['Borough']"
   ]
  },
  {
   "cell_type": "markdown",
   "metadata": {},
   "source": [
    "# April: Chi^2 Test"
   ]
  },
  {
   "cell_type": "code",
   "execution_count": null,
   "metadata": {},
   "outputs": [],
   "source": [
    "table = pd.crosstab(pay_typ,borough)\n",
    "print(table)"
   ]
  },
  {
   "cell_type": "code",
   "execution_count": null,
   "metadata": {},
   "outputs": [],
   "source": [
    "from scipy.stats import chi2_contingency\n",
    "table.values"
   ]
  },
  {
   "cell_type": "code",
   "execution_count": null,
   "metadata": {},
   "outputs": [],
   "source": [
    "#Chi-square test\n",
    "\n",
    "table = pd.crosstab(pay_typ,borough)\n",
    "\n",
    "from scipy.stats import chi2_contingency\n",
    "\n",
    "chi2, p , dof, expected=chi2_contingency(table.values)\n",
    "\n",
    "print('Chi-square Statistics: ', (chi2,p))"
   ]
  },
  {
   "cell_type": "code",
   "execution_count": null,
   "metadata": {},
   "outputs": [],
   "source": []
  },
  {
   "cell_type": "markdown",
   "metadata": {},
   "source": [
    "# May"
   ]
  },
  {
   "cell_type": "code",
   "execution_count": null,
   "metadata": {},
   "outputs": [],
   "source": [
    "df5 = pd.read_csv('yellow_tripdata_2018-05.csv', usecols = ['payment_type','PULocationID'])\n",
    "df5"
   ]
  },
  {
   "cell_type": "code",
   "execution_count": null,
   "metadata": {},
   "outputs": [],
   "source": [
    "# Merging the 2 tables by location id key to get borough.\n",
    "\n",
    "final_may=df.set_index('PULocationID').join(df5.set_index('LocationID'))\n",
    "del df5\n",
    "final_may"
   ]
  },
  {
   "cell_type": "code",
   "execution_count": null,
   "metadata": {},
   "outputs": [],
   "source": [
    "#Cleaning: Removing all the values containing unknown\n",
    "\n",
    "final_may= final_may[final_may.Borough != 'Unknown']\n",
    "final_may"
   ]
  },
  {
   "cell_type": "code",
   "execution_count": null,
   "metadata": {},
   "outputs": [],
   "source": [
    "#What is the most common way of payments\n",
    "\n",
    "counts1 = final_may['payment_type'].value_counts().to_dict()\n",
    "counts1\n",
    "\n",
    "#Credit Card(5996737)"
   ]
  },
  {
   "cell_type": "code",
   "execution_count": null,
   "metadata": {},
   "outputs": [],
   "source": [
    "final_may['COUNTER'] = 1\n",
    "final_may"
   ]
  },
  {
   "cell_type": "code",
   "execution_count": null,
   "metadata": {},
   "outputs": [],
   "source": [
    "#Discover the way payments are executed in each borough\n",
    "#initially, set that counter to 1.\n",
    "group_data = final_may.groupby(['payment_type','Borough']).sum() #sum function\n",
    "print(group_data)"
   ]
  },
  {
   "cell_type": "code",
   "execution_count": null,
   "metadata": {},
   "outputs": [],
   "source": [
    "group_data.columns = [\"NY: n° of payments\"]\n",
    "barplot = group_data.plot(use_index = True, y = \"NY: n° of payments\", kind = \"bar\", figsize = (15, 8))"
   ]
  },
  {
   "cell_type": "code",
   "execution_count": null,
   "metadata": {},
   "outputs": [],
   "source": [
    "group_data = group_data.groupby(['Borough'])"
   ]
  },
  {
   "cell_type": "markdown",
   "metadata": {},
   "source": [
    "# May: EWR"
   ]
  },
  {
   "cell_type": "code",
   "execution_count": null,
   "metadata": {},
   "outputs": [],
   "source": [
    "group_ewr = group_data.get_group('EWR')\n",
    "group_ewr"
   ]
  },
  {
   "cell_type": "code",
   "execution_count": null,
   "metadata": {},
   "outputs": [],
   "source": [
    "group_ewr.index = [\"Credit card\", \"Cash\", \"No charge\", \"Dispute\"]\n",
    "group_ewr.columns = [\"EWR: n° of payments\"]\n",
    "group_ewr"
   ]
  },
  {
   "cell_type": "code",
   "execution_count": null,
   "metadata": {
    "scrolled": true
   },
   "outputs": [],
   "source": [
    "barplot = group_ewr.plot(use_index = True, y = \"EWR: n° of payments\", kind = \"bar\", figsize = (8, 4))"
   ]
  },
  {
   "cell_type": "markdown",
   "metadata": {},
   "source": [
    "# May: Queens"
   ]
  },
  {
   "cell_type": "code",
   "execution_count": null,
   "metadata": {},
   "outputs": [],
   "source": [
    "group_queens = group_data.get_group('Queens')\n",
    "group_queens"
   ]
  },
  {
   "cell_type": "code",
   "execution_count": null,
   "metadata": {},
   "outputs": [],
   "source": [
    "group_queens.index = [\"Credit card\", \"Cash\", \"No charge\", \"Dispute\"]\n",
    "group_queens.columns = [\"Queens: n° of payments\"]\n",
    "group_queens"
   ]
  },
  {
   "cell_type": "code",
   "execution_count": null,
   "metadata": {},
   "outputs": [],
   "source": [
    "barplot = group_queens.plot(use_index = True, y = \"Queens: n° of payments\", kind = \"bar\", figsize = (8, 4))"
   ]
  },
  {
   "cell_type": "markdown",
   "metadata": {},
   "source": [
    "# May: Manhattan"
   ]
  },
  {
   "cell_type": "code",
   "execution_count": null,
   "metadata": {},
   "outputs": [],
   "source": [
    "group_manhattan = group_data.get_group('Manhattan')\n",
    "group_manhattan"
   ]
  },
  {
   "cell_type": "code",
   "execution_count": null,
   "metadata": {},
   "outputs": [],
   "source": [
    "group_manhattan.index = [\"Credit card\", \"Cash\", \"No charge\", \"Dispute\"]\n",
    "group_manhattan.columns = [\"Manhattan: n° of payments\"]\n",
    "group_manhattan"
   ]
  },
  {
   "cell_type": "code",
   "execution_count": null,
   "metadata": {},
   "outputs": [],
   "source": [
    "barplot = group_manhattan.plot(use_index = True, y = \"Manhattan: n° of payments\", kind = \"bar\", figsize = (8, 4))"
   ]
  },
  {
   "cell_type": "markdown",
   "metadata": {},
   "source": [
    "# May: Staten Island"
   ]
  },
  {
   "cell_type": "code",
   "execution_count": null,
   "metadata": {},
   "outputs": [],
   "source": [
    "group_statenisland = group_data.get_group('Staten Island')\n",
    "group_statenisland"
   ]
  },
  {
   "cell_type": "code",
   "execution_count": null,
   "metadata": {},
   "outputs": [],
   "source": [
    "group_statenisland.index = [\"Credit card\", \"Cash\", \"No charge\", \"Dispute\"]\n",
    "group_statenisland.columns = [\"Staten Island: n° of payments\"]\n",
    "group_statenisland"
   ]
  },
  {
   "cell_type": "code",
   "execution_count": null,
   "metadata": {
    "scrolled": true
   },
   "outputs": [],
   "source": [
    "barplot = group_statenisland.plot(use_index = True, y = \"Staten Island: n° of payments\", kind = \"bar\", figsize = (8, 4))"
   ]
  },
  {
   "cell_type": "markdown",
   "metadata": {},
   "source": [
    "# May: Brooklyn"
   ]
  },
  {
   "cell_type": "code",
   "execution_count": null,
   "metadata": {},
   "outputs": [],
   "source": [
    "group_brooklyn = group_data.get_group('Brooklyn')\n",
    "group_brooklyn"
   ]
  },
  {
   "cell_type": "code",
   "execution_count": null,
   "metadata": {},
   "outputs": [],
   "source": [
    "group_brooklyn.index = [\"Credit card\", \"Cash\", \"No charge\", \"Dispute\"]\n",
    "group_brooklyn.columns = [\"Brooklyn: n° of payments\"]\n",
    "group_brooklyn"
   ]
  },
  {
   "cell_type": "code",
   "execution_count": null,
   "metadata": {},
   "outputs": [],
   "source": [
    "barplot = group_brooklyn.plot(use_index = True, y = \"Brooklyn: n° of payments\", kind = \"bar\", figsize = (8, 4))"
   ]
  },
  {
   "cell_type": "markdown",
   "metadata": {},
   "source": [
    "# May: Bronx"
   ]
  },
  {
   "cell_type": "code",
   "execution_count": null,
   "metadata": {},
   "outputs": [],
   "source": [
    "group_bronx = group_data.get_group('Bronx')\n",
    "group_bronx"
   ]
  },
  {
   "cell_type": "code",
   "execution_count": null,
   "metadata": {},
   "outputs": [],
   "source": [
    "group_bronx.index = [\"Credit card\", \"Cash\", \"No charge\", \"Dispute\"]\n",
    "group_bronx.columns = [\"Bronx: n° of payments\"]\n",
    "group_bronx"
   ]
  },
  {
   "cell_type": "code",
   "execution_count": null,
   "metadata": {},
   "outputs": [],
   "source": [
    "barplot = group_bronx.plot(use_index = True, y = \"Bronx: n° of payments\", kind = \"bar\", figsize = (8, 4))"
   ]
  },
  {
   "cell_type": "code",
   "execution_count": null,
   "metadata": {},
   "outputs": [],
   "source": [
    "#To check the relationship b/w Borough & payment type\n",
    "\n",
    "pay_typ=final_may['payment_type']\n",
    "borough=final_may['Borough']"
   ]
  },
  {
   "cell_type": "markdown",
   "metadata": {},
   "source": [
    "# May: Chi^2 Test"
   ]
  },
  {
   "cell_type": "code",
   "execution_count": null,
   "metadata": {},
   "outputs": [],
   "source": [
    "table = pd.crosstab(pay_typ,borough)\n",
    "print(table)"
   ]
  },
  {
   "cell_type": "code",
   "execution_count": null,
   "metadata": {},
   "outputs": [],
   "source": [
    "from scipy.stats import chi2_contingency\n",
    "table.values"
   ]
  },
  {
   "cell_type": "code",
   "execution_count": null,
   "metadata": {},
   "outputs": [],
   "source": [
    "#Chi-square test\n",
    "\n",
    "table = pd.crosstab(pay_typ,borough)\n",
    "\n",
    "from scipy.stats import chi2_contingency\n",
    "\n",
    "chi2, p , dof, expected=chi2_contingency(table.values)\n",
    "\n",
    "print('Chi-square Statistics: ', (chi2,p))"
   ]
  },
  {
   "cell_type": "code",
   "execution_count": null,
   "metadata": {},
   "outputs": [],
   "source": []
  },
  {
   "cell_type": "markdown",
   "metadata": {},
   "source": [
    "# June"
   ]
  },
  {
   "cell_type": "code",
   "execution_count": null,
   "metadata": {},
   "outputs": [],
   "source": [
    "df6 = pd.read_csv('yellow_tripdata_2018-06.csv', usecols = ['payment_type','PULocationID'])\n",
    "df6"
   ]
  },
  {
   "cell_type": "code",
   "execution_count": null,
   "metadata": {},
   "outputs": [],
   "source": [
    "# Merging the 2 tables by location id key to get borough.\n",
    "\n",
    "final_jun=df.set_index('PULocationID').join(df6.set_index('LocationID'))\n",
    "del df6\n",
    "final_jun"
   ]
  },
  {
   "cell_type": "code",
   "execution_count": null,
   "metadata": {},
   "outputs": [],
   "source": [
    "#Cleaning: Removing all the values containing unknown\n",
    "\n",
    "final_jun = final_jun[final_jun.Borough != 'Unknown']\n",
    "final_jun"
   ]
  },
  {
   "cell_type": "code",
   "execution_count": null,
   "metadata": {},
   "outputs": [],
   "source": [
    "#What is the most common way of payments\n",
    "\n",
    "counts1 = final_jun['payment_type'].value_counts().to_dict()\n",
    "counts1\n",
    "\n",
    "#Credit Card(5996737)"
   ]
  },
  {
   "cell_type": "code",
   "execution_count": null,
   "metadata": {},
   "outputs": [],
   "source": [
    "final_jun['COUNTER'] = 1\n",
    "final_jun"
   ]
  },
  {
   "cell_type": "code",
   "execution_count": null,
   "metadata": {},
   "outputs": [],
   "source": [
    "#Discover the way payments are executed in each borough\n",
    "#initially, set that counter to 1.\n",
    "group_data = final_jun.groupby(['payment_type','Borough']).sum() #sum function\n",
    "print(group_data)"
   ]
  },
  {
   "cell_type": "code",
   "execution_count": null,
   "metadata": {},
   "outputs": [],
   "source": [
    "group_data.columns = [\"NY: n° of payments\"]\n",
    "barplot = group_data.plot(use_index = True, y = \"NY: n° of payments\", kind = \"bar\", figsize = (15, 8))"
   ]
  },
  {
   "cell_type": "code",
   "execution_count": null,
   "metadata": {},
   "outputs": [],
   "source": [
    "group_data = group_data.groupby(['Borough'])"
   ]
  },
  {
   "cell_type": "markdown",
   "metadata": {},
   "source": [
    "# June: EWR"
   ]
  },
  {
   "cell_type": "code",
   "execution_count": null,
   "metadata": {},
   "outputs": [],
   "source": [
    "group_ewr = group_data.get_group('EWR')\n",
    "group_ewr"
   ]
  },
  {
   "cell_type": "code",
   "execution_count": null,
   "metadata": {},
   "outputs": [],
   "source": [
    "group_ewr.index = [\"Credit card\", \"Cash\", \"No charge\", \"Dispute\"]\n",
    "group_ewr.columns = [\"EWR: n° of payments\"]\n",
    "group_ewr"
   ]
  },
  {
   "cell_type": "code",
   "execution_count": null,
   "metadata": {
    "scrolled": true
   },
   "outputs": [],
   "source": [
    "barplot = group_ewr.plot(use_index = True, y = \"EWR: n° of payments\", kind = \"bar\", figsize = (8, 4))"
   ]
  },
  {
   "cell_type": "markdown",
   "metadata": {},
   "source": [
    "# June: Queens"
   ]
  },
  {
   "cell_type": "code",
   "execution_count": null,
   "metadata": {},
   "outputs": [],
   "source": [
    "group_queens = group_data.get_group('Queens')\n",
    "group_queens"
   ]
  },
  {
   "cell_type": "code",
   "execution_count": null,
   "metadata": {},
   "outputs": [],
   "source": [
    "group_queens.index = [\"Credit card\", \"Cash\", \"No charge\", \"Dispute\"]\n",
    "group_queens.columns = [\"Queens: n° of payments\"]\n",
    "group_queens"
   ]
  },
  {
   "cell_type": "code",
   "execution_count": null,
   "metadata": {},
   "outputs": [],
   "source": [
    "barplot = group_queens.plot(use_index = True, y = \"Queens: n° of payments\", kind = \"bar\", figsize = (8, 4))"
   ]
  },
  {
   "cell_type": "markdown",
   "metadata": {},
   "source": [
    "# June: Manhattan"
   ]
  },
  {
   "cell_type": "code",
   "execution_count": null,
   "metadata": {},
   "outputs": [],
   "source": [
    "group_manhattan = group_data.get_group('Manhattan')\n",
    "group_manhattan"
   ]
  },
  {
   "cell_type": "code",
   "execution_count": null,
   "metadata": {},
   "outputs": [],
   "source": [
    "group_manhattan.index = [\"Credit card\", \"Cash\", \"No charge\", \"Dispute\"]\n",
    "group_manhattan.columns = [\"Manhattan: n° of payments\"]\n",
    "group_manhattan"
   ]
  },
  {
   "cell_type": "code",
   "execution_count": null,
   "metadata": {},
   "outputs": [],
   "source": [
    "barplot = group_manhattan.plot(use_index = True, y = \"Manhattan: n° of payments\", kind = \"bar\", figsize = (8, 4))"
   ]
  },
  {
   "cell_type": "markdown",
   "metadata": {},
   "source": [
    "# June: Staten Island"
   ]
  },
  {
   "cell_type": "code",
   "execution_count": null,
   "metadata": {},
   "outputs": [],
   "source": [
    "group_statenisland = group_data.get_group('Staten Island')\n",
    "group_statenisland"
   ]
  },
  {
   "cell_type": "code",
   "execution_count": null,
   "metadata": {},
   "outputs": [],
   "source": [
    "group_statenisland.index = [\"Credit card\", \"Cash\", \"No charge\", \"Dispute\"]\n",
    "group_statenisland.columns = [\"Staten Island: n° of payments\"]\n",
    "group_statenisland"
   ]
  },
  {
   "cell_type": "code",
   "execution_count": null,
   "metadata": {
    "scrolled": true
   },
   "outputs": [],
   "source": [
    "barplot = group_statenisland.plot(use_index = True, y = \"Staten Island: n° of payments\", kind = \"bar\", figsize = (8, 4))"
   ]
  },
  {
   "cell_type": "markdown",
   "metadata": {},
   "source": [
    "# June: Brooklyn"
   ]
  },
  {
   "cell_type": "code",
   "execution_count": null,
   "metadata": {},
   "outputs": [],
   "source": [
    "group_brooklyn = group_data.get_group('Brooklyn')\n",
    "group_brooklyn"
   ]
  },
  {
   "cell_type": "code",
   "execution_count": null,
   "metadata": {},
   "outputs": [],
   "source": [
    "group_brooklyn.index = [\"Credit card\", \"Cash\", \"No charge\", \"Dispute\"]\n",
    "group_brooklyn.columns = [\"Brooklyn: n° of payments\"]\n",
    "group_brooklyn"
   ]
  },
  {
   "cell_type": "code",
   "execution_count": null,
   "metadata": {},
   "outputs": [],
   "source": [
    "barplot = group_brooklyn.plot(use_index = True, y = \"Brooklyn: n° of payments\", kind = \"bar\", figsize = (8, 4))"
   ]
  },
  {
   "cell_type": "markdown",
   "metadata": {},
   "source": [
    "# June: Bronx"
   ]
  },
  {
   "cell_type": "code",
   "execution_count": null,
   "metadata": {},
   "outputs": [],
   "source": [
    "group_bronx = group_data.get_group('Bronx')\n",
    "group_bronx"
   ]
  },
  {
   "cell_type": "code",
   "execution_count": null,
   "metadata": {},
   "outputs": [],
   "source": [
    "group_bronx.index = [\"Credit card\", \"Cash\", \"No charge\", \"Dispute\"]\n",
    "group_bronx.columns = [\"Bronx: n° of payments\"]\n",
    "group_bronx"
   ]
  },
  {
   "cell_type": "code",
   "execution_count": null,
   "metadata": {},
   "outputs": [],
   "source": [
    "barplot = group_bronx.plot(use_index = True, y = \"Bronx: n° of payments\", kind = \"bar\", figsize = (8, 4))"
   ]
  },
  {
   "cell_type": "code",
   "execution_count": null,
   "metadata": {},
   "outputs": [],
   "source": [
    "#To check the relationship b/w Borough & payment type\n",
    "\n",
    "pay_typ=final_jun['payment_type']\n",
    "borough=final_jun['Borough']"
   ]
  },
  {
   "cell_type": "markdown",
   "metadata": {},
   "source": [
    "# June: Chi^2 Test"
   ]
  },
  {
   "cell_type": "code",
   "execution_count": null,
   "metadata": {},
   "outputs": [],
   "source": [
    "table = pd.crosstab(pay_typ,borough)\n",
    "print(table)"
   ]
  },
  {
   "cell_type": "code",
   "execution_count": null,
   "metadata": {},
   "outputs": [],
   "source": [
    "from scipy.stats import chi2_contingency\n",
    "table.values"
   ]
  },
  {
   "cell_type": "code",
   "execution_count": null,
   "metadata": {},
   "outputs": [],
   "source": [
    "#Chi-square test\n",
    "\n",
    "table = pd.crosstab(pay_typ,borough)\n",
    "\n",
    "from scipy.stats import chi2_contingency\n",
    "\n",
    "chi2, p , dof, expected=chi2_contingency(table.values)\n",
    "\n",
    "print('Chi-square Statistics: ', (chi2,p))"
   ]
  }
 ],
 "metadata": {
  "kernelspec": {
   "display_name": "Python 3",
   "language": "python",
   "name": "python3"
  },
  "language_info": {
   "codemirror_mode": {
    "name": "ipython",
    "version": 3
   },
   "file_extension": ".py",
   "mimetype": "text/x-python",
   "name": "python",
   "nbconvert_exporter": "python",
   "pygments_lexer": "ipython3",
   "version": "3.7.0"
  }
 },
 "nbformat": 4,
 "nbformat_minor": 2
}
